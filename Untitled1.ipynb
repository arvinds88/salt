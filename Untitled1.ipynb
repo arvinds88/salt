{
 "cells": [
  {
   "cell_type": "code",
   "execution_count": 78,
   "id": "87353759",
   "metadata": {
    "scrolled": true
   },
   "outputs": [],
   "source": [
    "import pandas as pd\n",
    "import numpy as np\n",
    "import os\n",
    "import mysql.connector\n",
    "from pandas import DataFrame"
   ]
  },
  {
   "cell_type": "code",
   "execution_count": 68,
   "id": "e9487e00",
   "metadata": {},
   "outputs": [],
   "source": [
    "os.chdir('/Users/arvind/Documents/Work/Zoho WorkDrive (Educational Initiatives Private Limited)/My Folders/Projects/SALT/Dashboards')"
   ]
  },
  {
   "cell_type": "code",
   "execution_count": 79,
   "id": "826fc52d",
   "metadata": {},
   "outputs": [],
   "source": [
    "mydb = mysql.connector.connect(\n",
    "  host=\"13.235.20.79\",\n",
    "  user=\"bhrseluser\",\n",
    "  password=\"bhrsel2014\"\n",
    ")"
   ]
  },
  {
   "cell_type": "code",
   "execution_count": 44,
   "id": "5b585d28",
   "metadata": {},
   "outputs": [],
   "source": [
    "df = pd.DataFrame()"
   ]
  },
  {
   "cell_type": "code",
   "execution_count": 87,
   "id": "feb47141",
   "metadata": {},
   "outputs": [],
   "source": [
    "listfiles_hindi = [293, 303, 304]\n",
    "listfiles_eng = [305, 306, 307, 308, 309, 310, 311, 312]"
   ]
  },
  {
   "cell_type": "code",
   "execution_count": 88,
   "id": "ff1be77b",
   "metadata": {},
   "outputs": [],
   "source": [
    "def addColumns_English(data,x):\n",
    "    if x - len(data.columns) == 10:\n",
    "        data = data.assign(NQ16=88,NQ17=88,NQ18=88,NQ19=88,NQ20=88\\\n",
    "                           ,Score_NQ16=0,Score_NQ17=0,Score_NQ18=0,Score_NQ19=0,Score_NQ20=0)\n",
    "    elif x - len(data.columns) == 8:\n",
    "        data = data.assign(NQ17=88,NQ18=88,NQ19=88,NQ20=88\\\n",
    "                           ,Score_NQ17=0,Score_NQ18=0,Score_NQ19=0,Score_NQ20=0)\n",
    "    elif x - len(data.columns) == 6:\n",
    "        data = data.assign(NQ18=88,NQ19=88,NQ20=88\\\n",
    "                           ,Score_NQ18=0,Score_NQ19=0,Score_NQ20=0)\n",
    "    elif x - len(data.columns) == 4:\n",
    "        data = data.assign(NQ19=88,NQ20=88\\\n",
    "                           ,Score_NQ19=0,Score_NQ20=0)\n",
    "    elif x - len(data.columns) == 2:\n",
    "        data = data.assign(NQ20=88,Score_NQ20=0)\n",
    "    else:\n",
    "        return data"
   ]
  },
  {
   "cell_type": "code",
   "execution_count": 89,
   "id": "df60b43f",
   "metadata": {},
   "outputs": [],
   "source": [
    "def addColumns_Hindi(data,x):\n",
    "    if x - len(data.columns) == 10:\n",
    "        data = data.assign(LQ16=88,LQ17=88,LQ18=88,LQ19=88,LQ20=88\\\n",
    "                           ,Score_LQ16=0,Score_LQ17=0,Score_LQ18=0,Score_LQ19=0,Score_LQ20=0)\n",
    "    elif x - len(data.columns) == 8:\n",
    "        data = data.assign(LQ17=88,LQ18=88,LQ19=88,LQ20=88\\\n",
    "                           ,Score_LQ17=0,Score_LQ18=0,Score_LQ19=0,Score_LQ20=0)\n",
    "    elif x - len(data.columns) == 6:\n",
    "        data = data.assign(LQ18=88,LQ19=88,LQ20=88\\\n",
    "                           ,Score_LQ18=0,Score_LQ19=0,Score_LQ20=0)\n",
    "    elif x - len(data.columns) == 4:\n",
    "        data = data.assign(LQ19=88,LQ20=88\\\n",
    "                           ,Score_LQ19=0,Score_LQ20=0)\n",
    "    elif x - len(data.columns) == 2:\n",
    "        data = data.assign(LQ20=88,Score_LQ20=0)\n",
    "    else:\n",
    "        return data"
   ]
  },
  {
   "cell_type": "code",
   "execution_count": 76,
   "id": "5dd5f6f6",
   "metadata": {},
   "outputs": [],
   "source": [
    "#Simplified code to add columns\n",
    "def addColumns(data,x,y):\n",
    "    for i in (x - len(data.columns))/2:\n",
    "        c1=f\"{y}Q{i}\"\n",
    "        c2=f\"Score_{y}Q{i}\"\n",
    "        data = data.assign(c1=88,c2=0)\n",
    "    return data       "
   ]
  },
  {
   "cell_type": "code",
   "execution_count": 66,
   "id": "6ebdb021",
   "metadata": {
    "collapsed": true
   },
   "outputs": [
    {
     "name": "stderr",
     "output_type": "stream",
     "text": [
      "/opt/anaconda3/lib/python3.9/site-packages/pandas/io/sql.py:761: UserWarning: pandas only support SQLAlchemy connectable(engine/connection) ordatabase string URI or sqlite3 DBAPI2 connectionother DBAPI2 objects are not tested, please consider using SQLAlchemy\n",
      "  warnings.warn(\n",
      "/opt/anaconda3/lib/python3.9/site-packages/pandas/io/sql.py:761: UserWarning: pandas only support SQLAlchemy connectable(engine/connection) ordatabase string URI or sqlite3 DBAPI2 connectionother DBAPI2 objects are not tested, please consider using SQLAlchemy\n",
      "  warnings.warn(\n",
      "/opt/anaconda3/lib/python3.9/site-packages/pandas/io/sql.py:761: UserWarning: pandas only support SQLAlchemy connectable(engine/connection) ordatabase string URI or sqlite3 DBAPI2 connectionother DBAPI2 objects are not tested, please consider using SQLAlchemy\n",
      "  warnings.warn(\n",
      "/opt/anaconda3/lib/python3.9/site-packages/pandas/io/sql.py:761: UserWarning: pandas only support SQLAlchemy connectable(engine/connection) ordatabase string URI or sqlite3 DBAPI2 connectionother DBAPI2 objects are not tested, please consider using SQLAlchemy\n",
      "  warnings.warn(\n",
      "/opt/anaconda3/lib/python3.9/site-packages/pandas/io/sql.py:761: UserWarning: pandas only support SQLAlchemy connectable(engine/connection) ordatabase string URI or sqlite3 DBAPI2 connectionother DBAPI2 objects are not tested, please consider using SQLAlchemy\n",
      "  warnings.warn(\n",
      "/opt/anaconda3/lib/python3.9/site-packages/pandas/io/sql.py:761: UserWarning: pandas only support SQLAlchemy connectable(engine/connection) ordatabase string URI or sqlite3 DBAPI2 connectionother DBAPI2 objects are not tested, please consider using SQLAlchemy\n",
      "  warnings.warn(\n",
      "/opt/anaconda3/lib/python3.9/site-packages/pandas/io/sql.py:761: UserWarning: pandas only support SQLAlchemy connectable(engine/connection) ordatabase string URI or sqlite3 DBAPI2 connectionother DBAPI2 objects are not tested, please consider using SQLAlchemy\n",
      "  warnings.warn(\n",
      "/opt/anaconda3/lib/python3.9/site-packages/pandas/io/sql.py:761: UserWarning: pandas only support SQLAlchemy connectable(engine/connection) ordatabase string URI or sqlite3 DBAPI2 connectionother DBAPI2 objects are not tested, please consider using SQLAlchemy\n",
      "  warnings.warn(\n",
      "/opt/anaconda3/lib/python3.9/site-packages/pandas/io/sql.py:761: UserWarning: pandas only support SQLAlchemy connectable(engine/connection) ordatabase string URI or sqlite3 DBAPI2 connectionother DBAPI2 objects are not tested, please consider using SQLAlchemy\n",
      "  warnings.warn(\n",
      "/opt/anaconda3/lib/python3.9/site-packages/pandas/io/sql.py:761: UserWarning: pandas only support SQLAlchemy connectable(engine/connection) ordatabase string URI or sqlite3 DBAPI2 connectionother DBAPI2 objects are not tested, please consider using SQLAlchemy\n",
      "  warnings.warn(\n",
      "/opt/anaconda3/lib/python3.9/site-packages/pandas/io/sql.py:761: UserWarning: pandas only support SQLAlchemy connectable(engine/connection) ordatabase string URI or sqlite3 DBAPI2 connectionother DBAPI2 objects are not tested, please consider using SQLAlchemy\n",
      "  warnings.warn(\n"
     ]
    }
   ],
   "source": [
    "for file in listfiles_hindi:\n",
    "    sql = f\"select * from educatio_lis.dp_assessment_{file}\"\n",
    "    dft = pd.read_sql(sql, mydb)\n",
    "    dft = addColumns_Hindi(dft,57)\n",
    "    df = pd.concat([df,dft])"
   ]
  },
  {
   "cell_type": "code",
   "execution_count": 69,
   "id": "c092aa91",
   "metadata": {},
   "outputs": [],
   "source": [
    "df.to_pickle('./CBAScoredFiles/hindi.pkl')"
   ]
  },
  {
   "cell_type": "code",
   "execution_count": 83,
   "id": "32fa5a59",
   "metadata": {},
   "outputs": [],
   "source": [
    "df = pd.DataFrame()"
   ]
  },
  {
   "cell_type": "code",
   "execution_count": 84,
   "id": "31cb57cf",
   "metadata": {},
   "outputs": [
    {
     "name": "stderr",
     "output_type": "stream",
     "text": [
      "/opt/anaconda3/lib/python3.9/site-packages/pandas/io/sql.py:761: UserWarning: pandas only support SQLAlchemy connectable(engine/connection) ordatabase string URI or sqlite3 DBAPI2 connectionother DBAPI2 objects are not tested, please consider using SQLAlchemy\n",
      "  warnings.warn(\n",
      "/opt/anaconda3/lib/python3.9/site-packages/pandas/io/sql.py:761: UserWarning: pandas only support SQLAlchemy connectable(engine/connection) ordatabase string URI or sqlite3 DBAPI2 connectionother DBAPI2 objects are not tested, please consider using SQLAlchemy\n",
      "  warnings.warn(\n",
      "/opt/anaconda3/lib/python3.9/site-packages/pandas/io/sql.py:761: UserWarning: pandas only support SQLAlchemy connectable(engine/connection) ordatabase string URI or sqlite3 DBAPI2 connectionother DBAPI2 objects are not tested, please consider using SQLAlchemy\n",
      "  warnings.warn(\n",
      "/opt/anaconda3/lib/python3.9/site-packages/pandas/io/sql.py:761: UserWarning: pandas only support SQLAlchemy connectable(engine/connection) ordatabase string URI or sqlite3 DBAPI2 connectionother DBAPI2 objects are not tested, please consider using SQLAlchemy\n",
      "  warnings.warn(\n",
      "/opt/anaconda3/lib/python3.9/site-packages/pandas/io/sql.py:761: UserWarning: pandas only support SQLAlchemy connectable(engine/connection) ordatabase string URI or sqlite3 DBAPI2 connectionother DBAPI2 objects are not tested, please consider using SQLAlchemy\n",
      "  warnings.warn(\n",
      "/opt/anaconda3/lib/python3.9/site-packages/pandas/io/sql.py:761: UserWarning: pandas only support SQLAlchemy connectable(engine/connection) ordatabase string URI or sqlite3 DBAPI2 connectionother DBAPI2 objects are not tested, please consider using SQLAlchemy\n",
      "  warnings.warn(\n",
      "/opt/anaconda3/lib/python3.9/site-packages/pandas/io/sql.py:761: UserWarning: pandas only support SQLAlchemy connectable(engine/connection) ordatabase string URI or sqlite3 DBAPI2 connectionother DBAPI2 objects are not tested, please consider using SQLAlchemy\n",
      "  warnings.warn(\n",
      "/opt/anaconda3/lib/python3.9/site-packages/pandas/io/sql.py:761: UserWarning: pandas only support SQLAlchemy connectable(engine/connection) ordatabase string URI or sqlite3 DBAPI2 connectionother DBAPI2 objects are not tested, please consider using SQLAlchemy\n",
      "  warnings.warn(\n"
     ]
    }
   ],
   "source": [
    "for file in listfiles_eng:\n",
    "    sql = f\"select * from educatio_lis.dp_assessment_{file}\"\n",
    "    dft = pd.read_sql(sql, mydb)\n",
    "    dft = addColumns_English(dft,57)\n",
    "    df = pd.concat([df,dft])"
   ]
  },
  {
   "cell_type": "code",
   "execution_count": 85,
   "id": "17feb1d6",
   "metadata": {},
   "outputs": [],
   "source": [
    "df.to_pickle('./CBAScoredFiles/eng.pkl')"
   ]
  },
  {
   "cell_type": "code",
   "execution_count": 86,
   "id": "dae37f20",
   "metadata": {},
   "outputs": [
    {
     "data": {
      "text/html": [
       "<div>\n",
       "<style scoped>\n",
       "    .dataframe tbody tr th:only-of-type {\n",
       "        vertical-align: middle;\n",
       "    }\n",
       "\n",
       "    .dataframe tbody tr th {\n",
       "        vertical-align: top;\n",
       "    }\n",
       "\n",
       "    .dataframe thead th {\n",
       "        text-align: right;\n",
       "    }\n",
       "</style>\n",
       "<table border=\"1\" class=\"dataframe\">\n",
       "  <thead>\n",
       "    <tr style=\"text-align: right;\">\n",
       "      <th></th>\n",
       "    </tr>\n",
       "  </thead>\n",
       "  <tbody>\n",
       "  </tbody>\n",
       "</table>\n",
       "</div>"
      ],
      "text/plain": [
       "Empty DataFrame\n",
       "Columns: []\n",
       "Index: []"
      ]
     },
     "execution_count": 86,
     "metadata": {},
     "output_type": "execute_result"
    }
   ],
   "source": [
    "df.head()"
   ]
  },
  {
   "cell_type": "code",
   "execution_count": null,
   "id": "e8619677",
   "metadata": {},
   "outputs": [],
   "source": []
  }
 ],
 "metadata": {
  "kernelspec": {
   "display_name": "Python 3 (ipykernel)",
   "language": "python",
   "name": "python3"
  },
  "language_info": {
   "codemirror_mode": {
    "name": "ipython",
    "version": 3
   },
   "file_extension": ".py",
   "mimetype": "text/x-python",
   "name": "python",
   "nbconvert_exporter": "python",
   "pygments_lexer": "ipython3",
   "version": "3.9.12"
  }
 },
 "nbformat": 4,
 "nbformat_minor": 5
}

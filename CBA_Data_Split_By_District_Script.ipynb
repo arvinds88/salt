{
 "cells": [
  {
   "cell_type": "code",
   "execution_count": 1,
   "id": "87353759",
   "metadata": {},
   "outputs": [],
   "source": [
    "import pandas as pd\n",
    "import numpy as np\n",
    "import os"
   ]
  },
  {
   "cell_type": "code",
   "execution_count": 2,
   "id": "e9487e00",
   "metadata": {},
   "outputs": [],
   "source": [
    "os.chdir('/Users/arvind/Documents/Work/Zoho WorkDrive (Educational Initiatives Private Limited)/My Folders/Projects/SALT/Dashboards/CBALongPickleFiles')"
   ]
  },
  {
   "cell_type": "code",
   "execution_count": 3,
   "id": "3874ec0d",
   "metadata": {},
   "outputs": [],
   "source": [
    "files = os.listdir()"
   ]
  },
  {
   "cell_type": "code",
   "execution_count": 4,
   "id": "3d3df945",
   "metadata": {},
   "outputs": [],
   "source": [
    "df = pd.DataFrame()"
   ]
  },
  {
   "cell_type": "code",
   "execution_count": 5,
   "id": "4b1b2af5",
   "metadata": {
    "scrolled": false
   },
   "outputs": [
    {
     "name": "stderr",
     "output_type": "stream",
     "text": [
      "/var/folders/0c/r0hw428532s7bttp9my0ym_00000gn/T/ipykernel_1063/149842634.py:3: FutureWarning: The frame.append method is deprecated and will be removed from pandas in a future version. Use pandas.concat instead.\n",
      "  df = df.append(dt,ignore_index=True)\n",
      "/var/folders/0c/r0hw428532s7bttp9my0ym_00000gn/T/ipykernel_1063/149842634.py:3: FutureWarning: The frame.append method is deprecated and will be removed from pandas in a future version. Use pandas.concat instead.\n",
      "  df = df.append(dt,ignore_index=True)\n",
      "/var/folders/0c/r0hw428532s7bttp9my0ym_00000gn/T/ipykernel_1063/149842634.py:3: FutureWarning: The frame.append method is deprecated and will be removed from pandas in a future version. Use pandas.concat instead.\n",
      "  df = df.append(dt,ignore_index=True)\n",
      "/var/folders/0c/r0hw428532s7bttp9my0ym_00000gn/T/ipykernel_1063/149842634.py:3: FutureWarning: The frame.append method is deprecated and will be removed from pandas in a future version. Use pandas.concat instead.\n",
      "  df = df.append(dt,ignore_index=True)\n",
      "/var/folders/0c/r0hw428532s7bttp9my0ym_00000gn/T/ipykernel_1063/149842634.py:3: FutureWarning: The frame.append method is deprecated and will be removed from pandas in a future version. Use pandas.concat instead.\n",
      "  df = df.append(dt,ignore_index=True)\n",
      "/var/folders/0c/r0hw428532s7bttp9my0ym_00000gn/T/ipykernel_1063/149842634.py:3: FutureWarning: The frame.append method is deprecated and will be removed from pandas in a future version. Use pandas.concat instead.\n",
      "  df = df.append(dt,ignore_index=True)\n",
      "/var/folders/0c/r0hw428532s7bttp9my0ym_00000gn/T/ipykernel_1063/149842634.py:3: FutureWarning: The frame.append method is deprecated and will be removed from pandas in a future version. Use pandas.concat instead.\n",
      "  df = df.append(dt,ignore_index=True)\n",
      "/var/folders/0c/r0hw428532s7bttp9my0ym_00000gn/T/ipykernel_1063/149842634.py:3: FutureWarning: The frame.append method is deprecated and will be removed from pandas in a future version. Use pandas.concat instead.\n",
      "  df = df.append(dt,ignore_index=True)\n",
      "/var/folders/0c/r0hw428532s7bttp9my0ym_00000gn/T/ipykernel_1063/149842634.py:3: FutureWarning: The frame.append method is deprecated and will be removed from pandas in a future version. Use pandas.concat instead.\n",
      "  df = df.append(dt,ignore_index=True)\n",
      "/var/folders/0c/r0hw428532s7bttp9my0ym_00000gn/T/ipykernel_1063/149842634.py:3: FutureWarning: The frame.append method is deprecated and will be removed from pandas in a future version. Use pandas.concat instead.\n",
      "  df = df.append(dt,ignore_index=True)\n"
     ]
    }
   ],
   "source": [
    "for file in files:\n",
    "    dt = pd.read_pickle(file)\n",
    "    df = df.append(dt,ignore_index=True)"
   ]
  },
  {
   "cell_type": "code",
   "execution_count": null,
   "id": "ffd1e897",
   "metadata": {},
   "outputs": [],
   "source": [
    "# group_list = [\n",
    "# 'State',\n",
    "# 'District',\n",
    "# 'Mandal',\n",
    "# 'School',\n",
    "# 'Udise',\n",
    "# 'School_Type',\n",
    "# 'Grade',\n",
    "# 'Gender',\n",
    "# 'Social_Category',\n",
    "# 'Subject',\n",
    "# 'Question_no',\n",
    "# 'Topic',\n",
    "# 'Skill',\n",
    "# 'Characteristic']"
   ]
  },
  {
   "cell_type": "code",
   "execution_count": null,
   "id": "a3a2c6fa",
   "metadata": {},
   "outputs": [],
   "source": [
    "# df = df.groupby(group_list).agg(\n",
    "#     total = pd.NamedAgg(column='Score', aggfunc=sum),\n",
    "#     n = pd.NamedAgg(column='Score', aggfunc='count')"
   ]
  },
  {
   "cell_type": "code",
   "execution_count": 6,
   "id": "13bfa0c4",
   "metadata": {},
   "outputs": [],
   "source": [
    "os.chdir('/Users/arvind/Documents/Work/Zoho WorkDrive (Educational Initiatives Private Limited)/My Folders/Projects/SALT/Dashboards/CBADistrictFiles')"
   ]
  },
  {
   "cell_type": "code",
   "execution_count": 8,
   "id": "a6d18219",
   "metadata": {},
   "outputs": [],
   "source": [
    "unique_values = df['District'].unique()"
   ]
  },
  {
   "cell_type": "code",
   "execution_count": 10,
   "id": "e1612618",
   "metadata": {},
   "outputs": [],
   "source": [
    "for label in unique_values:\n",
    "    split_target_file = f\"CBA_ScoredLong_{label}.csv\"\n",
    "    df_label = df[df['District'] == label]\n",
    "    df_label.to_csv(split_target_file, index=False, header=True)"
   ]
  },
  {
   "cell_type": "code",
   "execution_count": null,
   "id": "7115a67e",
   "metadata": {},
   "outputs": [],
   "source": [
    "os.chdir('/Users/arvind/Documents/Work/Zoho WorkDrive (Educational Initiatives Private Limited)/My Folders/Projects/SALT/Dashboards/CBABigFile')"
   ]
  },
  {
   "cell_type": "code",
   "execution_count": 12,
   "id": "03dbce8d",
   "metadata": {},
   "outputs": [],
   "source": [
    "df = pd.DataFrame()\n",
    "df_label = pd.DataFrame()"
   ]
  },
  {
   "cell_type": "code",
   "execution_count": null,
   "id": "61c5f63c",
   "metadata": {},
   "outputs": [],
   "source": []
  }
 ],
 "metadata": {
  "kernelspec": {
   "display_name": "Python 3 (ipykernel)",
   "language": "python",
   "name": "python3"
  },
  "language_info": {
   "codemirror_mode": {
    "name": "ipython",
    "version": 3
   },
   "file_extension": ".py",
   "mimetype": "text/x-python",
   "name": "python",
   "nbconvert_exporter": "python",
   "pygments_lexer": "ipython3",
   "version": "3.9.12"
  }
 },
 "nbformat": 4,
 "nbformat_minor": 5
}

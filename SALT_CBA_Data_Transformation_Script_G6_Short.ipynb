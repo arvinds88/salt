{
 "cells": [
  {
   "cell_type": "code",
   "execution_count": 41,
   "id": "87353759",
   "metadata": {},
   "outputs": [],
   "source": [
    "import pandas as pd\n",
    "import numpy as np\n",
    "import os"
   ]
  },
  {
   "cell_type": "code",
   "execution_count": 42,
   "id": "0e075bbb",
   "metadata": {},
   "outputs": [],
   "source": [
    "os.chdir('/Users/arvind/Documents/Work/Zoho WorkDrive (Educational Initiatives Private Limited)/My Folders/Projects/SALT/Dashboards/')"
   ]
  },
  {
   "cell_type": "code",
   "execution_count": 43,
   "id": "3f475a82",
   "metadata": {},
   "outputs": [],
   "source": [
    "df = pd.read_csv('./CBAScoredFiles/g6.csv')"
   ]
  },
  {
   "cell_type": "code",
   "execution_count": 47,
   "id": "06a86a6a",
   "metadata": {},
   "outputs": [],
   "source": [
    "drop = [\n",
    " 'LQ16',\n",
    " 'LQ17',\n",
    " 'LQ18',\n",
    " 'LQ19',\n",
    " 'Score_LQ16',\n",
    " 'Score_LQ17',\n",
    " 'Score_LQ18',\n",
    " 'Score_LQ19',\n",
    " 'MQ16',\n",
    " 'MQ17',\n",
    " 'MQ18',\n",
    " 'MQ19',\n",
    " 'Score_MQ16',\n",
    " 'Score_MQ17',\n",
    " 'Score_MQ18',\n",
    " 'Score_MQ19',\n",
    " 'SQ16',\n",
    " 'SQ17',\n",
    " 'SQ18',\n",
    " 'SQ19',\n",
    " 'Score_SQ16',\n",
    " 'Score_SQ17',\n",
    " 'Score_SQ18',\n",
    " 'Score_SQ19',\n",
    " 'OQ16',\n",
    " 'OQ17',\n",
    " 'OQ18',\n",
    " 'OQ19',\n",
    " 'Score_OQ16',\n",
    " 'Score_OQ17',\n",
    " 'Score_OQ18',\n",
    " 'Score_OQ19'\n",
    "]"
   ]
  },
  {
   "cell_type": "code",
   "execution_count": 48,
   "id": "3fc7ebc6",
   "metadata": {},
   "outputs": [],
   "source": [
    "df.drop(drop, axis = 1, inplace=True)"
   ]
  },
  {
   "cell_type": "code",
   "execution_count": 49,
   "id": "b3b0f8df",
   "metadata": {},
   "outputs": [],
   "source": [
    "unwanted = ('student_id','disecode','student_name','class','section','roll_no','unique_id','gender','social_category','medium_id'\n",
    "            ,'Language_paperset','Language_jumble_set','Language_present_absent','LanguageTotal','LanguagePercentage_old','LanguagePercentage','Language_cheating_drop'\n",
    "            ,'Maths_paperset','Maths_jumble_set','Maths_present_absent','MathsTotal','MathsPercentage_old','MathsPercentage','Maths_cheating_drop'\n",
    "            ,'EVS_paperset','EVS_jumble_set','EVS_present_absent','EVSTotal','EVSPercentage_old','EVSPercentage','EVS_cheating_drop'\n",
    "            ,'Science_paperset','Science_jumble_set','Science_present_absent','ScienceTotal','SciencePercentage_old','SciencePercentage','Science_cheating_drop'\n",
    "            ,'SS_paperset','SS_jumble_set','SS_present_absent','SSTotal','SSPercentage_old','SSPercentage','SS_cheating_drop'\n",
    "           )"
   ]
  },
  {
   "cell_type": "code",
   "execution_count": 50,
   "id": "a1861839",
   "metadata": {},
   "outputs": [],
   "source": [
    "var_list = list(df)"
   ]
  },
  {
   "cell_type": "code",
   "execution_count": 51,
   "id": "c58f656f",
   "metadata": {},
   "outputs": [],
   "source": [
    "#EQ = EVS, MQ = Maths, LQ = Language (Telugu), SQ = Science, OQ = Social Science\n",
    "prefixes = ('EQ','MQ','LQ','SQ','OQ')\n",
    "dropped = [x for x in var_list if x.startswith(prefixes)]"
   ]
  },
  {
   "cell_type": "code",
   "execution_count": 52,
   "id": "6a2b3f46",
   "metadata": {},
   "outputs": [],
   "source": [
    "df.drop(dropped, axis = 1 , inplace = True)"
   ]
  },
  {
   "cell_type": "code",
   "execution_count": 53,
   "id": "3439f04a",
   "metadata": {},
   "outputs": [],
   "source": [
    "var_list = list(df)"
   ]
  },
  {
   "cell_type": "code",
   "execution_count": 54,
   "id": "e6361d0f",
   "metadata": {},
   "outputs": [],
   "source": [
    "retain = [ele for ele in var_list if ele not in unwanted]"
   ]
  },
  {
   "cell_type": "code",
   "execution_count": 55,
   "id": "5e9a6c90",
   "metadata": {},
   "outputs": [],
   "source": [
    "#Define dimensions based on grade - present absent flag will change based on the subjects relevant to that grade\n",
    "#G2 - Maths, Language; G3,4,5 - EVS, Maths, Language; G6,7,8 - Maths, Language, SS, Science\n",
    "dimensions = ['unique_id','disecode','student_name','class'\n",
    "                                  ,'gender','social_category'\n",
    "                                  ,'Language_present_absent'\n",
    "                                  ,'Maths_present_absent'\n",
    "                                  ,'SS_present_absent'\n",
    "                                  ,'Science_present_absent'\n",
    "                                ]"
   ]
  },
  {
   "cell_type": "code",
   "execution_count": 56,
   "id": "fc7784c2",
   "metadata": {
    "scrolled": true
   },
   "outputs": [],
   "source": [
    "df = pd.melt(df,id_vars = dimensions\n",
    "                        ,value_vars = retain)"
   ]
  },
  {
   "cell_type": "code",
   "execution_count": 57,
   "id": "80548437",
   "metadata": {},
   "outputs": [],
   "source": [
    "df[['S','Q']] = df['variable'].str.split('_',1,expand=True)"
   ]
  },
  {
   "cell_type": "code",
   "execution_count": 58,
   "id": "29048bcd",
   "metadata": {},
   "outputs": [],
   "source": [
    "df[['Subject','Question']] = df['Q'].str.split('Q',1,expand=True)"
   ]
  },
  {
   "cell_type": "code",
   "execution_count": 59,
   "id": "717a9be2",
   "metadata": {},
   "outputs": [],
   "source": [
    "#Language mapped as Telugu for general files; English and Hindi will be separate scored files altogether\n",
    "df.loc[df[\"Subject\"]==\"L\",\"Subject\"]=\"Telugu\"\n",
    "df.loc[df[\"Subject\"]==\"M\",\"Subject\"]=\"Maths\"\n",
    "df.loc[df[\"Subject\"]==\"E\",\"Subject\"]=\"EVS\"\n",
    "df.loc[df[\"Subject\"]==\"O\",\"Subject\"]=\"SS\"\n",
    "df.loc[df[\"Subject\"]==\"S\",\"Subject\"]=\"Science\""
   ]
  },
  {
   "cell_type": "code",
   "execution_count": 60,
   "id": "462007de",
   "metadata": {},
   "outputs": [],
   "source": [
    "df = df.drop(['variable','S','Q'],axis=1)"
   ]
  },
  {
   "cell_type": "code",
   "execution_count": 61,
   "id": "ed585c40",
   "metadata": {},
   "outputs": [],
   "source": [
    "df.fillna('',inplace = True)"
   ]
  },
  {
   "cell_type": "code",
   "execution_count": 62,
   "id": "0e763c01",
   "metadata": {},
   "outputs": [],
   "source": [
    "#Define dimensions based on grade - present absent flag will change based on the subjects relevant to that grade\n",
    "#G2 - Maths, Language; G3,4,5 - EVS, Maths, Language; G6,7,8 - Maths, Language, SS, Science\n",
    "indexELM = df[(((df['Language_present_absent']=='A')|(df['Language_present_absent']==''))&(df['Subject']=='Telugu'))|\n",
    "                       (((df['Maths_present_absent']=='A')|(df['Maths_present_absent']==''))&(df['Subject']=='Maths'))|\n",
    "                       (((df['SS_present_absent']=='A')|(df['SS_present_absent']==''))&(df['Subject']=='SS'))|\n",
    "                       (((df['Science_present_absent']=='A')|(df['Science_present_absent']==''))&(df['Subject']=='Science'))\n",
    "                      ].index\n",
    "\n",
    "df.drop(indexELM, inplace=True)"
   ]
  },
  {
   "cell_type": "code",
   "execution_count": 63,
   "id": "26639704",
   "metadata": {},
   "outputs": [],
   "source": [
    "#Define dimensions based on grade - present absent flag will change based on the subjects relevant to that grade\n",
    "#G2 - Maths, Language; G3,4,5 - EVS, Maths, Language; G6,7,8 - Maths, Language, SS, Science\n",
    "df = df.drop(['Language_present_absent','Maths_present_absent','SS_present_absent','Science_present_absent'],axis=1)"
   ]
  },
  {
   "cell_type": "code",
   "execution_count": 64,
   "id": "239e23be",
   "metadata": {},
   "outputs": [],
   "source": [
    "df['Question'] = df['Question'].astype(np.int64)"
   ]
  },
  {
   "cell_type": "code",
   "execution_count": 65,
   "id": "63af6b03",
   "metadata": {},
   "outputs": [],
   "source": [
    "df = df.rename(columns = {'unique_id':'Child_Id','disecode':'Udise','student_name':'Child_Name'\\\n",
    "                          ,'class':'Grade','gender':'Gender','social_category':'Social_Category'\\\n",
    "                          ,'value':'Score','Subject':'Subject'\\\n",
    "                          ,'Question':'Question_no'})"
   ]
  },
  {
   "cell_type": "markdown",
   "id": "28b1ddc6",
   "metadata": {},
   "source": [
    "<h1 style=\"color:blue;\">\n",
    "    School mapping\n",
    "</h1>"
   ]
  },
  {
   "cell_type": "code",
   "execution_count": 66,
   "id": "8958afcc",
   "metadata": {},
   "outputs": [],
   "source": [
    "school_mapping = pd.read_excel('./MappingFiles/AP_SchoolMaster_DistrictMandal_Mapping.xlsx')"
   ]
  },
  {
   "cell_type": "code",
   "execution_count": 67,
   "id": "239879b0",
   "metadata": {},
   "outputs": [],
   "source": [
    "# school_mapping['SCHOOLCODE'] = school_mapping['SCHOOLCODE'].astype(str)"
   ]
  },
  {
   "cell_type": "code",
   "execution_count": 68,
   "id": "27515734",
   "metadata": {},
   "outputs": [],
   "source": [
    "school_mapping = school_mapping.rename(columns = {'SCHOOLCODE':'Udise'})"
   ]
  },
  {
   "cell_type": "code",
   "execution_count": 69,
   "id": "001cc65b",
   "metadata": {},
   "outputs": [],
   "source": [
    "df = pd.merge(df,school_mapping,how='left',on='Udise')"
   ]
  },
  {
   "cell_type": "code",
   "execution_count": 70,
   "id": "3d4be3dd",
   "metadata": {},
   "outputs": [],
   "source": [
    "question_mapping = pd.read_csv('./MappingFiles/cba1_answer_key_with_question_info.csv')"
   ]
  },
  {
   "cell_type": "code",
   "execution_count": 71,
   "id": "fdf1664a",
   "metadata": {},
   "outputs": [],
   "source": [
    "question_mapping['subject'] =  np.where(question_mapping['subject']=='Language'\\\n",
    "                                        , question_mapping['medium']\\\n",
    "                                        , question_mapping['subject'])"
   ]
  },
  {
   "cell_type": "code",
   "execution_count": 72,
   "id": "55fd40d3",
   "metadata": {},
   "outputs": [],
   "source": [
    "question_mapping['subject'] = np.where(question_mapping['subject']=='Biology','Science'\\\n",
    "                                       ,question_mapping['subject'])"
   ]
  },
  {
   "cell_type": "code",
   "execution_count": 73,
   "id": "b30cf351",
   "metadata": {},
   "outputs": [],
   "source": [
    "question_mapping['subject'] = np.where(question_mapping['subject']=='Physics','Science'\\\n",
    "                                       ,question_mapping['subject'])"
   ]
  },
  {
   "cell_type": "code",
   "execution_count": 74,
   "id": "0d7d4011",
   "metadata": {},
   "outputs": [],
   "source": [
    "question_mapping = question_mapping[['class','subject','qno','skill_name','topic_name','characteristics']]"
   ]
  },
  {
   "cell_type": "code",
   "execution_count": 75,
   "id": "7bfc4fbb",
   "metadata": {},
   "outputs": [],
   "source": [
    "question_mapping.drop_duplicates(keep='first', inplace=True)"
   ]
  },
  {
   "cell_type": "code",
   "execution_count": 76,
   "id": "e157c8e9",
   "metadata": {},
   "outputs": [],
   "source": [
    "question_mapping = question_mapping.rename(columns={'class':'Grade','subject':'Subject','qno':'Question_no'})"
   ]
  },
  {
   "cell_type": "code",
   "execution_count": 77,
   "id": "aa404f29",
   "metadata": {},
   "outputs": [],
   "source": [
    "df = pd.merge(df,question_mapping,how='left',on=['Grade','Subject','Question_no'])"
   ]
  },
  {
   "cell_type": "code",
   "execution_count": 78,
   "id": "cab969e5",
   "metadata": {},
   "outputs": [],
   "source": [
    "df = df.assign(State='Andhra Pradesh')"
   ]
  },
  {
   "cell_type": "code",
   "execution_count": 79,
   "id": "96c442a1",
   "metadata": {},
   "outputs": [],
   "source": [
    "df = df.rename(columns={'SCHOOLNAME':'School','schooltype':'School_Type','Udise':'Udise'\\\n",
    "                         ,'Social_Category':'Social_Category','District ':'District'\\\n",
    "                           ,'skill_name':'Skill','topic_name':'Topic','characteristics':'Characteristic'})"
   ]
  },
  {
   "cell_type": "code",
   "execution_count": 80,
   "id": "933f43e3",
   "metadata": {
    "scrolled": true
   },
   "outputs": [],
   "source": [
    "df = df[[\n",
    "'State',\n",
    "'District',\n",
    "'Mandal',\n",
    "'School',\n",
    "'Udise',\n",
    "'School_Type',\n",
    "'Grade',\n",
    "'Child_Name',\n",
    "'Child_Id',\n",
    "'Gender',\n",
    "'Social_Category',\n",
    "'Subject',\n",
    "'Question_no',\n",
    "'Score',\n",
    "'Topic',\n",
    "'Skill',\n",
    "'Characteristic']]"
   ]
  },
  {
   "cell_type": "code",
   "execution_count": 81,
   "id": "95f12c39",
   "metadata": {},
   "outputs": [],
   "source": [
    "df.to_pickle('./CBALongPickleFiles/G6.pkl')"
   ]
  },
  {
   "cell_type": "code",
   "execution_count": 82,
   "id": "a51c2119",
   "metadata": {},
   "outputs": [],
   "source": [
    "#df.to_csv('./CBALongFiles/CBA_G5_LongFile.csv')"
   ]
  },
  {
   "cell_type": "code",
   "execution_count": 83,
   "id": "2caf4103",
   "metadata": {},
   "outputs": [],
   "source": [
    "df = pd.DataFrame()"
   ]
  },
  {
   "cell_type": "code",
   "execution_count": null,
   "id": "83aa7074",
   "metadata": {},
   "outputs": [],
   "source": []
  }
 ],
 "metadata": {
  "kernelspec": {
   "display_name": "Python 3 (ipykernel)",
   "language": "python",
   "name": "python3"
  },
  "language_info": {
   "codemirror_mode": {
    "name": "ipython",
    "version": 3
   },
   "file_extension": ".py",
   "mimetype": "text/x-python",
   "name": "python",
   "nbconvert_exporter": "python",
   "pygments_lexer": "ipython3",
   "version": "3.9.12"
  }
 },
 "nbformat": 4,
 "nbformat_minor": 5
}

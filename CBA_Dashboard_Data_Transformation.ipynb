{
 "cells": [
  {
   "cell_type": "code",
   "execution_count": 46,
   "id": "598af5b3",
   "metadata": {},
   "outputs": [],
   "source": [
    "import pandas as pd\n",
    "from pandas import *\n",
    "import numpy as np\n",
    "from datetime import datetime, timedelta\n",
    "import regex as re\n",
    "import os\n",
    "import seaborn as sns\n",
    "from openpyxl import load_workbook\n",
    "pd.set_option('display.max_columns', None)\n",
    "pd.set_option('display.max_rows', None)"
   ]
  },
  {
   "cell_type": "code",
   "execution_count": 47,
   "id": "5526dccd",
   "metadata": {},
   "outputs": [],
   "source": [
    "os.chdir('/Users/arvind/Documents/Work/Zoho WorkDrive (Educational Initiatives Private Limited)/My Folders/Projects/SALT/Dashboards/')"
   ]
  },
  {
   "cell_type": "code",
   "execution_count": 48,
   "id": "bb06a69c",
   "metadata": {
    "scrolled": false
   },
   "outputs": [
    {
     "name": "stderr",
     "output_type": "stream",
     "text": [
      "/var/folders/0c/r0hw428532s7bttp9my0ym_00000gn/T/ipykernel_50761/3692428526.py:1: DtypeWarning: Columns (6,118) have mixed types. Specify dtype option on import or set low_memory=False.\n",
      "  df = pd.read_csv(\"./CBAScoredFiles/dp_assessment_296.csv\")\n"
     ]
    }
   ],
   "source": [
    "df = pd.read_csv(\"./CBAScoredFiles/dp_assessment_296.csv\")"
   ]
  },
  {
   "cell_type": "code",
   "execution_count": 49,
   "id": "73ed6353",
   "metadata": {},
   "outputs": [],
   "source": [
    "main = [\n",
    " 'disecode',\n",
    " 'student_name',\n",
    " 'class',\n",
    " 'unique_id',\n",
    " 'gender',\n",
    " 'social_category',\n",
    "'EVS_present_absent',\n",
    "'Maths_present_absent',\n",
    "'Language_present_absent'] "
   ]
  },
  {
   "cell_type": "code",
   "execution_count": 50,
   "id": "4c7e9528",
   "metadata": {},
   "outputs": [],
   "source": [
    "score_list = [i for i in df if i.startswith('Score_')]"
   ]
  },
  {
   "cell_type": "code",
   "execution_count": 51,
   "id": "b6e5dd41",
   "metadata": {},
   "outputs": [],
   "source": [
    "df_unpivot = pd.melt(df,id_vars = main\n",
    "                        ,value_vars = score_list)"
   ]
  },
  {
   "cell_type": "code",
   "execution_count": 52,
   "id": "8a1f8798",
   "metadata": {},
   "outputs": [],
   "source": [
    "df_unpivot[['S','Q']] = df_unpivot['variable'].str.split('_',1,expand=True)"
   ]
  },
  {
   "cell_type": "code",
   "execution_count": 53,
   "id": "a741b5cf",
   "metadata": {},
   "outputs": [],
   "source": [
    "df_unpivot[['Subject','Question']] = df_unpivot['Q'].str.split('Q',1,expand=True)"
   ]
  },
  {
   "cell_type": "code",
   "execution_count": 54,
   "id": "a89c97f2",
   "metadata": {},
   "outputs": [],
   "source": [
    "df_unpivot.loc[df_unpivot[\"Subject\"]==\"E\",\"Subject\"]=\"EVS\"\n",
    "df_unpivot.loc[df_unpivot[\"Subject\"]==\"L\",\"Subject\"]=\"Telugu\"\n",
    "df_unpivot.loc[df_unpivot[\"Subject\"]==\"M\",\"Subject\"]=\"Maths\""
   ]
  },
  {
   "cell_type": "code",
   "execution_count": 55,
   "id": "ea589343",
   "metadata": {},
   "outputs": [],
   "source": [
    "df_unpivot = df_unpivot.drop(['variable','S','Q'],axis=1)"
   ]
  },
  {
   "cell_type": "code",
   "execution_count": 56,
   "id": "fafbe565",
   "metadata": {},
   "outputs": [],
   "source": [
    "df_unpivot.fillna('',inplace = True)"
   ]
  },
  {
   "cell_type": "code",
   "execution_count": 57,
   "id": "6e594d2d",
   "metadata": {
    "scrolled": true
   },
   "outputs": [],
   "source": [
    "indexELM = df_unpivot[(\n",
    "                          ((df_unpivot['EVS_present_absent']=='A')&(df_unpivot['Subject']=='EVS'))|\n",
    "                          ((df_unpivot['Language_present_absent']=='A')&(df_unpivot['Subject']=='Telugu'))|\n",
    "                          ((df_unpivot['Maths_present_absent']=='A')&(df_unpivot['Subject']=='Maths'))|\n",
    "                          ((df_unpivot['EVS_present_absent']=='')&(df_unpivot['Subject']=='EVS'))|\n",
    "                          ((df_unpivot['Language_present_absent']=='')&(df_unpivot['Subject']=='Telugu'))|\n",
    "                          ((df_unpivot['Maths_present_absent']=='')&(df_unpivot['Subject']=='Maths'))\n",
    "                        )\n",
    "                         ].index\n",
    "df_unpivot.drop(indexELM, inplace=True)"
   ]
  },
  {
   "cell_type": "code",
   "execution_count": 58,
   "id": "cc3ce314",
   "metadata": {},
   "outputs": [],
   "source": [
    "df_unpivot = df_unpivot.drop(['EVS_present_absent','Language_present_absent','Maths_present_absent'],axis=1)"
   ]
  },
  {
   "cell_type": "code",
   "execution_count": 59,
   "id": "bc457542",
   "metadata": {},
   "outputs": [],
   "source": [
    "df_unpivot = df_unpivot.rename(columns = {'disecode':\"Udise\", 'student_name':'Child Name','class':'Grade','unique_id':'Child Id','gender':'Gender','social_category':'Social_Category','Question':'Question no','value':'Question Score'})\n"
   ]
  },
  {
   "cell_type": "code",
   "execution_count": 60,
   "id": "96b47dde",
   "metadata": {},
   "outputs": [],
   "source": [
    "school_mapping = pd.read_excel('./MappingFiles/AP_SchoolMaster_DistrictMandal_Mapping.xlsx')"
   ]
  },
  {
   "cell_type": "code",
   "execution_count": 61,
   "id": "0450f205",
   "metadata": {},
   "outputs": [],
   "source": [
    "df_unpivot = pd.merge(df_unpivot,school_mapping,how='left',left_on='Udise',right_on='SCHOOLCODE')"
   ]
  },
  {
   "cell_type": "code",
   "execution_count": 62,
   "id": "b996e72b",
   "metadata": {},
   "outputs": [],
   "source": [
    "df_unpivot = df_unpivot.assign(State='Andhra Pradesh',District='',Topic='',Subtopic='',Skill='',MUA='')"
   ]
  },
  {
   "cell_type": "code",
   "execution_count": 63,
   "id": "4b753f71",
   "metadata": {},
   "outputs": [],
   "source": [
    "df_unpivot = df_unpivot.rename(columns={'SCHOOLNAME':'School','schooltype':'School Type','Udise':'UDISE'\\\n",
    "                                       ,'Social_Category':'Social Category'})"
   ]
  },
  {
   "cell_type": "code",
   "execution_count": 64,
   "id": "5a74649e",
   "metadata": {},
   "outputs": [],
   "source": [
    "df_unpivot = df_unpivot.drop(['SCHOOLCODE'],axis=1)"
   ]
  },
  {
   "cell_type": "code",
   "execution_count": 66,
   "id": "a84596bf",
   "metadata": {},
   "outputs": [],
   "source": [
    "df_unpivot = df_unpivot.assign(District='')"
   ]
  },
  {
   "cell_type": "code",
   "execution_count": 67,
   "id": "7219f444",
   "metadata": {},
   "outputs": [],
   "source": [
    "df_unpivot = df_unpivot.rename(columns={'Social_Category':'Social Category'})"
   ]
  },
  {
   "cell_type": "code",
   "execution_count": 68,
   "id": "cb683de7",
   "metadata": {
    "scrolled": true
   },
   "outputs": [],
   "source": [
    "df_unpivot = df_unpivot[[\n",
    "'State',\n",
    "'District',\n",
    "'Mandal',\n",
    "'School',\n",
    "'UDISE',\n",
    "'School Type',\n",
    "'Grade',\n",
    "'Child Name',\n",
    "'Child Id',\n",
    "'Gender',\n",
    "'Social Category',\n",
    "'Subject',\n",
    "'Question no',\n",
    "'Question Score',\n",
    "'Topic',\n",
    "'Subtopic',\n",
    "'Skill',\n",
    "'MUA',]]"
   ]
  },
  {
   "cell_type": "code",
   "execution_count": 70,
   "id": "2351f9dc",
   "metadata": {},
   "outputs": [],
   "source": [
    "df_unpivot.to_csv('./CBALongFiles/CBA_G3_LongFile.csv')"
   ]
  },
  {
   "cell_type": "code",
   "execution_count": 71,
   "id": "1d954e17",
   "metadata": {},
   "outputs": [
    {
     "data": {
      "text/html": [
       "<div>\n",
       "<style scoped>\n",
       "    .dataframe tbody tr th:only-of-type {\n",
       "        vertical-align: middle;\n",
       "    }\n",
       "\n",
       "    .dataframe tbody tr th {\n",
       "        vertical-align: top;\n",
       "    }\n",
       "\n",
       "    .dataframe thead th {\n",
       "        text-align: right;\n",
       "    }\n",
       "</style>\n",
       "<table border=\"1\" class=\"dataframe\">\n",
       "  <thead>\n",
       "    <tr style=\"text-align: right;\">\n",
       "      <th></th>\n",
       "      <th>State</th>\n",
       "      <th>District</th>\n",
       "      <th>Mandal</th>\n",
       "      <th>School</th>\n",
       "      <th>UDISE</th>\n",
       "      <th>School Type</th>\n",
       "      <th>Grade</th>\n",
       "      <th>Child Name</th>\n",
       "      <th>Child Id</th>\n",
       "      <th>Gender</th>\n",
       "      <th>Social Category</th>\n",
       "      <th>Subject</th>\n",
       "      <th>Question no</th>\n",
       "      <th>Question Score</th>\n",
       "      <th>Topic</th>\n",
       "      <th>Subtopic</th>\n",
       "      <th>Skill</th>\n",
       "      <th>MUA</th>\n",
       "    </tr>\n",
       "  </thead>\n",
       "  <tbody>\n",
       "    <tr>\n",
       "      <th>0</th>\n",
       "      <td>Andhra Pradesh</td>\n",
       "      <td></td>\n",
       "      <td>PEDDAMANDYAM</td>\n",
       "      <td>MPPS PAPE PALLE</td>\n",
       "      <td>28230100101</td>\n",
       "      <td>STATE GOVT</td>\n",
       "      <td>3</td>\n",
       "      <td>VADLA MADIYAN</td>\n",
       "      <td>2013055023</td>\n",
       "      <td>B</td>\n",
       "      <td>4</td>\n",
       "      <td>EVS</td>\n",
       "      <td>1</td>\n",
       "      <td>1</td>\n",
       "      <td></td>\n",
       "      <td></td>\n",
       "      <td></td>\n",
       "      <td></td>\n",
       "    </tr>\n",
       "    <tr>\n",
       "      <th>1</th>\n",
       "      <td>Andhra Pradesh</td>\n",
       "      <td></td>\n",
       "      <td>PEDDAMANDYAM</td>\n",
       "      <td>MPPS PAPE PALLE</td>\n",
       "      <td>28230100101</td>\n",
       "      <td>STATE GOVT</td>\n",
       "      <td>3</td>\n",
       "      <td>VEPALLI VEMPALLI MUBARAK</td>\n",
       "      <td>2040110072</td>\n",
       "      <td>B</td>\n",
       "      <td>3</td>\n",
       "      <td>EVS</td>\n",
       "      <td>1</td>\n",
       "      <td>1</td>\n",
       "      <td></td>\n",
       "      <td></td>\n",
       "      <td></td>\n",
       "      <td></td>\n",
       "    </tr>\n",
       "    <tr>\n",
       "      <th>2</th>\n",
       "      <td>Andhra Pradesh</td>\n",
       "      <td></td>\n",
       "      <td>PEDDAMANDYAM</td>\n",
       "      <td>MPPS PAPE PALLE</td>\n",
       "      <td>28230100101</td>\n",
       "      <td>STATE GOVT</td>\n",
       "      <td>3</td>\n",
       "      <td>KANDUKURI RANJITHKUMAR</td>\n",
       "      <td>2043102036</td>\n",
       "      <td>B</td>\n",
       "      <td>3</td>\n",
       "      <td>EVS</td>\n",
       "      <td>1</td>\n",
       "      <td>1</td>\n",
       "      <td></td>\n",
       "      <td></td>\n",
       "      <td></td>\n",
       "      <td></td>\n",
       "    </tr>\n",
       "    <tr>\n",
       "      <th>3</th>\n",
       "      <td>Andhra Pradesh</td>\n",
       "      <td></td>\n",
       "      <td>PEDDAMANDYAM</td>\n",
       "      <td>MPPS PAPE PALLE</td>\n",
       "      <td>28230100101</td>\n",
       "      <td>STATE GOVT</td>\n",
       "      <td>3</td>\n",
       "      <td>KANDUKURI KandukuriBharathi</td>\n",
       "      <td>2043102048</td>\n",
       "      <td>G</td>\n",
       "      <td>3</td>\n",
       "      <td>EVS</td>\n",
       "      <td>1</td>\n",
       "      <td>1</td>\n",
       "      <td></td>\n",
       "      <td></td>\n",
       "      <td></td>\n",
       "      <td></td>\n",
       "    </tr>\n",
       "    <tr>\n",
       "      <th>4</th>\n",
       "      <td>Andhra Pradesh</td>\n",
       "      <td></td>\n",
       "      <td>PEDDAMANDYAM</td>\n",
       "      <td>MPPS PAPE PALLE</td>\n",
       "      <td>28230100101</td>\n",
       "      <td>STATE GOVT</td>\n",
       "      <td>3</td>\n",
       "      <td>GANDLAPENTA THANVIR</td>\n",
       "      <td>2043102052</td>\n",
       "      <td>B</td>\n",
       "      <td>3</td>\n",
       "      <td>EVS</td>\n",
       "      <td>1</td>\n",
       "      <td>1</td>\n",
       "      <td></td>\n",
       "      <td></td>\n",
       "      <td></td>\n",
       "      <td></td>\n",
       "    </tr>\n",
       "  </tbody>\n",
       "</table>\n",
       "</div>"
      ],
      "text/plain": [
       "            State District        Mandal           School        UDISE  \\\n",
       "0  Andhra Pradesh           PEDDAMANDYAM  MPPS PAPE PALLE  28230100101   \n",
       "1  Andhra Pradesh           PEDDAMANDYAM  MPPS PAPE PALLE  28230100101   \n",
       "2  Andhra Pradesh           PEDDAMANDYAM  MPPS PAPE PALLE  28230100101   \n",
       "3  Andhra Pradesh           PEDDAMANDYAM  MPPS PAPE PALLE  28230100101   \n",
       "4  Andhra Pradesh           PEDDAMANDYAM  MPPS PAPE PALLE  28230100101   \n",
       "\n",
       "  School Type  Grade                   Child Name    Child Id Gender  \\\n",
       "0  STATE GOVT      3                VADLA MADIYAN  2013055023      B   \n",
       "1  STATE GOVT      3     VEPALLI VEMPALLI MUBARAK  2040110072      B   \n",
       "2  STATE GOVT      3       KANDUKURI RANJITHKUMAR  2043102036      B   \n",
       "3  STATE GOVT      3  KANDUKURI KandukuriBharathi  2043102048      G   \n",
       "4  STATE GOVT      3          GANDLAPENTA THANVIR  2043102052      B   \n",
       "\n",
       "   Social Category Subject Question no  Question Score Topic Subtopic Skill  \\\n",
       "0                4     EVS           1               1                        \n",
       "1                3     EVS           1               1                        \n",
       "2                3     EVS           1               1                        \n",
       "3                3     EVS           1               1                        \n",
       "4                3     EVS           1               1                        \n",
       "\n",
       "  MUA  \n",
       "0      \n",
       "1      \n",
       "2      \n",
       "3      \n",
       "4      "
      ]
     },
     "execution_count": 71,
     "metadata": {},
     "output_type": "execute_result"
    }
   ],
   "source": [
    "df_unpivot.head()"
   ]
  },
  {
   "cell_type": "code",
   "execution_count": 72,
   "id": "d65395af",
   "metadata": {},
   "outputs": [
    {
     "data": {
      "text/plain": [
       "(20268516, 18)"
      ]
     },
     "execution_count": 72,
     "metadata": {},
     "output_type": "execute_result"
    }
   ],
   "source": [
    "df_unpivot.shape"
   ]
  },
  {
   "cell_type": "code",
   "execution_count": null,
   "id": "7299a47d",
   "metadata": {},
   "outputs": [],
   "source": []
  }
 ],
 "metadata": {
  "kernelspec": {
   "display_name": "Python 3 (ipykernel)",
   "language": "python",
   "name": "python3"
  },
  "language_info": {
   "codemirror_mode": {
    "name": "ipython",
    "version": 3
   },
   "file_extension": ".py",
   "mimetype": "text/x-python",
   "name": "python",
   "nbconvert_exporter": "python",
   "pygments_lexer": "ipython3",
   "version": "3.9.12"
  }
 },
 "nbformat": 4,
 "nbformat_minor": 5
}

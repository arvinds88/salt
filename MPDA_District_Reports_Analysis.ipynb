{
 "cells": [
  {
   "cell_type": "code",
   "execution_count": 137,
   "id": "598af5b3",
   "metadata": {},
   "outputs": [],
   "source": [
    "import pandas as pd\n",
    "import numpy as np\n",
    "import os\n",
    "import math"
   ]
  },
  {
   "cell_type": "code",
   "execution_count": 138,
   "id": "5526dccd",
   "metadata": {},
   "outputs": [],
   "source": [
    "os.chdir('/Users/arvind/Documents/Work/Zoho WorkDrive (Educational Initiatives Private Limited)/My Folders/Projects/SALT/Dashboards/')"
   ]
  },
  {
   "cell_type": "code",
   "execution_count": 139,
   "id": "b738d937",
   "metadata": {},
   "outputs": [],
   "source": [
    "df = pd.read_excel(\"./SLASAssessmentDataWithDistricts.xlsx\")"
   ]
  },
  {
   "cell_type": "code",
   "execution_count": 140,
   "id": "8653532d",
   "metadata": {},
   "outputs": [],
   "source": [
    "var_list = list(df)"
   ]
  },
  {
   "cell_type": "code",
   "execution_count": 141,
   "id": "adf2c970",
   "metadata": {},
   "outputs": [],
   "source": [
    "unwanted = ('student_id','disecode','Districts','SM','student_name','class','section','roll_no','unique_id',\n",
    "            'gender','social_category','medium_id','English_paperset','English_jumble_set','English_present_absent',\n",
    "             'EnglishTotal','EnglishPercentage_old','EnglishPercentage','English_cheating_drop','Language_paperset',\n",
    "             'Language_jumble_set','Language_present_absent','LanguageTotal','LanguagePercentage_old',\n",
    "             'LanguagePercentage','Language_cheating_drop','Maths_paperset','Maths_jumble_set','Maths_present_absent',\n",
    "             'MathsTotal','MathsPercentage_old','MathsPercentage','Maths_cheating_drop')"
   ]
  },
  {
   "cell_type": "code",
   "execution_count": 142,
   "id": "6b354a39",
   "metadata": {},
   "outputs": [],
   "source": [
    "retain = [ele for ele in var_list if ele not in unwanted]"
   ]
  },
  {
   "cell_type": "code",
   "execution_count": 143,
   "id": "03c5d974",
   "metadata": {},
   "outputs": [],
   "source": [
    "df_unpivot = pd.melt(df,id_vars = ['student_id','disecode','Districts'\n",
    "                                         ,'student_name','class','section','roll_no'\n",
    "                                         ,'unique_id','gender','social_category'\n",
    "                                         ,'English_present_absent','Language_present_absent','Maths_present_absent']\n",
    "                        ,value_vars = retain)"
   ]
  },
  {
   "cell_type": "code",
   "execution_count": 144,
   "id": "8a1f8798",
   "metadata": {},
   "outputs": [],
   "source": [
    "df_unpivot[['S','Q']] = df_unpivot['variable'].str.split('_',1,expand=True)"
   ]
  },
  {
   "cell_type": "code",
   "execution_count": 145,
   "id": "a741b5cf",
   "metadata": {},
   "outputs": [],
   "source": [
    "df_unpivot[['Subject','Question']] = df_unpivot['Q'].str.split('Q',1,expand=True)"
   ]
  },
  {
   "cell_type": "code",
   "execution_count": 146,
   "id": "a89c97f2",
   "metadata": {},
   "outputs": [],
   "source": [
    "df_unpivot.loc[df_unpivot[\"Subject\"]==\"N\",\"Subject\"]=\"English\"\n",
    "df_unpivot.loc[df_unpivot[\"Subject\"]==\"L\",\"Subject\"]=\"Language\"\n",
    "df_unpivot.loc[df_unpivot[\"Subject\"]==\"M\",\"Subject\"]=\"Maths\""
   ]
  },
  {
   "cell_type": "code",
   "execution_count": 147,
   "id": "ea589343",
   "metadata": {},
   "outputs": [],
   "source": [
    "df_unpivot = df_unpivot.drop(['section','roll_no','unique_id','variable','S','Q'],axis=1)"
   ]
  },
  {
   "cell_type": "code",
   "execution_count": 148,
   "id": "fafbe565",
   "metadata": {},
   "outputs": [],
   "source": [
    "df_unpivot.fillna('',inplace = True)"
   ]
  },
  {
   "cell_type": "code",
   "execution_count": 149,
   "id": "6e594d2d",
   "metadata": {
    "scrolled": true
   },
   "outputs": [],
   "source": [
    "indexELM = df_unpivot[(\n",
    "                          ((df_unpivot['English_present_absent']=='A')&(df_unpivot['Subject']=='English'))|\n",
    "                          ((df_unpivot['Language_present_absent']=='A')&(df_unpivot['Subject']=='Language'))|\n",
    "                          ((df_unpivot['Maths_present_absent']=='A')&(df_unpivot['Subject']=='Maths'))|\n",
    "                          ((df_unpivot['English_present_absent']=='')&(df_unpivot['Subject']=='English'))|\n",
    "                          ((df_unpivot['Language_present_absent']=='')&(df_unpivot['Subject']=='Language'))|\n",
    "                          ((df_unpivot['Maths_present_absent']=='')&(df_unpivot['Subject']=='Maths'))\n",
    "                        )\n",
    "                         ].index\n",
    "df_unpivot.drop(indexELM, inplace=True)"
   ]
  },
  {
   "cell_type": "code",
   "execution_count": 150,
   "id": "586086a7",
   "metadata": {
    "scrolled": false
   },
   "outputs": [],
   "source": [
    "df_unpivot['Question'] = df_unpivot['Question'].astype(np.int64)"
   ]
  },
  {
   "cell_type": "code",
   "execution_count": 151,
   "id": "31cd362a",
   "metadata": {
    "scrolled": false
   },
   "outputs": [],
   "source": [
    "mapping = pd.read_csv(\"./287_questionwise_optionwise_setwise_performance_after_cheating_modified.csv\")"
   ]
  },
  {
   "cell_type": "code",
   "execution_count": 152,
   "id": "7cde90d5",
   "metadata": {},
   "outputs": [],
   "source": [
    "mapping = mapping.rename({'Class':'class'},axis=1)\n",
    "mapping = mapping.rename({'Qno':'Question'},axis=1)"
   ]
  },
  {
   "cell_type": "code",
   "execution_count": 153,
   "id": "eabafa9d",
   "metadata": {},
   "outputs": [],
   "source": [
    "dft = pd.merge(df_unpivot,mapping,how='left',on=['class','Subject','Question'])"
   ]
  },
  {
   "cell_type": "code",
   "execution_count": 154,
   "id": "48b0ce4c",
   "metadata": {},
   "outputs": [],
   "source": [
    "dft = dft.drop(['English_present_absent','Language_present_absent','Maths_present_absent'],axis=1)"
   ]
  },
  {
   "cell_type": "code",
   "execution_count": 155,
   "id": "f1a88d62",
   "metadata": {},
   "outputs": [],
   "source": [
    "dft.to_csv(\"./slas_data_for_dashboard.csv\")"
   ]
  },
  {
   "cell_type": "code",
   "execution_count": null,
   "id": "bb06a69c",
   "metadata": {},
   "outputs": [],
   "source": []
  }
 ],
 "metadata": {
  "kernelspec": {
   "display_name": "Python 3 (ipykernel)",
   "language": "python",
   "name": "python3"
  },
  "language_info": {
   "codemirror_mode": {
    "name": "ipython",
    "version": 3
   },
   "file_extension": ".py",
   "mimetype": "text/x-python",
   "name": "python",
   "nbconvert_exporter": "python",
   "pygments_lexer": "ipython3",
   "version": "3.9.12"
  }
 },
 "nbformat": 4,
 "nbformat_minor": 5
}

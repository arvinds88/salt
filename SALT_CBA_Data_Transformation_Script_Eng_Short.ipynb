{
 "cells": [
  {
   "cell_type": "code",
   "execution_count": 101,
   "id": "87353759",
   "metadata": {},
   "outputs": [],
   "source": [
    "import pandas as pd\n",
    "import numpy as np\n",
    "import os"
   ]
  },
  {
   "cell_type": "code",
   "execution_count": 102,
   "id": "0e075bbb",
   "metadata": {},
   "outputs": [],
   "source": [
    "os.chdir('/Users/arvind/Documents/Work/Zoho WorkDrive (Educational Initiatives Private Limited)/My Folders/Projects/SALT/Dashboards/')"
   ]
  },
  {
   "cell_type": "code",
   "execution_count": 209,
   "id": "3f475a82",
   "metadata": {},
   "outputs": [],
   "source": [
    "df = pd.read_pickle('./CBAScoredFiles/eng.pkl')"
   ]
  },
  {
   "cell_type": "code",
   "execution_count": 210,
   "id": "7be8b94f",
   "metadata": {},
   "outputs": [],
   "source": [
    "drop = ['NQ16',\n",
    " 'NQ17',\n",
    " 'NQ18',\n",
    " 'NQ19',\n",
    " 'NQ20',\n",
    " 'Score_NQ16',\n",
    " 'Score_NQ17',\n",
    " 'Score_NQ18',\n",
    " 'Score_NQ19',\n",
    " 'Score_NQ20']"
   ]
  },
  {
   "cell_type": "code",
   "execution_count": 211,
   "id": "7da845d9",
   "metadata": {},
   "outputs": [],
   "source": [
    "df.drop(drop, axis = 1 , inplace = True)"
   ]
  },
  {
   "cell_type": "code",
   "execution_count": 212,
   "id": "b3b0f8df",
   "metadata": {},
   "outputs": [],
   "source": [
    "unwanted = ('student_id','disecode','student_name','class','section','roll_no','unique_id','gender','social_category','medium_id'\n",
    "            ,'Language_paperset','Language_jumble_set','Language_present_absent','LanguageTotal','LanguagePercentage_old','LanguagePercentage','Language_cheating_drop'\n",
    "            ,'Maths_paperset','Maths_jumble_set','Maths_present_absent','MathsTotal','MathsPercentage_old','MathsPercentage','Maths_cheating_drop'\n",
    "            ,'EVS_paperset','EVS_jumble_set','EVS_present_absent','EVSTotal','EVSPercentage_old','EVSPercentage','EVS_cheating_drop'\n",
    "            ,'Science_paperset','Science_jumble_set','Science_present_absent','ScienceTotal','SciencePercentage_old','SciencePercentage','Science_cheating_drop'\n",
    "            ,'SS_paperset','SS_jumble_set','SS_present_absent','SSTotal','SSPercentage_old','SSPercentage','SS_cheating_drop'\n",
    "            ,'English_paperset','English_jumble_set','English_present_absent','EnglishTotal','EnglishPercentage_old','EnglishPercentage','English_cheating_drop'\n",
    "           )"
   ]
  },
  {
   "cell_type": "code",
   "execution_count": 213,
   "id": "a1861839",
   "metadata": {},
   "outputs": [],
   "source": [
    "var_list = list(df)"
   ]
  },
  {
   "cell_type": "code",
   "execution_count": 214,
   "id": "c58f656f",
   "metadata": {},
   "outputs": [],
   "source": [
    "#EQ = EVS, MQ = Maths, LQ = Language (Telugu), SQ = Science, OQ = Social Science\n",
    "prefixes = ('EQ','MQ','LQ','SQ','OQ','NQ')\n",
    "dropped = [x for x in var_list if x.startswith(prefixes)]"
   ]
  },
  {
   "cell_type": "code",
   "execution_count": 215,
   "id": "6a2b3f46",
   "metadata": {},
   "outputs": [],
   "source": [
    "df.drop(dropped, axis = 1 , inplace = True)"
   ]
  },
  {
   "cell_type": "code",
   "execution_count": 216,
   "id": "3439f04a",
   "metadata": {},
   "outputs": [],
   "source": [
    "var_list = list(df)"
   ]
  },
  {
   "cell_type": "code",
   "execution_count": 217,
   "id": "e6361d0f",
   "metadata": {},
   "outputs": [],
   "source": [
    "retain = [ele for ele in var_list if ele not in unwanted]"
   ]
  },
  {
   "cell_type": "code",
   "execution_count": 218,
   "id": "5e9a6c90",
   "metadata": {},
   "outputs": [],
   "source": [
    "#Define dimensions based on grade - present absent flag will change based on the subjects relevant to that grade\n",
    "#G2 - Maths, Language; G3,4,5 - EVS, Maths, Language; G6,7,8 - Maths, Language, SS, Science\n",
    "dimensions = ['unique_id','disecode','student_name','class'\n",
    "                                  ,'gender','social_category'\n",
    "                                  ,'English_present_absent'\n",
    "                                ]"
   ]
  },
  {
   "cell_type": "code",
   "execution_count": 219,
   "id": "fc7784c2",
   "metadata": {
    "scrolled": true
   },
   "outputs": [],
   "source": [
    "df = pd.melt(df,id_vars = dimensions\n",
    "                        ,value_vars = retain)"
   ]
  },
  {
   "cell_type": "code",
   "execution_count": 220,
   "id": "753d38be",
   "metadata": {},
   "outputs": [
    {
     "data": {
      "text/html": [
       "<div>\n",
       "<style scoped>\n",
       "    .dataframe tbody tr th:only-of-type {\n",
       "        vertical-align: middle;\n",
       "    }\n",
       "\n",
       "    .dataframe tbody tr th {\n",
       "        vertical-align: top;\n",
       "    }\n",
       "\n",
       "    .dataframe thead th {\n",
       "        text-align: right;\n",
       "    }\n",
       "</style>\n",
       "<table border=\"1\" class=\"dataframe\">\n",
       "  <thead>\n",
       "    <tr style=\"text-align: right;\">\n",
       "      <th></th>\n",
       "      <th>unique_id</th>\n",
       "      <th>disecode</th>\n",
       "      <th>student_name</th>\n",
       "      <th>class</th>\n",
       "      <th>gender</th>\n",
       "      <th>social_category</th>\n",
       "      <th>English_present_absent</th>\n",
       "      <th>variable</th>\n",
       "      <th>value</th>\n",
       "    </tr>\n",
       "  </thead>\n",
       "  <tbody>\n",
       "    <tr>\n",
       "      <th>0</th>\n",
       "      <td>3001029373</td>\n",
       "      <td>28210500904</td>\n",
       "      <td>BESTHA MANOJ</td>\n",
       "      <td>1</td>\n",
       "      <td>B</td>\n",
       "      <td>3</td>\n",
       "      <td>P</td>\n",
       "      <td>Score_NQ1</td>\n",
       "      <td>1.0</td>\n",
       "    </tr>\n",
       "    <tr>\n",
       "      <th>1</th>\n",
       "      <td>3000999604</td>\n",
       "      <td>28224800604</td>\n",
       "      <td>ARAVA BHAVISHYA</td>\n",
       "      <td>1</td>\n",
       "      <td>G</td>\n",
       "      <td>3</td>\n",
       "      <td>P</td>\n",
       "      <td>Score_NQ1</td>\n",
       "      <td>1.0</td>\n",
       "    </tr>\n",
       "    <tr>\n",
       "      <th>2</th>\n",
       "      <td>3000824764</td>\n",
       "      <td>28230100101</td>\n",
       "      <td>UDAYAGIRI  MAHAMMAD ARSHAD</td>\n",
       "      <td>1</td>\n",
       "      <td>B</td>\n",
       "      <td>3</td>\n",
       "      <td>P</td>\n",
       "      <td>Score_NQ1</td>\n",
       "      <td>1.0</td>\n",
       "    </tr>\n",
       "    <tr>\n",
       "      <th>3</th>\n",
       "      <td>3000824825</td>\n",
       "      <td>28230100101</td>\n",
       "      <td>C  SIFIYAN</td>\n",
       "      <td>1</td>\n",
       "      <td>B</td>\n",
       "      <td>3</td>\n",
       "      <td>P</td>\n",
       "      <td>Score_NQ1</td>\n",
       "      <td>1.0</td>\n",
       "    </tr>\n",
       "    <tr>\n",
       "      <th>4</th>\n",
       "      <td>3000824910</td>\n",
       "      <td>28230100101</td>\n",
       "      <td>PAPPUSETTY  KULLAYAPPA</td>\n",
       "      <td>1</td>\n",
       "      <td>B</td>\n",
       "      <td>4</td>\n",
       "      <td>P</td>\n",
       "      <td>Score_NQ1</td>\n",
       "      <td>1.0</td>\n",
       "    </tr>\n",
       "  </tbody>\n",
       "</table>\n",
       "</div>"
      ],
      "text/plain": [
       "    unique_id     disecode                student_name  class gender  \\\n",
       "0  3001029373  28210500904                BESTHA MANOJ      1      B   \n",
       "1  3000999604  28224800604             ARAVA BHAVISHYA      1      G   \n",
       "2  3000824764  28230100101  UDAYAGIRI  MAHAMMAD ARSHAD      1      B   \n",
       "3  3000824825  28230100101                  C  SIFIYAN      1      B   \n",
       "4  3000824910  28230100101      PAPPUSETTY  KULLAYAPPA      1      B   \n",
       "\n",
       "   social_category English_present_absent   variable  value  \n",
       "0                3                      P  Score_NQ1    1.0  \n",
       "1                3                      P  Score_NQ1    1.0  \n",
       "2                3                      P  Score_NQ1    1.0  \n",
       "3                3                      P  Score_NQ1    1.0  \n",
       "4                4                      P  Score_NQ1    1.0  "
      ]
     },
     "execution_count": 220,
     "metadata": {},
     "output_type": "execute_result"
    }
   ],
   "source": [
    "df.head()"
   ]
  },
  {
   "cell_type": "code",
   "execution_count": 221,
   "id": "80548437",
   "metadata": {},
   "outputs": [],
   "source": [
    "df[['S','Q']] = df['variable'].str.split('_',1,expand=True)"
   ]
  },
  {
   "cell_type": "code",
   "execution_count": 222,
   "id": "29048bcd",
   "metadata": {},
   "outputs": [],
   "source": [
    "df[['Subject','Question']] = df['Q'].str.split('Q',1,expand=True)"
   ]
  },
  {
   "cell_type": "code",
   "execution_count": 223,
   "id": "717a9be2",
   "metadata": {},
   "outputs": [],
   "source": [
    "#Language mapped as Telugu for general files; English and Hindi will be separate scored files altogether\n",
    "df.loc[df[\"Subject\"]==\"L\",\"Subject\"]=\"Telugu\"\n",
    "df.loc[df[\"Subject\"]==\"M\",\"Subject\"]=\"Maths\"\n",
    "df.loc[df[\"Subject\"]==\"E\",\"Subject\"]=\"EVS\"\n",
    "df.loc[df[\"Subject\"]==\"O\",\"Subject\"]=\"SS\"\n",
    "df.loc[df[\"Subject\"]==\"S\",\"Subject\"]=\"Science\"\n",
    "df.loc[df[\"Subject\"]==\"N\",\"Subject\"]=\"English\""
   ]
  },
  {
   "cell_type": "code",
   "execution_count": 224,
   "id": "462007de",
   "metadata": {},
   "outputs": [],
   "source": [
    "df = df.drop(['variable','S','Q'],axis=1)"
   ]
  },
  {
   "cell_type": "code",
   "execution_count": 225,
   "id": "ed585c40",
   "metadata": {},
   "outputs": [],
   "source": [
    "df.fillna('',inplace = True)"
   ]
  },
  {
   "cell_type": "code",
   "execution_count": 226,
   "id": "0e763c01",
   "metadata": {},
   "outputs": [],
   "source": [
    "#Define dimensions based on grade - present absent flag will change based on the subjects relevant to that grade\n",
    "#G2 - Maths, Language; G3,4,5 - EVS, Maths, Language; G6,7,8 - Maths, Language, SS, Science\n",
    "indexELM = df[(((df['English_present_absent']=='A')|(df['English_present_absent']==''))&(df['Subject']=='English'))\n",
    "                      ].index\n",
    "\n",
    "df.drop(indexELM, inplace=True)"
   ]
  },
  {
   "cell_type": "code",
   "execution_count": 227,
   "id": "26639704",
   "metadata": {},
   "outputs": [],
   "source": [
    "#Define dimensions based on grade - present absent flag will change based on the subjects relevant to that grade\n",
    "#G2 - Maths, Language; G3,4,5 - EVS, Maths, Language; G6,7,8 - Maths, Language, SS, Science\n",
    "df = df.drop(['English_present_absent'],axis=1)"
   ]
  },
  {
   "cell_type": "code",
   "execution_count": 228,
   "id": "239e23be",
   "metadata": {},
   "outputs": [],
   "source": [
    "df['Question'] = df['Question'].astype(np.int64)"
   ]
  },
  {
   "cell_type": "code",
   "execution_count": 229,
   "id": "63af6b03",
   "metadata": {},
   "outputs": [],
   "source": [
    "df = df.rename(columns = {'unique_id':'Child_Id','disecode':'Udise','student_name':'Child_Name'\\\n",
    "                          ,'class':'Grade','gender':'Gender','social_category':'Social_Category'\\\n",
    "                          ,'value':'Score','Subject':'Subject'\\\n",
    "                          ,'Question':'Question_no'})"
   ]
  },
  {
   "cell_type": "markdown",
   "id": "28b1ddc6",
   "metadata": {},
   "source": [
    "<h1 style=\"color:blue;\">\n",
    "    School mapping\n",
    "</h1>"
   ]
  },
  {
   "cell_type": "code",
   "execution_count": 240,
   "id": "8958afcc",
   "metadata": {},
   "outputs": [],
   "source": [
    "school_mapping = pd.read_excel('./MappingFiles/AP_SchoolMaster_DistrictMandal_Mapping.xlsx')"
   ]
  },
  {
   "cell_type": "code",
   "execution_count": 241,
   "id": "239879b0",
   "metadata": {},
   "outputs": [],
   "source": [
    "school_mapping['SCHOOLCODE'] = school_mapping['SCHOOLCODE'].astype(str)"
   ]
  },
  {
   "cell_type": "code",
   "execution_count": 243,
   "id": "b4d816cf",
   "metadata": {},
   "outputs": [],
   "source": [
    "school_mapping = school_mapping.rename(columns = {'SCHOOLCODE':'Udise'})"
   ]
  },
  {
   "cell_type": "code",
   "execution_count": 244,
   "id": "001cc65b",
   "metadata": {
    "scrolled": true
   },
   "outputs": [],
   "source": [
    "df = pd.merge(df,school_mapping,how='left',on='Udise')"
   ]
  },
  {
   "cell_type": "code",
   "execution_count": 246,
   "id": "3d4be3dd",
   "metadata": {},
   "outputs": [],
   "source": [
    "question_mapping = pd.read_csv('./MappingFiles/cba1_answer_key_with_question_info.csv')"
   ]
  },
  {
   "cell_type": "code",
   "execution_count": 247,
   "id": "fdf1664a",
   "metadata": {},
   "outputs": [],
   "source": [
    "question_mapping['subject'] =  np.where(question_mapping['subject']=='Language'\\\n",
    "                                        , question_mapping['medium']\\\n",
    "                                        , question_mapping['subject'])"
   ]
  },
  {
   "cell_type": "code",
   "execution_count": 248,
   "id": "5bb16e40",
   "metadata": {},
   "outputs": [],
   "source": [
    "question_mapping['subject'] = np.where(question_mapping['subject']=='Biology','Science'\\\n",
    "                                       ,question_mapping['subject'])"
   ]
  },
  {
   "cell_type": "code",
   "execution_count": 249,
   "id": "068d5f8d",
   "metadata": {},
   "outputs": [],
   "source": [
    "question_mapping['subject'] = np.where(question_mapping['subject']=='Physics','Science'\\\n",
    "                                       ,question_mapping['subject'])"
   ]
  },
  {
   "cell_type": "code",
   "execution_count": 250,
   "id": "0d7d4011",
   "metadata": {},
   "outputs": [],
   "source": [
    "question_mapping = question_mapping[['class','subject','qno','skill_name','topic_name','characteristics']]"
   ]
  },
  {
   "cell_type": "code",
   "execution_count": 251,
   "id": "7bfc4fbb",
   "metadata": {},
   "outputs": [],
   "source": [
    "question_mapping.drop_duplicates(keep='first', inplace=True)"
   ]
  },
  {
   "cell_type": "code",
   "execution_count": 252,
   "id": "e157c8e9",
   "metadata": {},
   "outputs": [],
   "source": [
    "question_mapping = question_mapping.rename(columns={'class':'Grade','subject':'Subject','qno':'Question_no'})"
   ]
  },
  {
   "cell_type": "code",
   "execution_count": 253,
   "id": "aa404f29",
   "metadata": {},
   "outputs": [],
   "source": [
    "df = pd.merge(df,question_mapping,how='left',on=['Grade','Subject','Question_no'])"
   ]
  },
  {
   "cell_type": "code",
   "execution_count": 254,
   "id": "cab969e5",
   "metadata": {},
   "outputs": [],
   "source": [
    "df = df.assign(State='Andhra Pradesh')"
   ]
  },
  {
   "cell_type": "code",
   "execution_count": 255,
   "id": "96c442a1",
   "metadata": {},
   "outputs": [],
   "source": [
    "df = df.rename(columns={'SCHOOLNAME':'School','schooltype':'School_Type','Udise':'Udise'\\\n",
    "                         ,'Social_Category':'Social_Category','District ':'District'\\\n",
    "                           ,'skill_name':'Skill','topic_name':'Topic','characteristics':'Characteristic'})"
   ]
  },
  {
   "cell_type": "code",
   "execution_count": 256,
   "id": "933f43e3",
   "metadata": {
    "scrolled": true
   },
   "outputs": [],
   "source": [
    "df = df[[\n",
    "'State',\n",
    "'District',\n",
    "'Mandal',\n",
    "'School',\n",
    "'Udise',\n",
    "'School_Type',\n",
    "'Grade',\n",
    "'Child_Name',\n",
    "'Child_Id',\n",
    "'Gender',\n",
    "'Social_Category',\n",
    "'Subject',\n",
    "'Question_no',\n",
    "'Score',\n",
    "'Topic',\n",
    "'Skill',\n",
    "'Characteristic']]"
   ]
  },
  {
   "cell_type": "code",
   "execution_count": 257,
   "id": "95f12c39",
   "metadata": {},
   "outputs": [],
   "source": [
    "df.to_pickle('./CBALongPickleFiles/eng.pkl')"
   ]
  },
  {
   "cell_type": "code",
   "execution_count": 258,
   "id": "a51c2119",
   "metadata": {},
   "outputs": [],
   "source": [
    "#df.to_csv('./CBALongFiles/CBA_G5_LongFile.csv')"
   ]
  },
  {
   "cell_type": "code",
   "execution_count": 261,
   "id": "2caf4103",
   "metadata": {},
   "outputs": [],
   "source": [
    "df = pd.DataFrame()"
   ]
  },
  {
   "cell_type": "code",
   "execution_count": null,
   "id": "391ffdc1",
   "metadata": {},
   "outputs": [],
   "source": []
  }
 ],
 "metadata": {
  "kernelspec": {
   "display_name": "Python 3 (ipykernel)",
   "language": "python",
   "name": "python3"
  },
  "language_info": {
   "codemirror_mode": {
    "name": "ipython",
    "version": 3
   },
   "file_extension": ".py",
   "mimetype": "text/x-python",
   "name": "python",
   "nbconvert_exporter": "python",
   "pygments_lexer": "ipython3",
   "version": "3.9.12"
  }
 },
 "nbformat": 4,
 "nbformat_minor": 5
}

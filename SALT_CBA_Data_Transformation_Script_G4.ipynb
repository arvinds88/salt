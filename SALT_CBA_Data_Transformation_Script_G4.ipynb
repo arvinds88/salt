{
 "cells": [
  {
   "cell_type": "code",
   "execution_count": 482,
   "id": "87353759",
   "metadata": {},
   "outputs": [],
   "source": [
    "import pandas as pd\n",
    "import numpy as np\n",
    "import os"
   ]
  },
  {
   "cell_type": "code",
   "execution_count": 483,
   "id": "05fdf0f1",
   "metadata": {},
   "outputs": [],
   "source": [
    "os.chdir('/Users/arvind/Documents/Work/Zoho WorkDrive (Educational Initiatives Private Limited)/My Folders/Projects/SALT/Dashboards/')"
   ]
  },
  {
   "cell_type": "markdown",
   "id": "30efec0c",
   "metadata": {},
   "source": [
    "<h1 style=\"color:blue;\">\n",
    "    Raw Scores\n",
    "</h1>"
   ]
  },
  {
   "cell_type": "code",
   "execution_count": 484,
   "id": "3f475a82",
   "metadata": {},
   "outputs": [],
   "source": [
    "dfp = pd.read_csv('./CBAScoredFiles/g4.csv')"
   ]
  },
  {
   "cell_type": "code",
   "execution_count": 485,
   "id": "109daf51",
   "metadata": {},
   "outputs": [
    {
     "data": {
      "text/plain": [
       "(406623, 145)"
      ]
     },
     "execution_count": 485,
     "metadata": {},
     "output_type": "execute_result"
    }
   ],
   "source": [
    "#check\n",
    "dfp.shape"
   ]
  },
  {
   "cell_type": "code",
   "execution_count": 486,
   "id": "26576f7e",
   "metadata": {},
   "outputs": [],
   "source": [
    "#df.to_pickle('./CBAScoredFiles/cba_data_for_dashboard.pkl')"
   ]
  },
  {
   "cell_type": "code",
   "execution_count": 487,
   "id": "44259546",
   "metadata": {},
   "outputs": [],
   "source": [
    "#dfp = pd.read_pickle('./cba_data_for_dashboard.pkl')"
   ]
  },
  {
   "cell_type": "code",
   "execution_count": 488,
   "id": "b3b0f8df",
   "metadata": {},
   "outputs": [],
   "source": [
    "unwanted = ('student_id','disecode','student_name','class','section','roll_no','unique_id','gender','social_category','medium_id'\n",
    "            ,'Language_paperset','Language_jumble_set','Language_present_absent','LanguageTotal','LanguagePercentage_old','LanguagePercentage','Language_cheating_drop'\n",
    "            ,'Maths_paperset','Maths_jumble_set','Maths_present_absent','MathsTotal','MathsPercentage_old','MathsPercentage','Maths_cheating_drop'\n",
    "            ,'EVS_paperset','EVS_jumble_set','EVS_present_absent','EVSTotal','EVSPercentage_old','EVSPercentage','EVS_cheating_drop'\n",
    "            ,'Science_paperset','Science_jumble_set','Science_present_absent','ScienceTotal','SciencePercentage_old','SciencePercentage','Science_cheating_drop'\n",
    "            ,'SS_paperset','SS_jumble_set','SS_present_absent','SSTotal','SSPercentage_old','SSPercentage','SS_cheating_drop'\n",
    "           )"
   ]
  },
  {
   "cell_type": "code",
   "execution_count": 489,
   "id": "a1861839",
   "metadata": {},
   "outputs": [],
   "source": [
    "var_list = list(dfp)"
   ]
  },
  {
   "cell_type": "code",
   "execution_count": 490,
   "id": "c58f656f",
   "metadata": {},
   "outputs": [],
   "source": [
    "#EQ = EVS, MQ = Maths, LQ = Language (Telugu), SQ = Science, OQ = Social Science\n",
    "prefixes = ('Score_EQ','Score_MQ','Score_LQ','Score_SQ','Score_OQ')\n",
    "dropped = [x for x in var_list if x.startswith(prefixes)]"
   ]
  },
  {
   "cell_type": "code",
   "execution_count": 491,
   "id": "6a2b3f46",
   "metadata": {},
   "outputs": [],
   "source": [
    "dfp.drop(dropped, axis = 1 , inplace = True)"
   ]
  },
  {
   "cell_type": "code",
   "execution_count": 492,
   "id": "e9a182e0",
   "metadata": {},
   "outputs": [],
   "source": [
    "var_list = list(dfp)"
   ]
  },
  {
   "cell_type": "code",
   "execution_count": 493,
   "id": "e6361d0f",
   "metadata": {},
   "outputs": [],
   "source": [
    "retain = [ele for ele in var_list if ele not in unwanted]"
   ]
  },
  {
   "cell_type": "code",
   "execution_count": 494,
   "id": "5e9a6c90",
   "metadata": {},
   "outputs": [],
   "source": [
    "#Define dimensions based on grade - present absent flag will change based on the subjects relevant to that grade\n",
    "#G2 - Maths, Language; G3,4,5 - EVS, Maths, Language; G6,7,8 - Maths, Language, SS, Science\n",
    "dimensions = ['student_id','disecode','student_name','class','section','roll_no'\n",
    "                                  ,'unique_id','gender','social_category','medium_id'\n",
    "                                  ,'Language_present_absent'\n",
    "                                  ,'Maths_present_absent'\n",
    "                                  ,'EVS_present_absent'\n",
    "                                ]"
   ]
  },
  {
   "cell_type": "code",
   "execution_count": 496,
   "id": "fc7784c2",
   "metadata": {
    "scrolled": true
   },
   "outputs": [],
   "source": [
    "dfp_unpivot = pd.melt(dfp,id_vars = dimensions\n",
    "                        ,value_vars = retain)"
   ]
  },
  {
   "cell_type": "code",
   "execution_count": null,
   "id": "32d5ab46",
   "metadata": {},
   "outputs": [],
   "source": [
    "dfp = pd.DataFrame()"
   ]
  },
  {
   "cell_type": "code",
   "execution_count": 497,
   "id": "b26a5f60",
   "metadata": {},
   "outputs": [
    {
     "data": {
      "text/plain": [
       "(23177511, 15)"
      ]
     },
     "execution_count": 497,
     "metadata": {},
     "output_type": "execute_result"
    }
   ],
   "source": [
    "#check\n",
    "dfp_unpivot.shape"
   ]
  },
  {
   "cell_type": "code",
   "execution_count": 498,
   "id": "29048bcd",
   "metadata": {},
   "outputs": [],
   "source": [
    "dfp_unpivot[['Subject','Question']] = dfp_unpivot['variable'].str.split('Q',1,expand=True)"
   ]
  },
  {
   "cell_type": "code",
   "execution_count": 499,
   "id": "717a9be2",
   "metadata": {},
   "outputs": [],
   "source": [
    "#Language mapped as Telugu for general files; English and Hindi will be separate scored files altogether\n",
    "dfp_unpivot.loc[dfp_unpivot[\"Subject\"]==\"L\",\"Subject\"]=\"Telugu\"\n",
    "dfp_unpivot.loc[dfp_unpivot[\"Subject\"]==\"M\",\"Subject\"]=\"Maths\"\n",
    "dfp_unpivot.loc[dfp_unpivot[\"Subject\"]==\"E\",\"Subject\"]=\"EVS\"\n",
    "dfp_unpivot.loc[dfp_unpivot[\"Subject\"]==\"O\",\"Subject\"]=\"SS\"\n",
    "dfp_unpivot.loc[dfp_unpivot[\"Subject\"]==\"S\",\"Subject\"]=\"Science\""
   ]
  },
  {
   "cell_type": "code",
   "execution_count": 500,
   "id": "462007de",
   "metadata": {},
   "outputs": [],
   "source": [
    "dfp_unpivot = dfp_unpivot.drop(['section','roll_no','student_id','variable'],axis=1)"
   ]
  },
  {
   "cell_type": "code",
   "execution_count": 501,
   "id": "ed585c40",
   "metadata": {},
   "outputs": [],
   "source": [
    "dfp_unpivot.fillna('',inplace = True)"
   ]
  },
  {
   "cell_type": "code",
   "execution_count": 502,
   "id": "0e763c01",
   "metadata": {},
   "outputs": [],
   "source": [
    "#Define dimensions based on grade - present absent flag will change based on the subjects relevant to that grade\n",
    "#G2 - Maths, Language; G3,4,5 - EVS, Maths, Language; G6,7,8 - Maths, Language, SS, Science\n",
    "indexELM = dfp_unpivot[(((dfp_unpivot['Language_present_absent']=='A')|(dfp_unpivot['Language_present_absent']==''))&(dfp_unpivot['Subject']=='Telugu'))|\n",
    "                       (((dfp_unpivot['Maths_present_absent']=='A')|(dfp_unpivot['Maths_present_absent']==''))&(dfp_unpivot['Subject']=='Maths'))|\n",
    "                       (((dfp_unpivot['EVS_present_absent']=='A')|(dfp_unpivot['EVS_present_absent']==''))&(dfp_unpivot['Subject']=='EVS'))\n",
    "                      ].index\n",
    "\n",
    "dfp_unpivot.drop(indexELM, inplace=True)"
   ]
  },
  {
   "cell_type": "code",
   "execution_count": 503,
   "id": "02385b03",
   "metadata": {},
   "outputs": [
    {
     "data": {
      "text/plain": [
       "(22762076, 13)"
      ]
     },
     "execution_count": 503,
     "metadata": {},
     "output_type": "execute_result"
    }
   ],
   "source": [
    "#check\n",
    "dfp_unpivot.shape"
   ]
  },
  {
   "cell_type": "code",
   "execution_count": 504,
   "id": "26639704",
   "metadata": {},
   "outputs": [],
   "source": [
    "#Define dimensions based on grade - present absent flag will change based on the subjects relevant to that grade\n",
    "#G2 - Maths, Language; G3,4,5 - EVS, Maths, Language; G6,7,8 - Maths, Language, SS, Science\n",
    "dfp_unpivot = dfp_unpivot.drop(['Language_present_absent','Maths_present_absent','EVS_present_absent'],axis=1)"
   ]
  },
  {
   "cell_type": "code",
   "execution_count": 505,
   "id": "239e23be",
   "metadata": {},
   "outputs": [],
   "source": [
    "dfp_unpivot['Question'] = dfp_unpivot['Question'].astype(np.int64)"
   ]
  },
  {
   "cell_type": "code",
   "execution_count": 506,
   "id": "63af6b03",
   "metadata": {},
   "outputs": [],
   "source": [
    "dfp_unpivot = dfp_unpivot.rename(columns = {'unique_id':'Child_Id','disecode':'Udise','student_name':'Child_Name','class':'Grade','gender':'Gender','social_category':'Social_Category','medium_id':'Medium_Id','value':'Raw_Score','Subject':'Subject','Question':'Question_no'})"
   ]
  },
  {
   "cell_type": "code",
   "execution_count": 507,
   "id": "84a3ac76",
   "metadata": {},
   "outputs": [],
   "source": [
    "dfp_unpivot.to_pickle('./CBAScoredFiles/g4_scores.pkl')"
   ]
  },
  {
   "cell_type": "markdown",
   "id": "d2eda596",
   "metadata": {},
   "source": [
    "<h1 style=\"color:blue;\">\n",
    "    Total Scores\n",
    "</h1>"
   ]
  },
  {
   "cell_type": "code",
   "execution_count": 508,
   "id": "ffea9896",
   "metadata": {},
   "outputs": [],
   "source": [
    "dfp = pd.read_csv('./CBAScoredFiles/g4.csv')"
   ]
  },
  {
   "cell_type": "code",
   "execution_count": 509,
   "id": "01525005",
   "metadata": {},
   "outputs": [
    {
     "data": {
      "text/plain": [
       "(406623, 145)"
      ]
     },
     "execution_count": 509,
     "metadata": {},
     "output_type": "execute_result"
    }
   ],
   "source": [
    "#check\n",
    "dfp.shape"
   ]
  },
  {
   "cell_type": "code",
   "execution_count": 510,
   "id": "5b632ca8",
   "metadata": {},
   "outputs": [],
   "source": [
    "unwanted = ('student_id','disecode','student_name','class','section','roll_no','unique_id','gender','social_category','medium_id'\n",
    "            ,'Language_paperset','Language_jumble_set','Language_present_absent','LanguageTotal','LanguagePercentage_old','LanguagePercentage','Language_cheating_drop'\n",
    "            ,'Maths_paperset','Maths_jumble_set','Maths_present_absent','MathsTotal','MathsPercentage_old','MathsPercentage','Maths_cheating_drop'\n",
    "            ,'EVS_paperset','EVS_jumble_set','EVS_present_absent','EVSTotal','EVSPercentage_old','EVSPercentage','EVS_cheating_drop'\n",
    "            ,'Science_paperset','Science_jumble_set','Science_present_absent','ScienceTotal','SciencePercentage_old','SciencePercentage','Science_cheating_drop'\n",
    "            ,'SS_paperset','SS_jumble_set','SS_present_absent','SSTotal','SSPercentage_old','SSPercentage','SS_cheating_drop'\n",
    "           )"
   ]
  },
  {
   "cell_type": "code",
   "execution_count": 511,
   "id": "e98f923e",
   "metadata": {},
   "outputs": [],
   "source": [
    "var_list = list(dfp)"
   ]
  },
  {
   "cell_type": "code",
   "execution_count": 512,
   "id": "49667033",
   "metadata": {},
   "outputs": [],
   "source": [
    "#EQ = EVS, MQ = Maths, LQ = Language (Telugu), SQ = Science, OQ = Social Science\n",
    "prefixes = ('EQ','MQ','LQ','SQ','OQ')\n",
    "dropped = [x for x in var_list if x.startswith(prefixes)]"
   ]
  },
  {
   "cell_type": "code",
   "execution_count": 513,
   "id": "9f739a76",
   "metadata": {},
   "outputs": [],
   "source": [
    "dfp.drop(dropped, axis = 1 , inplace = True)"
   ]
  },
  {
   "cell_type": "code",
   "execution_count": 514,
   "id": "ccf748ac",
   "metadata": {},
   "outputs": [],
   "source": [
    "var_list = list(dfp)"
   ]
  },
  {
   "cell_type": "code",
   "execution_count": 515,
   "id": "4f7d50e9",
   "metadata": {},
   "outputs": [],
   "source": [
    "retain = [ele for ele in var_list if ele not in unwanted]"
   ]
  },
  {
   "cell_type": "code",
   "execution_count": 516,
   "id": "7bd9b978",
   "metadata": {},
   "outputs": [],
   "source": [
    "#Define dimensions based on grade - present absent flag will change based on the subjects relevant to that grade\n",
    "#G2 - Maths, Language; G3,4,5 - EVS, Maths, Language; G6,7,8 - Maths, Language, SS, Science\n",
    "dimensions = ['student_id','disecode','student_name','class','section','roll_no'\n",
    "                                  ,'unique_id','gender','social_category','medium_id'\n",
    "                                  ,'Language_present_absent'\n",
    "                                  ,'Maths_present_absent'\n",
    "                                  ,'EVS_present_absent'\n",
    "                                ]"
   ]
  },
  {
   "cell_type": "code",
   "execution_count": 517,
   "id": "8c12f1d7",
   "metadata": {},
   "outputs": [],
   "source": [
    "dfp_unpivot = pd.melt(dfp,id_vars = dimensions\n",
    "                        ,value_vars = retain)"
   ]
  },
  {
   "cell_type": "code",
   "execution_count": null,
   "id": "ee9280b4",
   "metadata": {},
   "outputs": [],
   "source": [
    "dfp = pd.DataFrame()"
   ]
  },
  {
   "cell_type": "code",
   "execution_count": 518,
   "id": "80548437",
   "metadata": {},
   "outputs": [],
   "source": [
    "dfp_unpivot[['S','Q']] = dfp_unpivot['variable'].str.split('_',1,expand=True)"
   ]
  },
  {
   "cell_type": "code",
   "execution_count": 519,
   "id": "dc5d0007",
   "metadata": {},
   "outputs": [],
   "source": [
    "dfp_unpivot[['Subject','Question']] = dfp_unpivot['Q'].str.split('Q',1,expand=True)"
   ]
  },
  {
   "cell_type": "code",
   "execution_count": 520,
   "id": "08139ea9",
   "metadata": {},
   "outputs": [],
   "source": [
    "#Language mapped as Telugu for general files; English and Hindi will be separate scored files altogether\n",
    "dfp_unpivot.loc[dfp_unpivot[\"Subject\"]==\"L\",\"Subject\"]=\"Telugu\"\n",
    "dfp_unpivot.loc[dfp_unpivot[\"Subject\"]==\"M\",\"Subject\"]=\"Maths\"\n",
    "dfp_unpivot.loc[dfp_unpivot[\"Subject\"]==\"E\",\"Subject\"]=\"EVS\"\n",
    "dfp_unpivot.loc[dfp_unpivot[\"Subject\"]==\"O\",\"Subject\"]=\"SS\"\n",
    "dfp_unpivot.loc[dfp_unpivot[\"Subject\"]==\"S\",\"Subject\"]=\"Science\""
   ]
  },
  {
   "cell_type": "code",
   "execution_count": 521,
   "id": "653146f1",
   "metadata": {},
   "outputs": [],
   "source": [
    "dfp_unpivot = dfp_unpivot.drop(['section','roll_no','student_id','variable','S','Q'],axis=1)"
   ]
  },
  {
   "cell_type": "code",
   "execution_count": 522,
   "id": "cbfeb08c",
   "metadata": {},
   "outputs": [],
   "source": [
    "dfp_unpivot.fillna('',inplace = True)"
   ]
  },
  {
   "cell_type": "code",
   "execution_count": 523,
   "id": "506e7b4c",
   "metadata": {},
   "outputs": [],
   "source": [
    "#Define dimensions based on grade - present absent flag will change based on the subjects relevant to that grade\n",
    "#G2 - Maths, Language; G3,4,5 - EVS, Maths, Language; G6,7,8 - Maths, Language, SS, Science\n",
    "indexELM = dfp_unpivot[(((dfp_unpivot['Language_present_absent']=='A')|(dfp_unpivot['Language_present_absent']==''))&(dfp_unpivot['Subject']=='Telugu'))|\n",
    "                       (((dfp_unpivot['Maths_present_absent']=='A')|(dfp_unpivot['Maths_present_absent']==''))&(dfp_unpivot['Subject']=='Maths'))|\n",
    "                       (((dfp_unpivot['EVS_present_absent']=='A')|(dfp_unpivot['EVS_present_absent']==''))&(dfp_unpivot['Subject']=='EVS'))\n",
    "                      ].index\n",
    "\n",
    "dfp_unpivot.drop(indexELM, inplace=True)"
   ]
  },
  {
   "cell_type": "code",
   "execution_count": 524,
   "id": "2c4b0149",
   "metadata": {},
   "outputs": [
    {
     "data": {
      "text/plain": [
       "(22762076, 13)"
      ]
     },
     "execution_count": 524,
     "metadata": {},
     "output_type": "execute_result"
    }
   ],
   "source": [
    "#check\n",
    "dfp_unpivot.shape"
   ]
  },
  {
   "cell_type": "code",
   "execution_count": 525,
   "id": "38d81308",
   "metadata": {},
   "outputs": [],
   "source": [
    "#Define dimensions based on grade - present absent flag will change based on the subjects relevant to that grade\n",
    "#G2 - Maths, Language; G3,4,5 - EVS, Maths, Language; G6,7,8 - Maths, Language, SS, Science\n",
    "dfp_unpivot = dfp_unpivot.drop(['Language_present_absent','Maths_present_absent'],axis=1)"
   ]
  },
  {
   "cell_type": "code",
   "execution_count": 526,
   "id": "018c5b2b",
   "metadata": {},
   "outputs": [],
   "source": [
    "dfp_unpivot['Question'] = dfp_unpivot['Question'].astype(np.int64)"
   ]
  },
  {
   "cell_type": "code",
   "execution_count": 527,
   "id": "20ba10d4",
   "metadata": {},
   "outputs": [],
   "source": [
    "dfp_unpivot = dfp_unpivot.rename(columns = {'unique_id':'Child_Id','disecode':'Udise'\\\n",
    "                                            ,'student_name':'Child_Name','class':'Grade'\\\n",
    "                                            ,'gender':'Gender','social_category':'Social_Category'\\\n",
    "                                            ,'medium_id':'Medium_Id','value':'Total_Score'\\\n",
    "                                            ,'Subject':'Subject','Question':'Question_no'})"
   ]
  },
  {
   "cell_type": "code",
   "execution_count": 528,
   "id": "f8e2fc9b",
   "metadata": {},
   "outputs": [],
   "source": [
    "dfp_unpivot.to_pickle('./CBAScoredFiles/g4_raw_scores.pkl')"
   ]
  },
  {
   "cell_type": "code",
   "execution_count": 529,
   "id": "d86ba443",
   "metadata": {},
   "outputs": [],
   "source": [
    "dfp_unpivot = pd.DataFrame()"
   ]
  },
  {
   "cell_type": "markdown",
   "id": "86277b0d",
   "metadata": {},
   "source": [
    "<h1 style=\"color:blue;\">\n",
    "    Merge files\n",
    "</h1>"
   ]
  },
  {
   "cell_type": "code",
   "execution_count": 530,
   "id": "2bed60bc",
   "metadata": {},
   "outputs": [],
   "source": [
    "Scores = pd.read_pickle('./CBAScoredFiles/g4_scores.pkl')"
   ]
  },
  {
   "cell_type": "code",
   "execution_count": 531,
   "id": "f7ba7760",
   "metadata": {},
   "outputs": [],
   "source": [
    "Raw = pd.read_pickle('./CBAScoredFiles/g4_raw_scores.pkl')"
   ]
  },
  {
   "cell_type": "code",
   "execution_count": 532,
   "id": "2b5b4a89",
   "metadata": {},
   "outputs": [],
   "source": [
    "df = pd.merge(Scores, Raw, on=['Child_Id','Udise','Child_Name','Grade','Gender','Social_Category'\\\n",
    "                               ,'Medium_Id','Subject','Question_no'], suffixes=(\"\", \"\"))\n"
   ]
  },
  {
   "cell_type": "markdown",
   "id": "28b1ddc6",
   "metadata": {},
   "source": [
    "<h1 style=\"color:blue;\">\n",
    "    School mapping\n",
    "</h1>"
   ]
  },
  {
   "cell_type": "code",
   "execution_count": 533,
   "id": "8958afcc",
   "metadata": {},
   "outputs": [],
   "source": [
    "school_mapping = pd.read_excel('./MappingFiles/AP_SchoolMaster_DistrictMandal_Mapping.xlsx')"
   ]
  },
  {
   "cell_type": "code",
   "execution_count": 534,
   "id": "001cc65b",
   "metadata": {},
   "outputs": [],
   "source": [
    "df = pd.merge(df,school_mapping,how='left',left_on='Udise',right_on='SCHOOLCODE')"
   ]
  },
  {
   "cell_type": "code",
   "execution_count": 535,
   "id": "cab969e5",
   "metadata": {},
   "outputs": [],
   "source": [
    "df = df.assign(State='Andhra Pradesh',Topic='',Subtopic='',Skill='',MUA='')"
   ]
  },
  {
   "cell_type": "code",
   "execution_count": 536,
   "id": "96c442a1",
   "metadata": {},
   "outputs": [],
   "source": [
    "df = df.rename(columns={'SCHOOLNAME':'School','schooltype':'School_Type','Udise':'Udise'\\\n",
    "                                       ,'Social_Category':'Social_Category','District ':'District'})"
   ]
  },
  {
   "cell_type": "code",
   "execution_count": 537,
   "id": "1d1b1eed",
   "metadata": {},
   "outputs": [],
   "source": [
    "df = df.drop(['SCHOOLCODE','Medium_Id'],axis=1)"
   ]
  },
  {
   "cell_type": "code",
   "execution_count": 538,
   "id": "933f43e3",
   "metadata": {
    "scrolled": true
   },
   "outputs": [],
   "source": [
    "df = df[[\n",
    "'State',\n",
    "'District',\n",
    "'Mandal',\n",
    "'School',\n",
    "'Udise',\n",
    "'School_Type',\n",
    "'Grade',\n",
    "'Child_Name',\n",
    "'Child_Id',\n",
    "'Gender',\n",
    "'Social_Category',\n",
    "'Subject',\n",
    "'Question_no',\n",
    "'Total_Score',\n",
    "'Raw_Score',\n",
    "'Topic',\n",
    "'Subtopic',\n",
    "'Skill',\n",
    "'MUA']]"
   ]
  },
  {
   "cell_type": "code",
   "execution_count": null,
   "id": "d24ed3f2",
   "metadata": {},
   "outputs": [],
   "source": [
    "df.to_pickle('./CBALongPickleFiles/G4.pkl')"
   ]
  },
  {
   "cell_type": "code",
   "execution_count": 539,
   "id": "a51c2119",
   "metadata": {},
   "outputs": [],
   "source": [
    "#df.to_csv('./CBALongFiles/CBA_G4_LongFile.csv')"
   ]
  },
  {
   "cell_type": "code",
   "execution_count": null,
   "id": "1ea85cd1",
   "metadata": {},
   "outputs": [],
   "source": [
    "df = pd.DataFrame()"
   ]
  }
 ],
 "metadata": {
  "kernelspec": {
   "display_name": "Python 3 (ipykernel)",
   "language": "python",
   "name": "python3"
  },
  "language_info": {
   "codemirror_mode": {
    "name": "ipython",
    "version": 3
   },
   "file_extension": ".py",
   "mimetype": "text/x-python",
   "name": "python",
   "nbconvert_exporter": "python",
   "pygments_lexer": "ipython3",
   "version": "3.9.12"
  }
 },
 "nbformat": 4,
 "nbformat_minor": 5
}

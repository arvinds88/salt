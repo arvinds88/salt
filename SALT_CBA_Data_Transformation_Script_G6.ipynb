{
 "cells": [
  {
   "cell_type": "code",
   "execution_count": 1,
   "id": "87353759",
   "metadata": {},
   "outputs": [],
   "source": [
    "import pandas as pd\n",
    "import numpy as np\n",
    "import os"
   ]
  },
  {
   "cell_type": "code",
   "execution_count": 2,
   "id": "e9487e00",
   "metadata": {},
   "outputs": [],
   "source": [
    "os.chdir('/Users/arvind/Documents/Work/Zoho WorkDrive (Educational Initiatives Private Limited)/My Folders/Projects/SALT/Dashboards/')"
   ]
  },
  {
   "cell_type": "markdown",
   "id": "30efec0c",
   "metadata": {},
   "source": [
    "<h1 style=\"color:blue;\">\n",
    "    Raw Scores\n",
    "</h1>"
   ]
  },
  {
   "cell_type": "code",
   "execution_count": 3,
   "id": "3f475a82",
   "metadata": {},
   "outputs": [],
   "source": [
    "dfp = pd.read_csv('./CBAScoredFiles/g6.csv')"
   ]
  },
  {
   "cell_type": "code",
   "execution_count": 4,
   "id": "a8478042",
   "metadata": {},
   "outputs": [
    {
     "data": {
      "text/plain": [
       "(403030, 190)"
      ]
     },
     "execution_count": 4,
     "metadata": {},
     "output_type": "execute_result"
    }
   ],
   "source": [
    "#check\n",
    "dfp.shape"
   ]
  },
  {
   "cell_type": "code",
   "execution_count": 5,
   "id": "26576f7e",
   "metadata": {},
   "outputs": [],
   "source": [
    "#df.to_pickle('./CBAScoredFiles/cba_data_for_dashboard.pkl')"
   ]
  },
  {
   "cell_type": "code",
   "execution_count": 6,
   "id": "44259546",
   "metadata": {},
   "outputs": [],
   "source": [
    "#dfp = pd.read_pickle('./cba_data_for_dashboard.pkl')"
   ]
  },
  {
   "cell_type": "code",
   "execution_count": 7,
   "id": "b3b0f8df",
   "metadata": {},
   "outputs": [],
   "source": [
    "unwanted = ('student_id','disecode','student_name','class','section','roll_no','unique_id','gender','social_category','medium_id'\n",
    "            ,'Language_paperset','Language_jumble_set','Language_present_absent','LanguageTotal','LanguagePercentage_old','LanguagePercentage','Language_cheating_drop'\n",
    "            ,'Maths_paperset','Maths_jumble_set','Maths_present_absent','MathsTotal','MathsPercentage_old','MathsPercentage','Maths_cheating_drop'\n",
    "            ,'EVS_paperset','EVS_jumble_set','EVS_present_absent','EVSTotal','EVSPercentage_old','EVSPercentage','EVS_cheating_drop'\n",
    "            ,'Science_paperset','Science_jumble_set','Science_present_absent','ScienceTotal','SciencePercentage_old','SciencePercentage','Science_cheating_drop'\n",
    "            ,'SS_paperset','SS_jumble_set','SS_present_absent','SSTotal','SSPercentage_old','SSPercentage','SS_cheating_drop'\n",
    "           )"
   ]
  },
  {
   "cell_type": "code",
   "execution_count": 8,
   "id": "a1861839",
   "metadata": {},
   "outputs": [],
   "source": [
    "var_list = list(dfp)"
   ]
  },
  {
   "cell_type": "code",
   "execution_count": 9,
   "id": "c58f656f",
   "metadata": {},
   "outputs": [],
   "source": [
    "#EQ = EVS, MQ = Maths, LQ = Language (Telugu), SQ = Science, OQ = Social Science\n",
    "prefixes = ('Score_EQ','Score_MQ','Score_LQ','Score_SQ','Score_OQ')\n",
    "dropped = [x for x in var_list if x.startswith(prefixes)]"
   ]
  },
  {
   "cell_type": "code",
   "execution_count": 10,
   "id": "6a2b3f46",
   "metadata": {},
   "outputs": [],
   "source": [
    "dfp.drop(dropped, axis = 1 , inplace = True)"
   ]
  },
  {
   "cell_type": "code",
   "execution_count": 11,
   "id": "217acf2f",
   "metadata": {},
   "outputs": [],
   "source": [
    "var_list = list(dfp)"
   ]
  },
  {
   "cell_type": "code",
   "execution_count": 12,
   "id": "e6361d0f",
   "metadata": {},
   "outputs": [],
   "source": [
    "retain = [ele for ele in var_list if ele not in unwanted]"
   ]
  },
  {
   "cell_type": "code",
   "execution_count": 13,
   "id": "5e9a6c90",
   "metadata": {},
   "outputs": [],
   "source": [
    "#Define dimensions based on grade - present absent flag will change based on the subjects relevant to that grade\n",
    "#G2 - Maths, Language; G3,4,5 - EVS, Maths, Language; G6,7,8 - Maths, Language, SS, Science\n",
    "dimensions = ['student_id','disecode','student_name','class','section','roll_no'\n",
    "                                  ,'unique_id','gender','social_category','medium_id'\n",
    "                                  ,'Language_present_absent'\n",
    "                                  ,'Maths_present_absent'\n",
    "                                  ,'SS_present_absent'\n",
    "                                  ,'Science_present_absent'\n",
    "                                ]"
   ]
  },
  {
   "cell_type": "code",
   "execution_count": 14,
   "id": "fc7784c2",
   "metadata": {
    "scrolled": true
   },
   "outputs": [],
   "source": [
    "dfp_unpivot = pd.melt(dfp,id_vars = dimensions\n",
    "                        ,value_vars = retain)"
   ]
  },
  {
   "cell_type": "code",
   "execution_count": 15,
   "id": "48f37919",
   "metadata": {},
   "outputs": [],
   "source": [
    "dfp = pd.DataFrame()"
   ]
  },
  {
   "cell_type": "code",
   "execution_count": 16,
   "id": "9eaa8fe4",
   "metadata": {},
   "outputs": [
    {
     "data": {
      "text/plain": [
       "(30630280, 16)"
      ]
     },
     "execution_count": 16,
     "metadata": {},
     "output_type": "execute_result"
    }
   ],
   "source": [
    "#check\n",
    "dfp_unpivot.shape"
   ]
  },
  {
   "cell_type": "code",
   "execution_count": 17,
   "id": "29048bcd",
   "metadata": {},
   "outputs": [],
   "source": [
    "dfp_unpivot[['Subject','Question']] = dfp_unpivot['variable'].str.split('Q',1,expand=True)"
   ]
  },
  {
   "cell_type": "code",
   "execution_count": 18,
   "id": "717a9be2",
   "metadata": {},
   "outputs": [],
   "source": [
    "#Language mapped as Telugu for general files; English and Hindi will be separate scored files altogether\n",
    "dfp_unpivot.loc[dfp_unpivot[\"Subject\"]==\"L\",\"Subject\"]=\"Telugu\"\n",
    "dfp_unpivot.loc[dfp_unpivot[\"Subject\"]==\"M\",\"Subject\"]=\"Maths\"\n",
    "dfp_unpivot.loc[dfp_unpivot[\"Subject\"]==\"E\",\"Subject\"]=\"EVS\"\n",
    "dfp_unpivot.loc[dfp_unpivot[\"Subject\"]==\"O\",\"Subject\"]=\"SS\"\n",
    "dfp_unpivot.loc[dfp_unpivot[\"Subject\"]==\"S\",\"Subject\"]=\"Science\""
   ]
  },
  {
   "cell_type": "code",
   "execution_count": 19,
   "id": "462007de",
   "metadata": {},
   "outputs": [],
   "source": [
    "dfp_unpivot = dfp_unpivot.drop(['section','roll_no','student_id','variable'],axis=1)"
   ]
  },
  {
   "cell_type": "code",
   "execution_count": 20,
   "id": "ed585c40",
   "metadata": {},
   "outputs": [],
   "source": [
    "dfp_unpivot.fillna('',inplace = True)"
   ]
  },
  {
   "cell_type": "code",
   "execution_count": 21,
   "id": "0e763c01",
   "metadata": {},
   "outputs": [],
   "source": [
    "#Define dimensions based on grade - present absent flag will change based on the subjects relevant to that grade\n",
    "#G2 - Maths, Language; G3,4,5 - EVS, Maths, Language; G6,7,8 - Maths, Language, SS, Science\n",
    "indexELM = dfp_unpivot[(((dfp_unpivot['Language_present_absent']=='A')|(dfp_unpivot['Language_present_absent']==''))&(dfp_unpivot['Subject']=='Telugu'))|\n",
    "                       (((dfp_unpivot['Maths_present_absent']=='A')|(dfp_unpivot['Maths_present_absent']==''))&(dfp_unpivot['Subject']=='Maths'))|\n",
    "                       (((dfp_unpivot['SS_present_absent']=='A')|(dfp_unpivot['SS_present_absent']==''))&(dfp_unpivot['Subject']=='SS'))|\n",
    "                       (((dfp_unpivot['Science_present_absent']=='A')|(dfp_unpivot['Science_present_absent']==''))&(dfp_unpivot['Subject']=='Science'))\n",
    "                      ].index\n",
    "\n",
    "dfp_unpivot.drop(indexELM, inplace=True)"
   ]
  },
  {
   "cell_type": "code",
   "execution_count": 22,
   "id": "793401c4",
   "metadata": {},
   "outputs": [
    {
     "data": {
      "text/plain": [
       "(30017511, 14)"
      ]
     },
     "execution_count": 22,
     "metadata": {},
     "output_type": "execute_result"
    }
   ],
   "source": [
    "#check\n",
    "dfp_unpivot.shape"
   ]
  },
  {
   "cell_type": "code",
   "execution_count": 23,
   "id": "26639704",
   "metadata": {},
   "outputs": [],
   "source": [
    "#Define dimensions based on grade - present absent flag will change based on the subjects relevant to that grade\n",
    "#G2 - Maths, Language; G3,4,5 - EVS, Maths, Language; G6,7,8 - Maths, Language, SS, Science\n",
    "dfp_unpivot = dfp_unpivot.drop(['Language_present_absent','Maths_present_absent','SS_present_absent','Science_present_absent'],axis=1)"
   ]
  },
  {
   "cell_type": "code",
   "execution_count": 24,
   "id": "239e23be",
   "metadata": {},
   "outputs": [],
   "source": [
    "dfp_unpivot['Question'] = dfp_unpivot['Question'].astype(np.int64)"
   ]
  },
  {
   "cell_type": "code",
   "execution_count": 25,
   "id": "63af6b03",
   "metadata": {},
   "outputs": [],
   "source": [
    "dfp_unpivot = dfp_unpivot.rename(columns = {'unique_id':'Child_Id','disecode':'Udise','student_name':'Child_Name','class':'Grade','gender':'Gender','social_category':'Social_Category','medium_id':'Medium_Id','value':'Raw_Score','Subject':'Subject','Question':'Question_no'})"
   ]
  },
  {
   "cell_type": "code",
   "execution_count": 26,
   "id": "84a3ac76",
   "metadata": {},
   "outputs": [],
   "source": [
    "dfp_unpivot.to_pickle('./CBAScoredFiles/g6_scores.pkl')"
   ]
  },
  {
   "cell_type": "markdown",
   "id": "d2eda596",
   "metadata": {},
   "source": [
    "<h1 style=\"color:blue;\">\n",
    "    Total Scores\n",
    "</h1>"
   ]
  },
  {
   "cell_type": "code",
   "execution_count": 27,
   "id": "ac8fc4ba",
   "metadata": {},
   "outputs": [],
   "source": [
    "dfp = pd.read_csv('./CBAScoredFiles/g6.csv')"
   ]
  },
  {
   "cell_type": "code",
   "execution_count": 28,
   "id": "3cf213ba",
   "metadata": {},
   "outputs": [
    {
     "data": {
      "text/plain": [
       "(403030, 190)"
      ]
     },
     "execution_count": 28,
     "metadata": {},
     "output_type": "execute_result"
    }
   ],
   "source": [
    "#check\n",
    "dfp.shape"
   ]
  },
  {
   "cell_type": "code",
   "execution_count": 29,
   "id": "77999678",
   "metadata": {},
   "outputs": [],
   "source": [
    "unwanted = ('student_id','disecode','student_name','class','section','roll_no','unique_id','gender','social_category','medium_id'\n",
    "            ,'Language_paperset','Language_jumble_set','Language_present_absent','LanguageTotal','LanguagePercentage_old','LanguagePercentage','Language_cheating_drop'\n",
    "            ,'Maths_paperset','Maths_jumble_set','Maths_present_absent','MathsTotal','MathsPercentage_old','MathsPercentage','Maths_cheating_drop'\n",
    "            ,'EVS_paperset','EVS_jumble_set','EVS_present_absent','EVSTotal','EVSPercentage_old','EVSPercentage','EVS_cheating_drop'\n",
    "            ,'Science_paperset','Science_jumble_set','Science_present_absent','ScienceTotal','SciencePercentage_old','SciencePercentage','Science_cheating_drop'\n",
    "            ,'SS_paperset','SS_jumble_set','SS_present_absent','SSTotal','SSPercentage_old','SSPercentage','SS_cheating_drop'\n",
    "           )"
   ]
  },
  {
   "cell_type": "code",
   "execution_count": 30,
   "id": "1dcb829f",
   "metadata": {},
   "outputs": [],
   "source": [
    "var_list = list(dfp)"
   ]
  },
  {
   "cell_type": "code",
   "execution_count": 31,
   "id": "11308d09",
   "metadata": {},
   "outputs": [],
   "source": [
    "#EQ = EVS, MQ = Maths, LQ = Language (Telugu), SQ = Science, OQ = Social Science\n",
    "prefixes = ('EQ','MQ','LQ','SQ','OQ')\n",
    "dropped = [x for x in var_list if x.startswith(prefixes)]"
   ]
  },
  {
   "cell_type": "code",
   "execution_count": 32,
   "id": "39efe660",
   "metadata": {},
   "outputs": [],
   "source": [
    "dfp.drop(dropped, axis = 1 , inplace = True)"
   ]
  },
  {
   "cell_type": "code",
   "execution_count": 33,
   "id": "5daf5a58",
   "metadata": {},
   "outputs": [],
   "source": [
    "var_list = list(dfp)"
   ]
  },
  {
   "cell_type": "code",
   "execution_count": 34,
   "id": "6524cade",
   "metadata": {},
   "outputs": [],
   "source": [
    "retain = [ele for ele in var_list if ele not in unwanted]"
   ]
  },
  {
   "cell_type": "code",
   "execution_count": 35,
   "id": "34f1babe",
   "metadata": {},
   "outputs": [],
   "source": [
    "#Define dimensions based on grade - present absent flag will change based on the subjects relevant to that grade\n",
    "#G2 - Maths, Language; G3,4,5 - EVS, Maths, Language; G6,7,8 - Maths, Language, SS, Science\n",
    "dimensions = ['student_id','disecode','student_name','class','section','roll_no'\n",
    "                                  ,'unique_id','gender','social_category','medium_id'\n",
    "                                  ,'Language_present_absent'\n",
    "                                  ,'Maths_present_absent'\n",
    "                                  ,'SS_present_absent'\n",
    "                                  ,'Science_present_absent'\n",
    "                                ]"
   ]
  },
  {
   "cell_type": "code",
   "execution_count": 36,
   "id": "f95afbfc",
   "metadata": {},
   "outputs": [],
   "source": [
    "dfp_unpivot = pd.melt(dfp,id_vars = dimensions\n",
    "                        ,value_vars = retain)"
   ]
  },
  {
   "cell_type": "code",
   "execution_count": 37,
   "id": "2ae22bf4",
   "metadata": {},
   "outputs": [],
   "source": [
    "dfp = pd.DataFrame()"
   ]
  },
  {
   "cell_type": "code",
   "execution_count": 38,
   "id": "39a43912",
   "metadata": {},
   "outputs": [],
   "source": [
    "dfp_unpivot[['S','Q']] = dfp_unpivot['variable'].str.split('_',1,expand=True)"
   ]
  },
  {
   "cell_type": "code",
   "execution_count": 39,
   "id": "74ba4340",
   "metadata": {},
   "outputs": [],
   "source": [
    "dfp_unpivot[['Subject','Question']] = dfp_unpivot['Q'].str.split('Q',1,expand=True)"
   ]
  },
  {
   "cell_type": "code",
   "execution_count": 40,
   "id": "4698d626",
   "metadata": {},
   "outputs": [],
   "source": [
    "#Language mapped as Telugu for general files; English and Hindi will be separate scored files altogether\n",
    "dfp_unpivot.loc[dfp_unpivot[\"Subject\"]==\"L\",\"Subject\"]=\"Telugu\"\n",
    "dfp_unpivot.loc[dfp_unpivot[\"Subject\"]==\"M\",\"Subject\"]=\"Maths\"\n",
    "dfp_unpivot.loc[dfp_unpivot[\"Subject\"]==\"E\",\"Subject\"]=\"EVS\"\n",
    "dfp_unpivot.loc[dfp_unpivot[\"Subject\"]==\"O\",\"Subject\"]=\"SS\"\n",
    "dfp_unpivot.loc[dfp_unpivot[\"Subject\"]==\"S\",\"Subject\"]=\"Science\""
   ]
  },
  {
   "cell_type": "code",
   "execution_count": 41,
   "id": "0d01a071",
   "metadata": {},
   "outputs": [],
   "source": [
    "dfp_unpivot = dfp_unpivot.drop(['section','roll_no','student_id','variable','S','Q'],axis=1)"
   ]
  },
  {
   "cell_type": "code",
   "execution_count": 42,
   "id": "d9647d6e",
   "metadata": {},
   "outputs": [],
   "source": [
    "dfp_unpivot.fillna('',inplace = True)"
   ]
  },
  {
   "cell_type": "code",
   "execution_count": 43,
   "id": "c8ff1c4a",
   "metadata": {},
   "outputs": [],
   "source": [
    "#Define dimensions based on grade - present absent flag will change based on the subjects relevant to that grade\n",
    "#G2 - Maths, Language; G3,4,5 - EVS, Maths, Language; G6,7,8 - Maths, Language, SS, Science\n",
    "indexELM = dfp_unpivot[(((dfp_unpivot['Language_present_absent']=='A')|(dfp_unpivot['Language_present_absent']==''))&(dfp_unpivot['Subject']=='Telugu'))|\n",
    "                       (((dfp_unpivot['Maths_present_absent']=='A')|(dfp_unpivot['Maths_present_absent']==''))&(dfp_unpivot['Subject']=='Maths'))|\n",
    "                       (((dfp_unpivot['SS_present_absent']=='A')|(dfp_unpivot['SS_present_absent']==''))&(dfp_unpivot['Subject']=='SS'))|\n",
    "                       (((dfp_unpivot['Science_present_absent']=='A')|(dfp_unpivot['Science_present_absent']==''))&(dfp_unpivot['Subject']=='Science'))\n",
    "                      ].index\n",
    "\n",
    "dfp_unpivot.drop(indexELM, inplace=True)"
   ]
  },
  {
   "cell_type": "code",
   "execution_count": 44,
   "id": "f5d6d032",
   "metadata": {},
   "outputs": [
    {
     "data": {
      "text/plain": [
       "(30017511, 14)"
      ]
     },
     "execution_count": 44,
     "metadata": {},
     "output_type": "execute_result"
    }
   ],
   "source": [
    "#check\n",
    "dfp_unpivot.shape"
   ]
  },
  {
   "cell_type": "code",
   "execution_count": 45,
   "id": "4036af8c",
   "metadata": {},
   "outputs": [],
   "source": [
    "#Define dimensions based on grade - present absent flag will change based on the subjects relevant to that grade\n",
    "#G2 - Maths, Language; G3,4,5 - EVS, Maths, Language; G6,7,8 - Maths, Language, SS, Science\n",
    "dfp_unpivot = dfp_unpivot.drop(['Language_present_absent','Maths_present_absent'],axis=1)"
   ]
  },
  {
   "cell_type": "code",
   "execution_count": 46,
   "id": "a7a5289d",
   "metadata": {},
   "outputs": [],
   "source": [
    "dfp_unpivot['Question'] = dfp_unpivot['Question'].astype(np.int64)"
   ]
  },
  {
   "cell_type": "code",
   "execution_count": 47,
   "id": "83f2a834",
   "metadata": {},
   "outputs": [],
   "source": [
    "dfp_unpivot = dfp_unpivot.rename(columns = {'unique_id':'Child_Id','disecode':'Udise'\\\n",
    "                                            ,'student_name':'Child_Name','class':'Grade'\\\n",
    "                                            ,'gender':'Gender','social_category':'Social_Category'\\\n",
    "                                            ,'medium_id':'Medium_Id','value':'Total_Score'\\\n",
    "                                            ,'Subject':'Subject','Question':'Question_no'})"
   ]
  },
  {
   "cell_type": "code",
   "execution_count": 48,
   "id": "90cfa0ea",
   "metadata": {},
   "outputs": [],
   "source": [
    "dfp_unpivot.to_pickle('./CBAScoredFiles/g6_raw_scores.pkl')"
   ]
  },
  {
   "cell_type": "code",
   "execution_count": 49,
   "id": "d8bb0f80",
   "metadata": {},
   "outputs": [],
   "source": [
    "dfp_unpivot = pd.DataFrame()"
   ]
  },
  {
   "cell_type": "markdown",
   "id": "86277b0d",
   "metadata": {},
   "source": [
    "<h1 style=\"color:blue;\">\n",
    "    Merge files\n",
    "</h1>"
   ]
  },
  {
   "cell_type": "code",
   "execution_count": 50,
   "id": "2bed60bc",
   "metadata": {},
   "outputs": [],
   "source": [
    "Scores = pd.read_pickle('./CBAScoredFiles/g6_scores.pkl')"
   ]
  },
  {
   "cell_type": "code",
   "execution_count": 51,
   "id": "f7ba7760",
   "metadata": {},
   "outputs": [],
   "source": [
    "Raw = pd.read_pickle('./CBAScoredFiles/g6_raw_scores.pkl')"
   ]
  },
  {
   "cell_type": "code",
   "execution_count": 52,
   "id": "2b5b4a89",
   "metadata": {},
   "outputs": [],
   "source": [
    "df = pd.merge(Scores, Raw, on=['Child_Id','Udise','Child_Name','Grade','Gender','Social_Category'\\\n",
    "                               ,'Medium_Id','Subject','Question_no'], suffixes=(\"\", \"\"))\n"
   ]
  },
  {
   "cell_type": "markdown",
   "id": "28b1ddc6",
   "metadata": {},
   "source": [
    "<h1 style=\"color:blue;\">\n",
    "    School mapping\n",
    "</h1>"
   ]
  },
  {
   "cell_type": "code",
   "execution_count": 53,
   "id": "8958afcc",
   "metadata": {},
   "outputs": [],
   "source": [
    "school_mapping = pd.read_excel('./MappingFiles/AP_SchoolMaster_DistrictMandal_Mapping.xlsx')"
   ]
  },
  {
   "cell_type": "code",
   "execution_count": 54,
   "id": "001cc65b",
   "metadata": {},
   "outputs": [],
   "source": [
    "df = pd.merge(df,school_mapping,how='left',left_on='Udise',right_on='SCHOOLCODE')"
   ]
  },
  {
   "cell_type": "code",
   "execution_count": 55,
   "id": "cab969e5",
   "metadata": {},
   "outputs": [],
   "source": [
    "df = df.assign(State='Andhra Pradesh',Topic='',Subtopic='',Skill='',MUA='')"
   ]
  },
  {
   "cell_type": "code",
   "execution_count": 56,
   "id": "96c442a1",
   "metadata": {},
   "outputs": [],
   "source": [
    "df = df.rename(columns={'SCHOOLNAME':'School','schooltype':'School_Type','Udise':'Udise'\\\n",
    "                                       ,'Social_Category':'Social_Category','District ':'District'})"
   ]
  },
  {
   "cell_type": "code",
   "execution_count": 57,
   "id": "1d1b1eed",
   "metadata": {},
   "outputs": [],
   "source": [
    "df = df.drop(['SCHOOLCODE','Medium_Id'],axis=1)"
   ]
  },
  {
   "cell_type": "code",
   "execution_count": 58,
   "id": "933f43e3",
   "metadata": {
    "scrolled": true
   },
   "outputs": [],
   "source": [
    "df = df[[\n",
    "'State',\n",
    "'District',\n",
    "'Mandal',\n",
    "'School',\n",
    "'Udise',\n",
    "'School_Type',\n",
    "'Grade',\n",
    "'Child_Name',\n",
    "'Child_Id',\n",
    "'Gender',\n",
    "'Social_Category',\n",
    "'Subject',\n",
    "'Question_no',\n",
    "'Total_Score',\n",
    "'Raw_Score',\n",
    "'Topic',\n",
    "'Subtopic',\n",
    "'Skill',\n",
    "'MUA']]"
   ]
  },
  {
   "cell_type": "code",
   "execution_count": 59,
   "id": "f064284e",
   "metadata": {},
   "outputs": [],
   "source": [
    "df.to_pickle('./CBALongPickleFiles/G6.pkl')"
   ]
  },
  {
   "cell_type": "code",
   "execution_count": 60,
   "id": "a51c2119",
   "metadata": {},
   "outputs": [],
   "source": [
    "#df.to_csv('./CBALongFiles/CBA_G6_LongFile.csv')"
   ]
  },
  {
   "cell_type": "code",
   "execution_count": 61,
   "id": "50640a6f",
   "metadata": {},
   "outputs": [],
   "source": [
    "df = pd.DataFrame()"
   ]
  },
  {
   "cell_type": "code",
   "execution_count": null,
   "id": "1c3cb6e8",
   "metadata": {},
   "outputs": [],
   "source": []
  }
 ],
 "metadata": {
  "kernelspec": {
   "display_name": "Python 3 (ipykernel)",
   "language": "python",
   "name": "python3"
  },
  "language_info": {
   "codemirror_mode": {
    "name": "ipython",
    "version": 3
   },
   "file_extension": ".py",
   "mimetype": "text/x-python",
   "name": "python",
   "nbconvert_exporter": "python",
   "pygments_lexer": "ipython3",
   "version": "3.9.12"
  }
 },
 "nbformat": 4,
 "nbformat_minor": 5
}

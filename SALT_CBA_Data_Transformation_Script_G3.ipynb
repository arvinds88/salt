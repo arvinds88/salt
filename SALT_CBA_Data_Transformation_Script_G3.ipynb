{
 "cells": [
  {
   "cell_type": "code",
   "execution_count": 389,
   "id": "87353759",
   "metadata": {},
   "outputs": [],
   "source": [
    "import pandas as pd\n",
    "import numpy as np\n",
    "import os"
   ]
  },
  {
   "cell_type": "code",
   "execution_count": 390,
   "id": "27ee88d5",
   "metadata": {},
   "outputs": [],
   "source": [
    "os.chdir('/Users/arvind/Documents/Work/Zoho WorkDrive (Educational Initiatives Private Limited)/My Folders/Projects/SALT/Dashboards/')"
   ]
  },
  {
   "cell_type": "markdown",
   "id": "30efec0c",
   "metadata": {},
   "source": [
    "<h1 style=\"color:blue;\">\n",
    "    Raw Scores\n",
    "</h1>"
   ]
  },
  {
   "cell_type": "code",
   "execution_count": 391,
   "id": "3f475a82",
   "metadata": {},
   "outputs": [
    {
     "name": "stderr",
     "output_type": "stream",
     "text": [
      "/var/folders/0c/r0hw428532s7bttp9my0ym_00000gn/T/ipykernel_56343/1297672475.py:1: DtypeWarning: Columns (6,118) have mixed types. Specify dtype option on import or set low_memory=False.\n",
      "  dfp = pd.read_csv('./CBAScoredFiles/g3.csv')\n"
     ]
    }
   ],
   "source": [
    "dfp = pd.read_csv('./CBAScoredFiles/g3.csv')"
   ]
  },
  {
   "cell_type": "code",
   "execution_count": 392,
   "id": "f11c2301",
   "metadata": {},
   "outputs": [
    {
     "data": {
      "text/plain": [
       "(363414, 145)"
      ]
     },
     "execution_count": 392,
     "metadata": {},
     "output_type": "execute_result"
    }
   ],
   "source": [
    "#check\n",
    "dfp.shape"
   ]
  },
  {
   "cell_type": "code",
   "execution_count": 393,
   "id": "26576f7e",
   "metadata": {},
   "outputs": [],
   "source": [
    "#df.to_pickle('./CBAScoredFiles/cba_data_for_dashboard.pkl')"
   ]
  },
  {
   "cell_type": "code",
   "execution_count": 394,
   "id": "44259546",
   "metadata": {},
   "outputs": [],
   "source": [
    "#dfp = pd.read_pickle('./cba_data_for_dashboard.pkl')"
   ]
  },
  {
   "cell_type": "code",
   "execution_count": 407,
   "id": "b3b0f8df",
   "metadata": {},
   "outputs": [],
   "source": [
    "unwanted = ('student_id','disecode','student_name','class','section','roll_no','unique_id','gender','social_category','medium_id'\n",
    "            ,'Language_paperset','Language_jumble_set','Language_present_absent','LanguageTotal','LanguagePercentage_old','LanguagePercentage','Language_cheating_drop'\n",
    "            ,'Maths_paperset','Maths_jumble_set','Maths_present_absent','MathsTotal','MathsPercentage_old','MathsPercentage','Maths_cheating_drop'\n",
    "            ,'EVS_paperset','EVS_jumble_set','EVS_present_absent','EVSTotal','EVSPercentage_old','EVSPercentage','EVS_cheating_drop'\n",
    "            ,'Science_paperset','Science_jumble_set','Science_present_absent','ScienceTotal','SciencePercentage_old','SciencePercentage','Science_cheating_drop'\n",
    "            ,'SS_paperset','SS_jumble_set','SS_present_absent','SSTotal','SSPercentage_old','SSPercentage','SS_cheating_drop'\n",
    "           )"
   ]
  },
  {
   "cell_type": "code",
   "execution_count": 408,
   "id": "a1861839",
   "metadata": {},
   "outputs": [],
   "source": [
    "var_list = list(dfp)"
   ]
  },
  {
   "cell_type": "code",
   "execution_count": 409,
   "id": "c58f656f",
   "metadata": {},
   "outputs": [],
   "source": [
    "#EQ = EVS, MQ = Maths, LQ = Language (Telugu), SQ = Science, OQ = Social Science\n",
    "prefixes = ('Score_EQ','Score_MQ','Score_LQ','Score_SQ','Score_OQ')\n",
    "dropped = [x for x in var_list if x.startswith(prefixes)]"
   ]
  },
  {
   "cell_type": "code",
   "execution_count": 410,
   "id": "6a2b3f46",
   "metadata": {},
   "outputs": [],
   "source": [
    "dfp.drop(dropped, axis = 1 , inplace = True)"
   ]
  },
  {
   "cell_type": "code",
   "execution_count": null,
   "id": "f8c9a3cd",
   "metadata": {},
   "outputs": [],
   "source": [
    "var_list = list(dfp)"
   ]
  },
  {
   "cell_type": "code",
   "execution_count": 411,
   "id": "e6361d0f",
   "metadata": {},
   "outputs": [],
   "source": [
    "retain = [ele for ele in var_list if ele not in unwanted]"
   ]
  },
  {
   "cell_type": "code",
   "execution_count": 412,
   "id": "5e9a6c90",
   "metadata": {},
   "outputs": [],
   "source": [
    "#Define dimensions based on grade - present absent flag will change based on the subjects relevant to that grade\n",
    "#G2 - Maths, Language; G3,4,5 - EVS, Maths, Language; G6,7,8 - Maths, Language, SS, Science\n",
    "dimensions = ['student_id','disecode','student_name','class','section','roll_no'\n",
    "                                  ,'unique_id','gender','social_category','medium_id'\n",
    "                                  ,'Language_present_absent'\n",
    "                                  ,'Maths_present_absent'\n",
    "                                  ,'EVS_present_absent'\n",
    "                                ]"
   ]
  },
  {
   "cell_type": "code",
   "execution_count": 413,
   "id": "fc7784c2",
   "metadata": {
    "scrolled": true
   },
   "outputs": [],
   "source": [
    "dfp_unpivot = pd.melt(dfp,id_vars = dimensions\n",
    "                        ,value_vars = retain)"
   ]
  },
  {
   "cell_type": "code",
   "execution_count": 414,
   "id": "d3933127",
   "metadata": {},
   "outputs": [
    {
     "data": {
      "text/plain": [
       "(20714598, 15)"
      ]
     },
     "execution_count": 414,
     "metadata": {},
     "output_type": "execute_result"
    }
   ],
   "source": [
    "#check\n",
    "dfp_unpivot.shape"
   ]
  },
  {
   "cell_type": "code",
   "execution_count": 415,
   "id": "29048bcd",
   "metadata": {},
   "outputs": [],
   "source": [
    "dfp_unpivot[['Subject','Question']] = dfp_unpivot['variable'].str.split('Q',1,expand=True)"
   ]
  },
  {
   "cell_type": "code",
   "execution_count": 416,
   "id": "717a9be2",
   "metadata": {},
   "outputs": [],
   "source": [
    "#Language mapped as Telugu for general files; English and Hindi will be separate scored files altogether\n",
    "dfp_unpivot.loc[dfp_unpivot[\"Subject\"]==\"L\",\"Subject\"]=\"Telugu\"\n",
    "dfp_unpivot.loc[dfp_unpivot[\"Subject\"]==\"M\",\"Subject\"]=\"Maths\"\n",
    "dfp_unpivot.loc[dfp_unpivot[\"Subject\"]==\"E\",\"Subject\"]=\"EVS\"\n",
    "dfp_unpivot.loc[dfp_unpivot[\"Subject\"]==\"O\",\"Subject\"]=\"SS\"\n",
    "dfp_unpivot.loc[dfp_unpivot[\"Subject\"]==\"S\",\"Subject\"]=\"Science\""
   ]
  },
  {
   "cell_type": "code",
   "execution_count": 417,
   "id": "462007de",
   "metadata": {},
   "outputs": [],
   "source": [
    "dfp_unpivot = dfp_unpivot.drop(['section','roll_no','student_id','variable'],axis=1)"
   ]
  },
  {
   "cell_type": "code",
   "execution_count": 418,
   "id": "ed585c40",
   "metadata": {},
   "outputs": [],
   "source": [
    "dfp_unpivot.fillna('',inplace = True)"
   ]
  },
  {
   "cell_type": "code",
   "execution_count": 419,
   "id": "0e763c01",
   "metadata": {},
   "outputs": [],
   "source": [
    "#Define dimensions based on grade - present absent flag will change based on the subjects relevant to that grade\n",
    "#G2 - Maths, Language; G3,4,5 - EVS, Maths, Language; G6,7,8 - Maths, Language, SS, Science\n",
    "indexELM = dfp_unpivot[(((dfp_unpivot['Language_present_absent']=='A')|(dfp_unpivot['Language_present_absent']==''))&(dfp_unpivot['Subject']=='Telugu'))|\n",
    "                       (((dfp_unpivot['Maths_present_absent']=='A')|(dfp_unpivot['Maths_present_absent']==''))&(dfp_unpivot['Subject']=='Maths'))|\n",
    "                       (((dfp_unpivot['EVS_present_absent']=='A')|(dfp_unpivot['EVS_present_absent']==''))&(dfp_unpivot['Subject']=='EVS'))\n",
    "                      ].index\n",
    "\n",
    "dfp_unpivot.drop(indexELM, inplace=True)"
   ]
  },
  {
   "cell_type": "code",
   "execution_count": 420,
   "id": "3004a1a2",
   "metadata": {},
   "outputs": [
    {
     "data": {
      "text/plain": [
       "(20259966, 13)"
      ]
     },
     "execution_count": 420,
     "metadata": {},
     "output_type": "execute_result"
    }
   ],
   "source": [
    "#check\n",
    "dfp_unpivot.shape"
   ]
  },
  {
   "cell_type": "code",
   "execution_count": 421,
   "id": "26639704",
   "metadata": {},
   "outputs": [],
   "source": [
    "#Define dimensions based on grade - present absent flag will change based on the subjects relevant to that grade\n",
    "#G2 - Maths, Language; G3,4,5 - EVS, Maths, Language; G6,7,8 - Maths, Language, SS, Science\n",
    "dfp_unpivot = dfp_unpivot.drop(['Language_present_absent','Maths_present_absent','EVS_present_absent'],axis=1)"
   ]
  },
  {
   "cell_type": "code",
   "execution_count": 422,
   "id": "239e23be",
   "metadata": {},
   "outputs": [],
   "source": [
    "dfp_unpivot['Question'] = dfp_unpivot['Question'].astype(np.int64)"
   ]
  },
  {
   "cell_type": "code",
   "execution_count": 423,
   "id": "63af6b03",
   "metadata": {},
   "outputs": [],
   "source": [
    "dfp_unpivot = dfp_unpivot.rename(columns = {'unique_id':'Child_Id','disecode':'Udise'\\\n",
    "                                            ,'student_name':'Child_Name','class':'Grade'\\\n",
    "                                            ,'gender':'Gender','social_category':'Social_Category'\\\n",
    "                                            ,'medium_id':'Medium_Id','value':'Raw_Score','Subject':'Subject'\\\n",
    "                                            ,'Question':'Question_no'})"
   ]
  },
  {
   "cell_type": "code",
   "execution_count": 424,
   "id": "84a3ac76",
   "metadata": {},
   "outputs": [],
   "source": [
    "dfp_unpivot.to_pickle('./CBAScoredFiles/g3_scores.pkl')"
   ]
  },
  {
   "cell_type": "markdown",
   "id": "d2eda596",
   "metadata": {},
   "source": [
    "<h1 style=\"color:blue;\">\n",
    "    Total Scores\n",
    "</h1>"
   ]
  },
  {
   "cell_type": "code",
   "execution_count": 425,
   "id": "800f2276",
   "metadata": {},
   "outputs": [
    {
     "name": "stderr",
     "output_type": "stream",
     "text": [
      "/var/folders/0c/r0hw428532s7bttp9my0ym_00000gn/T/ipykernel_56343/1297672475.py:1: DtypeWarning: Columns (6,118) have mixed types. Specify dtype option on import or set low_memory=False.\n",
      "  dfp = pd.read_csv('./CBAScoredFiles/g3.csv')\n"
     ]
    }
   ],
   "source": [
    "dfp = pd.read_csv('./CBAScoredFiles/g3.csv')"
   ]
  },
  {
   "cell_type": "code",
   "execution_count": 426,
   "id": "62574cb9",
   "metadata": {},
   "outputs": [
    {
     "data": {
      "text/plain": [
       "(363414, 145)"
      ]
     },
     "execution_count": 426,
     "metadata": {},
     "output_type": "execute_result"
    }
   ],
   "source": [
    "#check\n",
    "dfp.shape"
   ]
  },
  {
   "cell_type": "code",
   "execution_count": 437,
   "id": "4a180e3b",
   "metadata": {},
   "outputs": [],
   "source": [
    "unwanted = ('student_id','disecode','student_name','class','section','roll_no','unique_id','gender','social_category','medium_id'\n",
    "            ,'Language_paperset','Language_jumble_set','Language_present_absent','LanguageTotal','LanguagePercentage_old','LanguagePercentage','Language_cheating_drop'\n",
    "            ,'Maths_paperset','Maths_jumble_set','Maths_present_absent','MathsTotal','MathsPercentage_old','MathsPercentage','Maths_cheating_drop'\n",
    "            ,'EVS_paperset','EVS_jumble_set','EVS_present_absent','EVSTotal','EVSPercentage_old','EVSPercentage','EVS_cheating_drop'\n",
    "            ,'Science_paperset','Science_jumble_set','Science_present_absent','ScienceTotal','SciencePercentage_old','SciencePercentage','Science_cheating_drop'\n",
    "            ,'SS_paperset','SS_jumble_set','SS_present_absent','SSTotal','SSPercentage_old','SSPercentage','SS_cheating_drop'\n",
    "           )"
   ]
  },
  {
   "cell_type": "code",
   "execution_count": 438,
   "id": "f83a0919",
   "metadata": {},
   "outputs": [],
   "source": [
    "var_list = list(dfp)"
   ]
  },
  {
   "cell_type": "code",
   "execution_count": 439,
   "id": "91e8f0b0",
   "metadata": {},
   "outputs": [],
   "source": [
    "#EQ = EVS, MQ = Maths, LQ = Language (Telugu), SQ = Science, OQ = Social Science\n",
    "prefixes = ('EQ','MQ','LQ','SQ','OQ')\n",
    "dropped = [x for x in var_list if x.startswith(prefixes)]"
   ]
  },
  {
   "cell_type": "code",
   "execution_count": 440,
   "id": "e554998f",
   "metadata": {},
   "outputs": [],
   "source": [
    "dfp.drop(dropped, axis = 1 , inplace = True)"
   ]
  },
  {
   "cell_type": "code",
   "execution_count": 441,
   "id": "0df590d2",
   "metadata": {},
   "outputs": [],
   "source": [
    "var_list = list(dfp)"
   ]
  },
  {
   "cell_type": "code",
   "execution_count": 442,
   "id": "9cbd4455",
   "metadata": {},
   "outputs": [],
   "source": [
    "retain = [ele for ele in var_list if ele not in unwanted]"
   ]
  },
  {
   "cell_type": "code",
   "execution_count": 443,
   "id": "8faa74e4",
   "metadata": {},
   "outputs": [],
   "source": [
    "#Define dimensions based on grade - present absent flag will change based on the subjects relevant to that grade\n",
    "#G2 - Maths, Language; G3,4,5 - EVS, Maths, Language; G6,7,8 - Maths, Language, SS, Science\n",
    "dimensions = ['student_id','disecode','student_name','class','section','roll_no'\n",
    "                                  ,'unique_id','gender','social_category','medium_id'\n",
    "                                  ,'Language_present_absent'\n",
    "                                  ,'Maths_present_absent'\n",
    "                                  ,'EVS_present_absent'\n",
    "                                ]"
   ]
  },
  {
   "cell_type": "code",
   "execution_count": 444,
   "id": "856909ca",
   "metadata": {},
   "outputs": [],
   "source": [
    "dfp_unpivot = pd.melt(dfp,id_vars = dimensions\n",
    "                        ,value_vars = retain)"
   ]
  },
  {
   "cell_type": "code",
   "execution_count": 445,
   "id": "e00fea35",
   "metadata": {},
   "outputs": [],
   "source": [
    "dfp_unpivot[['S','Q']] = dfp_unpivot['variable'].str.split('_',1,expand=True)"
   ]
  },
  {
   "cell_type": "code",
   "execution_count": 446,
   "id": "5c24fce7",
   "metadata": {},
   "outputs": [],
   "source": [
    "dfp_unpivot[['Subject','Question']] = dfp_unpivot['Q'].str.split('Q',1,expand=True)"
   ]
  },
  {
   "cell_type": "code",
   "execution_count": 447,
   "id": "0579c43f",
   "metadata": {},
   "outputs": [],
   "source": [
    "#Language mapped as Telugu for general files; English and Hindi will be separate scored files altogether\n",
    "dfp_unpivot.loc[dfp_unpivot[\"Subject\"]==\"L\",\"Subject\"]=\"Telugu\"\n",
    "dfp_unpivot.loc[dfp_unpivot[\"Subject\"]==\"M\",\"Subject\"]=\"Maths\"\n",
    "dfp_unpivot.loc[dfp_unpivot[\"Subject\"]==\"E\",\"Subject\"]=\"EVS\"\n",
    "dfp_unpivot.loc[dfp_unpivot[\"Subject\"]==\"O\",\"Subject\"]=\"SS\"\n",
    "dfp_unpivot.loc[dfp_unpivot[\"Subject\"]==\"S\",\"Subject\"]=\"Science\""
   ]
  },
  {
   "cell_type": "code",
   "execution_count": 448,
   "id": "e94255df",
   "metadata": {},
   "outputs": [],
   "source": [
    "dfp_unpivot = dfp_unpivot.drop(['section','roll_no','student_id','variable','S','Q'],axis=1)"
   ]
  },
  {
   "cell_type": "code",
   "execution_count": 449,
   "id": "c13326ca",
   "metadata": {},
   "outputs": [],
   "source": [
    "dfp_unpivot.fillna('',inplace = True)"
   ]
  },
  {
   "cell_type": "code",
   "execution_count": 450,
   "id": "2f9917d6",
   "metadata": {},
   "outputs": [],
   "source": [
    "#Define dimensions based on grade - present absent flag will change based on the subjects relevant to that grade\n",
    "#G2 - Maths, Language; G3,4,5 - EVS, Maths, Language; G6,7,8 - Maths, Language, SS, Science\n",
    "indexELM = dfp_unpivot[(((dfp_unpivot['Language_present_absent']=='A')|(dfp_unpivot['Language_present_absent']==''))&(dfp_unpivot['Subject']=='Telugu'))|\n",
    "                       (((dfp_unpivot['Maths_present_absent']=='A')|(dfp_unpivot['Maths_present_absent']==''))&(dfp_unpivot['Subject']=='Maths'))|\n",
    "                       (((dfp_unpivot['EVS_present_absent']=='A')|(dfp_unpivot['EVS_present_absent']==''))&(dfp_unpivot['Subject']=='EVS'))\n",
    "                      ].index\n",
    "\n",
    "dfp_unpivot.drop(indexELM, inplace=True)"
   ]
  },
  {
   "cell_type": "code",
   "execution_count": 451,
   "id": "340a297b",
   "metadata": {},
   "outputs": [
    {
     "data": {
      "text/plain": [
       "(20259966, 13)"
      ]
     },
     "execution_count": 451,
     "metadata": {},
     "output_type": "execute_result"
    }
   ],
   "source": [
    "#check\n",
    "dfp_unpivot.shape"
   ]
  },
  {
   "cell_type": "code",
   "execution_count": 452,
   "id": "3e386e85",
   "metadata": {},
   "outputs": [],
   "source": [
    "#Define dimensions based on grade - present absent flag will change based on the subjects relevant to that grade\n",
    "#G2 - Maths, Language; G3,4,5 - EVS, Maths, Language; G6,7,8 - Maths, Language, SS, Science\n",
    "dfp_unpivot = dfp_unpivot.drop(['Language_present_absent','Maths_present_absent'],axis=1)"
   ]
  },
  {
   "cell_type": "code",
   "execution_count": 453,
   "id": "87b99a75",
   "metadata": {},
   "outputs": [],
   "source": [
    "dfp_unpivot['Question'] = dfp_unpivot['Question'].astype(np.int64)"
   ]
  },
  {
   "cell_type": "code",
   "execution_count": 454,
   "id": "2d1f0e82",
   "metadata": {},
   "outputs": [],
   "source": [
    "dfp_unpivot = dfp_unpivot.rename(columns = {'unique_id':'Child_Id','disecode':'Udise'\\\n",
    "                                            ,'student_name':'Child_Name','class':'Grade'\\\n",
    "                                            ,'gender':'Gender','social_category':'Social_Category'\\\n",
    "                                            ,'medium_id':'Medium_Id','value':'Total_Score'\\\n",
    "                                            ,'Subject':'Subject','Question':'Question_no'})"
   ]
  },
  {
   "cell_type": "code",
   "execution_count": 455,
   "id": "7366cba2",
   "metadata": {},
   "outputs": [],
   "source": [
    "dfp_unpivot.to_pickle('CBAScoredFiles/g3_raw_scores.pkl')"
   ]
  },
  {
   "cell_type": "code",
   "execution_count": 456,
   "id": "4e04f422",
   "metadata": {},
   "outputs": [],
   "source": [
    "dfp_unpivot = pd.DataFrame()"
   ]
  },
  {
   "cell_type": "markdown",
   "id": "86277b0d",
   "metadata": {},
   "source": [
    "<h1 style=\"color:blue;\">\n",
    "    Merge files\n",
    "</h1>"
   ]
  },
  {
   "cell_type": "code",
   "execution_count": 457,
   "id": "2bed60bc",
   "metadata": {},
   "outputs": [],
   "source": [
    "Scores = pd.read_pickle('./CBAScoredFiles/g3_scores.pkl')"
   ]
  },
  {
   "cell_type": "code",
   "execution_count": 458,
   "id": "f7ba7760",
   "metadata": {},
   "outputs": [],
   "source": [
    "Raw = pd.read_pickle('./CBAScoredFiles/g3_raw_scores.pkl')"
   ]
  },
  {
   "cell_type": "code",
   "execution_count": 459,
   "id": "2b5b4a89",
   "metadata": {},
   "outputs": [],
   "source": [
    "df = pd.merge(Scores, Raw, on=['Child_Id','Udise','Child_Name','Grade','Gender','Social_Category'\\\n",
    "                               ,'Medium_Id','Subject','Question_no'], suffixes=(\"\", \"\"))\n"
   ]
  },
  {
   "cell_type": "markdown",
   "id": "28b1ddc6",
   "metadata": {},
   "source": [
    "<h1 style=\"color:blue;\">\n",
    "    School mapping\n",
    "</h1>"
   ]
  },
  {
   "cell_type": "code",
   "execution_count": 460,
   "id": "8958afcc",
   "metadata": {},
   "outputs": [],
   "source": [
    "school_mapping = pd.read_excel('./MappingFiles/AP_SchoolMaster_DistrictMandal_Mapping.xlsx')"
   ]
  },
  {
   "cell_type": "code",
   "execution_count": 461,
   "id": "001cc65b",
   "metadata": {},
   "outputs": [],
   "source": [
    "df = pd.merge(df,school_mapping,how='left',left_on='Udise',right_on='SCHOOLCODE')"
   ]
  },
  {
   "cell_type": "code",
   "execution_count": 462,
   "id": "cab969e5",
   "metadata": {},
   "outputs": [],
   "source": [
    "df = df.assign(State='Andhra Pradesh',Topic='',Subtopic='',Skill='',MUA='')"
   ]
  },
  {
   "cell_type": "code",
   "execution_count": 463,
   "id": "96c442a1",
   "metadata": {},
   "outputs": [],
   "source": [
    "df = df.rename(columns={'SCHOOLNAME':'School','schooltype':'School_Type','Udise':'Udise'\\\n",
    "                                       ,'Social_Category':'Social_Category','District ':'District'})"
   ]
  },
  {
   "cell_type": "code",
   "execution_count": 464,
   "id": "1d1b1eed",
   "metadata": {},
   "outputs": [],
   "source": [
    "df = df.drop(['SCHOOLCODE','Medium_Id'],axis=1)"
   ]
  },
  {
   "cell_type": "code",
   "execution_count": 465,
   "id": "933f43e3",
   "metadata": {
    "scrolled": true
   },
   "outputs": [],
   "source": [
    "df = df[[\n",
    "'State',\n",
    "'District',\n",
    "'Mandal',\n",
    "'School',\n",
    "'Udise',\n",
    "'School_Type',\n",
    "'Grade',\n",
    "'Child_Name',\n",
    "'Child_Id',\n",
    "'Gender',\n",
    "'Social_Category',\n",
    "'Subject',\n",
    "'Question_no',\n",
    "'Total_Score',\n",
    "'Raw_Score',\n",
    "'Topic',\n",
    "'Subtopic',\n",
    "'Skill',\n",
    "'MUA']]"
   ]
  },
  {
   "cell_type": "code",
   "execution_count": 466,
   "id": "a51c2119",
   "metadata": {},
   "outputs": [],
   "source": [
    "# df.to_csv('./CBALongFiles/CBA_G3_LongFile.csv')"
   ]
  },
  {
   "cell_type": "code",
   "execution_count": null,
   "id": "9530cb7d",
   "metadata": {},
   "outputs": [],
   "source": [
    "df.to_pickle('./CBALongPickleFiles/G3.pkl')"
   ]
  }
 ],
 "metadata": {
  "kernelspec": {
   "display_name": "Python 3 (ipykernel)",
   "language": "python",
   "name": "python3"
  },
  "language_info": {
   "codemirror_mode": {
    "name": "ipython",
    "version": 3
   },
   "file_extension": ".py",
   "mimetype": "text/x-python",
   "name": "python",
   "nbconvert_exporter": "python",
   "pygments_lexer": "ipython3",
   "version": "3.9.12"
  }
 },
 "nbformat": 4,
 "nbformat_minor": 5
}

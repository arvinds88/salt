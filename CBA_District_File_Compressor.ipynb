{
 "cells": [
  {
   "cell_type": "code",
   "execution_count": 11,
   "id": "87353759",
   "metadata": {},
   "outputs": [],
   "source": [
    "import pandas as pd\n",
    "import numpy as np\n",
    "import os\n",
    "pd.set_option('display.max_columns', 500)"
   ]
  },
  {
   "cell_type": "code",
   "execution_count": 12,
   "id": "f8f40e91",
   "metadata": {},
   "outputs": [],
   "source": [
    "source = '/Users/arvind/Documents/Work/Zoho WorkDrive (Educational Initiatives Private Limited)/My Folders/Projects/SALT/Dashboards/CBADistrictFilesRed'"
   ]
  },
  {
   "cell_type": "code",
   "execution_count": 13,
   "id": "e9487e00",
   "metadata": {},
   "outputs": [],
   "source": [
    "destination = '/Users/arvind/Documents/Work/Zoho WorkDrive (Educational Initiatives Private Limited)/My Folders/Projects/SALT/Dashboards/CBAStateFile'"
   ]
  },
  {
   "cell_type": "code",
   "execution_count": 14,
   "id": "6507f3a8",
   "metadata": {},
   "outputs": [],
   "source": [
    "os.chdir(source)"
   ]
  },
  {
   "cell_type": "code",
   "execution_count": 15,
   "id": "3874ec0d",
   "metadata": {},
   "outputs": [],
   "source": [
    "files = os.listdir()"
   ]
  },
  {
   "cell_type": "code",
   "execution_count": 16,
   "id": "4adcf1f7",
   "metadata": {},
   "outputs": [],
   "source": [
    "files = ['CBA_ScoredLong_TIRUPATI.csv',\n",
    " 'CBA_ScoredLong_NTR.csv',\n",
    " 'CBA_ScoredLong_SRI SATYASAI.csv',\n",
    " 'CBA_ScoredLong_ANNAMAYYA.csv',\n",
    " 'CBA_ScoredLong_ANANTAPUR.csv',\n",
    " 'CBA_ScoredLong_PRAKASAM.csv',\n",
    " 'CBA_ScoredLong_KAKINADA.csv',\n",
    " 'CBA_ScoredLong_BAPATLA.csv',\n",
    " 'CBA_ScoredLong_SRIKAKULAM.csv',\n",
    " 'CBA_ScoredLong_KURNOOL.csv',\n",
    " 'CBA_ScoredLong_NELLORE.csv',\n",
    " 'CBA_ScoredLong_KONASEEMA.csv',\n",
    " 'CBA_ScoredLong_ELURU.csv',\n",
    " 'CBA_ScoredLong_PALNADU.csv',\n",
    " 'CBA_ScoredLong_NANDYAL.csv',\n",
    " 'CBA_ScoredLong_VIZIANAGARAM.csv',\n",
    " 'CBA_ScoredLong_EAST GODAVARI.csv',\n",
    " 'CBA_ScoredLong_GUNTUR.csv',\n",
    " 'CBA_ScoredLong_CHITTOOR.csv',\n",
    " 'CBA_ScoredLong_MANYAM.csv',\n",
    " 'CBA_ScoredLong_KRISHNA.csv',\n",
    " 'CBA_ScoredLong_KADAPA.csv',\n",
    " 'CBA_ScoredLong_ASR.csv',\n",
    " 'CBA_ScoredLong_WEST GODAVARI.csv',\n",
    " 'CBA_ScoredLong_ANAKAPALLI.csv',\n",
    " 'CBA_ScoredLong_VISAKHAPATNAM.csv']"
   ]
  },
  {
   "cell_type": "code",
   "execution_count": 9,
   "id": "b985240e",
   "metadata": {},
   "outputs": [],
   "source": [
    "df = pd.DataFrame()"
   ]
  },
  {
   "cell_type": "code",
   "execution_count": 17,
   "id": "93f9ff2b",
   "metadata": {},
   "outputs": [
    {
     "name": "stderr",
     "output_type": "stream",
     "text": [
      "/var/folders/0c/r0hw428532s7bttp9my0ym_00000gn/T/ipykernel_43929/3420816424.py:3: FutureWarning: The frame.append method is deprecated and will be removed from pandas in a future version. Use pandas.concat instead.\n",
      "  df = df.append(dt,ignore_index=True)\n",
      "/var/folders/0c/r0hw428532s7bttp9my0ym_00000gn/T/ipykernel_43929/3420816424.py:3: FutureWarning: The frame.append method is deprecated and will be removed from pandas in a future version. Use pandas.concat instead.\n",
      "  df = df.append(dt,ignore_index=True)\n",
      "/var/folders/0c/r0hw428532s7bttp9my0ym_00000gn/T/ipykernel_43929/3420816424.py:3: FutureWarning: The frame.append method is deprecated and will be removed from pandas in a future version. Use pandas.concat instead.\n",
      "  df = df.append(dt,ignore_index=True)\n",
      "/var/folders/0c/r0hw428532s7bttp9my0ym_00000gn/T/ipykernel_43929/3420816424.py:3: FutureWarning: The frame.append method is deprecated and will be removed from pandas in a future version. Use pandas.concat instead.\n",
      "  df = df.append(dt,ignore_index=True)\n",
      "/var/folders/0c/r0hw428532s7bttp9my0ym_00000gn/T/ipykernel_43929/3420816424.py:3: FutureWarning: The frame.append method is deprecated and will be removed from pandas in a future version. Use pandas.concat instead.\n",
      "  df = df.append(dt,ignore_index=True)\n",
      "/var/folders/0c/r0hw428532s7bttp9my0ym_00000gn/T/ipykernel_43929/3420816424.py:3: FutureWarning: The frame.append method is deprecated and will be removed from pandas in a future version. Use pandas.concat instead.\n",
      "  df = df.append(dt,ignore_index=True)\n",
      "/var/folders/0c/r0hw428532s7bttp9my0ym_00000gn/T/ipykernel_43929/3420816424.py:3: FutureWarning: The frame.append method is deprecated and will be removed from pandas in a future version. Use pandas.concat instead.\n",
      "  df = df.append(dt,ignore_index=True)\n",
      "/var/folders/0c/r0hw428532s7bttp9my0ym_00000gn/T/ipykernel_43929/3420816424.py:3: FutureWarning: The frame.append method is deprecated and will be removed from pandas in a future version. Use pandas.concat instead.\n",
      "  df = df.append(dt,ignore_index=True)\n",
      "/var/folders/0c/r0hw428532s7bttp9my0ym_00000gn/T/ipykernel_43929/3420816424.py:3: FutureWarning: The frame.append method is deprecated and will be removed from pandas in a future version. Use pandas.concat instead.\n",
      "  df = df.append(dt,ignore_index=True)\n",
      "/var/folders/0c/r0hw428532s7bttp9my0ym_00000gn/T/ipykernel_43929/3420816424.py:3: FutureWarning: The frame.append method is deprecated and will be removed from pandas in a future version. Use pandas.concat instead.\n",
      "  df = df.append(dt,ignore_index=True)\n",
      "/var/folders/0c/r0hw428532s7bttp9my0ym_00000gn/T/ipykernel_43929/3420816424.py:3: FutureWarning: The frame.append method is deprecated and will be removed from pandas in a future version. Use pandas.concat instead.\n",
      "  df = df.append(dt,ignore_index=True)\n",
      "/var/folders/0c/r0hw428532s7bttp9my0ym_00000gn/T/ipykernel_43929/3420816424.py:3: FutureWarning: The frame.append method is deprecated and will be removed from pandas in a future version. Use pandas.concat instead.\n",
      "  df = df.append(dt,ignore_index=True)\n",
      "/var/folders/0c/r0hw428532s7bttp9my0ym_00000gn/T/ipykernel_43929/3420816424.py:3: FutureWarning: The frame.append method is deprecated and will be removed from pandas in a future version. Use pandas.concat instead.\n",
      "  df = df.append(dt,ignore_index=True)\n",
      "/var/folders/0c/r0hw428532s7bttp9my0ym_00000gn/T/ipykernel_43929/3420816424.py:3: FutureWarning: The frame.append method is deprecated and will be removed from pandas in a future version. Use pandas.concat instead.\n",
      "  df = df.append(dt,ignore_index=True)\n",
      "/var/folders/0c/r0hw428532s7bttp9my0ym_00000gn/T/ipykernel_43929/3420816424.py:3: FutureWarning: The frame.append method is deprecated and will be removed from pandas in a future version. Use pandas.concat instead.\n",
      "  df = df.append(dt,ignore_index=True)\n",
      "/var/folders/0c/r0hw428532s7bttp9my0ym_00000gn/T/ipykernel_43929/3420816424.py:3: FutureWarning: The frame.append method is deprecated and will be removed from pandas in a future version. Use pandas.concat instead.\n",
      "  df = df.append(dt,ignore_index=True)\n",
      "/var/folders/0c/r0hw428532s7bttp9my0ym_00000gn/T/ipykernel_43929/3420816424.py:3: FutureWarning: The frame.append method is deprecated and will be removed from pandas in a future version. Use pandas.concat instead.\n",
      "  df = df.append(dt,ignore_index=True)\n",
      "/var/folders/0c/r0hw428532s7bttp9my0ym_00000gn/T/ipykernel_43929/3420816424.py:3: FutureWarning: The frame.append method is deprecated and will be removed from pandas in a future version. Use pandas.concat instead.\n",
      "  df = df.append(dt,ignore_index=True)\n",
      "/var/folders/0c/r0hw428532s7bttp9my0ym_00000gn/T/ipykernel_43929/3420816424.py:3: FutureWarning: The frame.append method is deprecated and will be removed from pandas in a future version. Use pandas.concat instead.\n",
      "  df = df.append(dt,ignore_index=True)\n",
      "/var/folders/0c/r0hw428532s7bttp9my0ym_00000gn/T/ipykernel_43929/3420816424.py:3: FutureWarning: The frame.append method is deprecated and will be removed from pandas in a future version. Use pandas.concat instead.\n",
      "  df = df.append(dt,ignore_index=True)\n",
      "/var/folders/0c/r0hw428532s7bttp9my0ym_00000gn/T/ipykernel_43929/3420816424.py:3: FutureWarning: The frame.append method is deprecated and will be removed from pandas in a future version. Use pandas.concat instead.\n",
      "  df = df.append(dt,ignore_index=True)\n",
      "/var/folders/0c/r0hw428532s7bttp9my0ym_00000gn/T/ipykernel_43929/3420816424.py:3: FutureWarning: The frame.append method is deprecated and will be removed from pandas in a future version. Use pandas.concat instead.\n",
      "  df = df.append(dt,ignore_index=True)\n",
      "/var/folders/0c/r0hw428532s7bttp9my0ym_00000gn/T/ipykernel_43929/3420816424.py:3: FutureWarning: The frame.append method is deprecated and will be removed from pandas in a future version. Use pandas.concat instead.\n",
      "  df = df.append(dt,ignore_index=True)\n",
      "/var/folders/0c/r0hw428532s7bttp9my0ym_00000gn/T/ipykernel_43929/3420816424.py:3: FutureWarning: The frame.append method is deprecated and will be removed from pandas in a future version. Use pandas.concat instead.\n",
      "  df = df.append(dt,ignore_index=True)\n",
      "/var/folders/0c/r0hw428532s7bttp9my0ym_00000gn/T/ipykernel_43929/3420816424.py:3: FutureWarning: The frame.append method is deprecated and will be removed from pandas in a future version. Use pandas.concat instead.\n",
      "  df = df.append(dt,ignore_index=True)\n",
      "/var/folders/0c/r0hw428532s7bttp9my0ym_00000gn/T/ipykernel_43929/3420816424.py:3: FutureWarning: The frame.append method is deprecated and will be removed from pandas in a future version. Use pandas.concat instead.\n",
      "  df = df.append(dt,ignore_index=True)\n"
     ]
    }
   ],
   "source": [
    "for file in files:\n",
    "    dt = pd.read_csv(file)\n",
    "    df = df.append(dt,ignore_index=True)"
   ]
  },
  {
   "cell_type": "code",
   "execution_count": 18,
   "id": "ffd1e897",
   "metadata": {},
   "outputs": [],
   "source": [
    "group_list = ['State','District','School_Type','Grade','Gender','Social_Category'\\\n",
    "              ,'Subject','Question_no','Topic','Skill','Characteristic']"
   ]
  },
  {
   "cell_type": "code",
   "execution_count": 22,
   "id": "4673b4f6",
   "metadata": {},
   "outputs": [
    {
     "data": {
      "text/plain": [
       "(227157, 13)"
      ]
     },
     "execution_count": 22,
     "metadata": {},
     "output_type": "execute_result"
    }
   ],
   "source": [
    "df.shape"
   ]
  },
  {
   "cell_type": "code",
   "execution_count": 21,
   "id": "4b1b2af5",
   "metadata": {},
   "outputs": [],
   "source": [
    "df = df.groupby(group_list,as_index=False).agg(\n",
    "                        score = pd.NamedAgg(column='score', aggfunc=sum),\n",
    "                        n = pd.NamedAgg(column='n', aggfunc=sum))\n"
   ]
  },
  {
   "cell_type": "code",
   "execution_count": 23,
   "id": "7700545d",
   "metadata": {},
   "outputs": [],
   "source": [
    "os.chdir(destination)\n",
    "target_file = 'CBA_ScoredLong_State.csv'\n",
    "df.to_csv(target_file,index=False,header=True)"
   ]
  },
  {
   "cell_type": "code",
   "execution_count": null,
   "id": "10b7231a",
   "metadata": {},
   "outputs": [],
   "source": []
  }
 ],
 "metadata": {
  "kernelspec": {
   "display_name": "Python 3 (ipykernel)",
   "language": "python",
   "name": "python3"
  },
  "language_info": {
   "codemirror_mode": {
    "name": "ipython",
    "version": 3
   },
   "file_extension": ".py",
   "mimetype": "text/x-python",
   "name": "python",
   "nbconvert_exporter": "python",
   "pygments_lexer": "ipython3",
   "version": "3.9.12"
  }
 },
 "nbformat": 4,
 "nbformat_minor": 5
}

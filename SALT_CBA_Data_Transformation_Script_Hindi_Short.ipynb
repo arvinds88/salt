{
 "cells": [
  {
   "cell_type": "code",
   "execution_count": 1,
   "id": "87353759",
   "metadata": {},
   "outputs": [],
   "source": [
    "import pandas as pd\n",
    "import numpy as np\n",
    "import os"
   ]
  },
  {
   "cell_type": "code",
   "execution_count": 2,
   "id": "0e075bbb",
   "metadata": {},
   "outputs": [],
   "source": [
    "os.chdir('/Users/arvind/Documents/Work/Zoho WorkDrive (Educational Initiatives Private Limited)/My Folders/Projects/SALT/Dashboards/')"
   ]
  },
  {
   "cell_type": "code",
   "execution_count": 3,
   "id": "3f475a82",
   "metadata": {},
   "outputs": [],
   "source": [
    "df = pd.read_pickle('./CBAScoredFiles/hindi.pkl')"
   ]
  },
  {
   "cell_type": "code",
   "execution_count": 6,
   "id": "d58eb6c5",
   "metadata": {},
   "outputs": [],
   "source": [
    "drop = [\n",
    " 'LQ16',\n",
    " 'LQ17',\n",
    " 'LQ18',\n",
    " 'LQ19',\n",
    " 'LQ20',\n",
    " 'Score_LQ16',\n",
    " 'Score_LQ17',\n",
    " 'Score_LQ18',\n",
    " 'Score_LQ19',\n",
    " 'Score_LQ20'\n",
    "]"
   ]
  },
  {
   "cell_type": "code",
   "execution_count": 7,
   "id": "d32c52c5",
   "metadata": {},
   "outputs": [],
   "source": [
    "df.drop(drop, axis = 1 , inplace = True)"
   ]
  },
  {
   "cell_type": "code",
   "execution_count": 8,
   "id": "b3b0f8df",
   "metadata": {},
   "outputs": [],
   "source": [
    "unwanted = ('student_id','disecode','student_name','class','section','roll_no','unique_id','gender','social_category','medium_id'\n",
    "            ,'Language_paperset','Language_jumble_set','Language_present_absent','LanguageTotal','LanguagePercentage_old','LanguagePercentage','Language_cheating_drop'\n",
    "            ,'Maths_paperset','Maths_jumble_set','Maths_present_absent','MathsTotal','MathsPercentage_old','MathsPercentage','Maths_cheating_drop'\n",
    "            ,'EVS_paperset','EVS_jumble_set','EVS_present_absent','EVSTotal','EVSPercentage_old','EVSPercentage','EVS_cheating_drop'\n",
    "            ,'Science_paperset','Science_jumble_set','Science_present_absent','ScienceTotal','SciencePercentage_old','SciencePercentage','Science_cheating_drop'\n",
    "            ,'SS_paperset','SS_jumble_set','SS_present_absent','SSTotal','SSPercentage_old','SSPercentage','SS_cheating_drop'\n",
    "            ,'English_paperset','English_jumble_set','English_present_absent','EnglishTotal','EnglishPercentage_old','EnglishPercentage','English_cheating_drop'\n",
    "           )"
   ]
  },
  {
   "cell_type": "code",
   "execution_count": 9,
   "id": "a1861839",
   "metadata": {},
   "outputs": [],
   "source": [
    "var_list = list(df)"
   ]
  },
  {
   "cell_type": "code",
   "execution_count": 10,
   "id": "c58f656f",
   "metadata": {},
   "outputs": [],
   "source": [
    "#EQ = EVS, MQ = Maths, LQ = Language (Telugu), SQ = Science, OQ = Social Science\n",
    "prefixes = ('EQ','MQ','LQ','SQ','OQ','NQ')\n",
    "dropped = [x for x in var_list if x.startswith(prefixes)]"
   ]
  },
  {
   "cell_type": "code",
   "execution_count": 11,
   "id": "6a2b3f46",
   "metadata": {},
   "outputs": [],
   "source": [
    "df.drop(dropped, axis = 1 , inplace = True)"
   ]
  },
  {
   "cell_type": "code",
   "execution_count": 12,
   "id": "3439f04a",
   "metadata": {},
   "outputs": [],
   "source": [
    "var_list = list(df)"
   ]
  },
  {
   "cell_type": "code",
   "execution_count": 13,
   "id": "e6361d0f",
   "metadata": {},
   "outputs": [],
   "source": [
    "retain = [ele for ele in var_list if ele not in unwanted]"
   ]
  },
  {
   "cell_type": "code",
   "execution_count": 14,
   "id": "5e9a6c90",
   "metadata": {},
   "outputs": [],
   "source": [
    "#Define dimensions based on grade - present absent flag will change based on the subjects relevant to that grade\n",
    "#G2 - Maths, Language; G3,4,5 - EVS, Maths, Language; G6,7,8 - Maths, Language, SS, Science\n",
    "dimensions = ['unique_id','disecode','student_name','class'\n",
    "                                  ,'gender','social_category'\n",
    "                                  ,'Language_present_absent'\n",
    "                                ]"
   ]
  },
  {
   "cell_type": "code",
   "execution_count": 15,
   "id": "fc7784c2",
   "metadata": {
    "scrolled": true
   },
   "outputs": [],
   "source": [
    "df = pd.melt(df,id_vars = dimensions\n",
    "                        ,value_vars = retain)"
   ]
  },
  {
   "cell_type": "code",
   "execution_count": 17,
   "id": "80548437",
   "metadata": {},
   "outputs": [],
   "source": [
    "df[['S','Q']] = df['variable'].str.split('_',1,expand=True)"
   ]
  },
  {
   "cell_type": "code",
   "execution_count": 18,
   "id": "29048bcd",
   "metadata": {},
   "outputs": [],
   "source": [
    "df[['Subject','Question']] = df['Q'].str.split('Q',1,expand=True)"
   ]
  },
  {
   "cell_type": "code",
   "execution_count": 19,
   "id": "717a9be2",
   "metadata": {},
   "outputs": [],
   "source": [
    "#Language mapped as Telugu for general files; English and Hindi will be separate scored files altogether\n",
    "df.loc[df[\"Subject\"]==\"L\",\"Subject\"]=\"Hindi\"\n",
    "df.loc[df[\"Subject\"]==\"M\",\"Subject\"]=\"Maths\"\n",
    "df.loc[df[\"Subject\"]==\"E\",\"Subject\"]=\"EVS\"\n",
    "df.loc[df[\"Subject\"]==\"O\",\"Subject\"]=\"SS\"\n",
    "df.loc[df[\"Subject\"]==\"S\",\"Subject\"]=\"Science\"\n",
    "df.loc[df[\"Subject\"]==\"N\",\"Subject\"]=\"English\""
   ]
  },
  {
   "cell_type": "code",
   "execution_count": 20,
   "id": "462007de",
   "metadata": {},
   "outputs": [],
   "source": [
    "df = df.drop(['variable','S','Q'],axis=1)"
   ]
  },
  {
   "cell_type": "code",
   "execution_count": 21,
   "id": "ed585c40",
   "metadata": {},
   "outputs": [],
   "source": [
    "df.fillna('',inplace = True)"
   ]
  },
  {
   "cell_type": "code",
   "execution_count": 22,
   "id": "0e763c01",
   "metadata": {},
   "outputs": [],
   "source": [
    "#Define dimensions based on grade - present absent flag will change based on the subjects relevant to that grade\n",
    "#G2 - Maths, Language; G3,4,5 - EVS, Maths, Language; G6,7,8 - Maths, Language, SS, Science\n",
    "indexELM = df[(((df['Language_present_absent']=='A')|(df['Language_present_absent']==''))&(df['Subject']=='Hindi'))\n",
    "                      ].index\n",
    "\n",
    "df.drop(indexELM, inplace=True)"
   ]
  },
  {
   "cell_type": "code",
   "execution_count": 23,
   "id": "26639704",
   "metadata": {},
   "outputs": [],
   "source": [
    "#Define dimensions based on grade - present absent flag will change based on the subjects relevant to that grade\n",
    "#G2 - Maths, Language; G3,4,5 - EVS, Maths, Language; G6,7,8 - Maths, Language, SS, Science\n",
    "df = df.drop(['Language_present_absent'],axis=1)"
   ]
  },
  {
   "cell_type": "code",
   "execution_count": 24,
   "id": "239e23be",
   "metadata": {},
   "outputs": [],
   "source": [
    "df['Question'] = df['Question'].astype(np.int64)"
   ]
  },
  {
   "cell_type": "code",
   "execution_count": 25,
   "id": "63af6b03",
   "metadata": {},
   "outputs": [],
   "source": [
    "df = df.rename(columns = {'unique_id':'Child_Id','disecode':'Udise','student_name':'Child_Name'\\\n",
    "                          ,'class':'Grade','gender':'Gender','social_category':'Social_Category'\\\n",
    "                          ,'value':'Score','Subject':'Subject'\\\n",
    "                          ,'Question':'Question_no'})"
   ]
  },
  {
   "cell_type": "markdown",
   "id": "28b1ddc6",
   "metadata": {},
   "source": [
    "<h1 style=\"color:blue;\">\n",
    "    School mapping\n",
    "</h1>"
   ]
  },
  {
   "cell_type": "code",
   "execution_count": 26,
   "id": "8958afcc",
   "metadata": {},
   "outputs": [],
   "source": [
    "school_mapping = pd.read_excel('./MappingFiles/AP_SchoolMaster_DistrictMandal_Mapping.xlsx')"
   ]
  },
  {
   "cell_type": "code",
   "execution_count": 27,
   "id": "239879b0",
   "metadata": {},
   "outputs": [],
   "source": [
    "school_mapping['SCHOOLCODE'] = school_mapping['SCHOOLCODE'].astype(str)"
   ]
  },
  {
   "cell_type": "code",
   "execution_count": 28,
   "id": "50aecab0",
   "metadata": {},
   "outputs": [],
   "source": [
    "school_mapping = school_mapping.rename(columns = {'SCHOOLCODE':'Udise'})"
   ]
  },
  {
   "cell_type": "code",
   "execution_count": 29,
   "id": "001cc65b",
   "metadata": {},
   "outputs": [],
   "source": [
    "df = pd.merge(df,school_mapping,how='left',on='Udise')"
   ]
  },
  {
   "cell_type": "code",
   "execution_count": 30,
   "id": "3d4be3dd",
   "metadata": {},
   "outputs": [],
   "source": [
    "question_mapping = pd.read_csv('./MappingFiles/cba1_answer_key_with_question_info.csv')"
   ]
  },
  {
   "cell_type": "code",
   "execution_count": 31,
   "id": "fdf1664a",
   "metadata": {},
   "outputs": [],
   "source": [
    "question_mapping['subject'] =  np.where(question_mapping['subject']=='Language'\\\n",
    "                                        , question_mapping['medium']\\\n",
    "                                        , question_mapping['subject'])"
   ]
  },
  {
   "cell_type": "code",
   "execution_count": 32,
   "id": "5ad804e6",
   "metadata": {},
   "outputs": [],
   "source": [
    "question_mapping['subject'] = np.where(question_mapping['subject']=='Biology','Science'\\\n",
    "                                       ,question_mapping['subject'])"
   ]
  },
  {
   "cell_type": "code",
   "execution_count": 33,
   "id": "5dbf14b8",
   "metadata": {},
   "outputs": [],
   "source": [
    "question_mapping['subject'] = np.where(question_mapping['subject']=='Physics','Science'\\\n",
    "                                       ,question_mapping['subject'])"
   ]
  },
  {
   "cell_type": "code",
   "execution_count": 34,
   "id": "0d7d4011",
   "metadata": {},
   "outputs": [],
   "source": [
    "question_mapping = question_mapping[['class','subject','qno','skill_name','topic_name','characteristics']]"
   ]
  },
  {
   "cell_type": "code",
   "execution_count": 35,
   "id": "7bfc4fbb",
   "metadata": {},
   "outputs": [],
   "source": [
    "question_mapping.drop_duplicates(keep='first', inplace=True)"
   ]
  },
  {
   "cell_type": "code",
   "execution_count": 36,
   "id": "e157c8e9",
   "metadata": {},
   "outputs": [],
   "source": [
    "question_mapping = question_mapping.rename(columns={'class':'Grade','subject':'Subject','qno':'Question_no'})"
   ]
  },
  {
   "cell_type": "code",
   "execution_count": 37,
   "id": "aa404f29",
   "metadata": {},
   "outputs": [],
   "source": [
    "df = pd.merge(df,question_mapping,how='left',on=['Grade','Subject','Question_no'])"
   ]
  },
  {
   "cell_type": "code",
   "execution_count": 38,
   "id": "cab969e5",
   "metadata": {},
   "outputs": [],
   "source": [
    "df = df.assign(State='Andhra Pradesh')"
   ]
  },
  {
   "cell_type": "code",
   "execution_count": 39,
   "id": "96c442a1",
   "metadata": {},
   "outputs": [],
   "source": [
    "df = df.rename(columns={'SCHOOLNAME':'School','schooltype':'School_Type','Udise':'Udise'\\\n",
    "                         ,'Social_Category':'Social_Category','District ':'District'\\\n",
    "                           ,'skill_name':'Skill','topic_name':'Topic','characteristics':'Characteristic'})"
   ]
  },
  {
   "cell_type": "code",
   "execution_count": 40,
   "id": "933f43e3",
   "metadata": {
    "scrolled": true
   },
   "outputs": [],
   "source": [
    "df = df[[\n",
    "'State',\n",
    "'District',\n",
    "'Mandal',\n",
    "'School',\n",
    "'Udise',\n",
    "'School_Type',\n",
    "'Grade',\n",
    "'Child_Name',\n",
    "'Child_Id',\n",
    "'Gender',\n",
    "'Social_Category',\n",
    "'Subject',\n",
    "'Question_no',\n",
    "'Score',\n",
    "'Topic',\n",
    "'Skill',\n",
    "'Characteristic']]"
   ]
  },
  {
   "cell_type": "code",
   "execution_count": 44,
   "id": "95f12c39",
   "metadata": {},
   "outputs": [],
   "source": [
    "df.to_pickle('./CBALongPickleFiles/hindi.pkl')"
   ]
  },
  {
   "cell_type": "code",
   "execution_count": 42,
   "id": "a51c2119",
   "metadata": {},
   "outputs": [],
   "source": [
    "#df.to_csv('./CBALongFiles/CBA_G5_LongFile.csv')"
   ]
  },
  {
   "cell_type": "code",
   "execution_count": 46,
   "id": "2caf4103",
   "metadata": {},
   "outputs": [],
   "source": [
    "df = pd.DataFrame()"
   ]
  },
  {
   "cell_type": "code",
   "execution_count": null,
   "id": "099cc8b9",
   "metadata": {},
   "outputs": [],
   "source": []
  }
 ],
 "metadata": {
  "kernelspec": {
   "display_name": "Python 3 (ipykernel)",
   "language": "python",
   "name": "python3"
  },
  "language_info": {
   "codemirror_mode": {
    "name": "ipython",
    "version": 3
   },
   "file_extension": ".py",
   "mimetype": "text/x-python",
   "name": "python",
   "nbconvert_exporter": "python",
   "pygments_lexer": "ipython3",
   "version": "3.9.12"
  }
 },
 "nbformat": 4,
 "nbformat_minor": 5
}

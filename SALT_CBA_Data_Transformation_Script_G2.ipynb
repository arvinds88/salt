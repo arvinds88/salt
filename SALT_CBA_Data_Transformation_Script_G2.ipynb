{
 "cells": [
  {
   "cell_type": "code",
   "execution_count": 290,
   "id": "87353759",
   "metadata": {},
   "outputs": [],
   "source": [
    "import pandas as pd\n",
    "import numpy as np\n",
    "import os"
   ]
  },
  {
   "cell_type": "code",
   "execution_count": 291,
   "id": "b507916e",
   "metadata": {},
   "outputs": [],
   "source": [
    "os.chdir('/Users/arvind/Documents/Work/Zoho WorkDrive (Educational Initiatives Private Limited)/My Folders/Projects/SALT/Dashboards/')"
   ]
  },
  {
   "cell_type": "markdown",
   "id": "30efec0c",
   "metadata": {},
   "source": [
    "<h1 style=\"color:blue;\">\n",
    "    Raw Scores\n",
    "</h1>"
   ]
  },
  {
   "cell_type": "code",
   "execution_count": 292,
   "id": "3f475a82",
   "metadata": {},
   "outputs": [],
   "source": [
    "dfp = pd.read_csv('./CBAScoredFiles/g3.csv')"
   ]
  },
  {
   "cell_type": "code",
   "execution_count": 293,
   "id": "659a1099",
   "metadata": {},
   "outputs": [
    {
     "data": {
      "text/plain": [
       "(297453, 84)"
      ]
     },
     "execution_count": 293,
     "metadata": {},
     "output_type": "execute_result"
    }
   ],
   "source": [
    "#check\n",
    "dfp.shape"
   ]
  },
  {
   "cell_type": "code",
   "execution_count": 294,
   "id": "26576f7e",
   "metadata": {},
   "outputs": [],
   "source": [
    "#df.to_pickle('./CBAScoredFiles/cba_data_for_dashboard.pkl')"
   ]
  },
  {
   "cell_type": "code",
   "execution_count": 295,
   "id": "44259546",
   "metadata": {},
   "outputs": [],
   "source": [
    "#dfp = pd.read_pickle('./cba_data_for_dashboard.pkl')"
   ]
  },
  {
   "cell_type": "code",
   "execution_count": 303,
   "id": "b3b0f8df",
   "metadata": {},
   "outputs": [],
   "source": [
    "unwanted = ('student_id','disecode','student_name','class','section','roll_no','unique_id','gender','social_category','medium_id'\n",
    "            ,'Language_paperset','Language_jumble_set','Language_present_absent','LanguageTotal','LanguagePercentage_old','LanguagePercentage','Language_cheating_drop'\n",
    "            ,'Maths_paperset','Maths_jumble_set','Maths_present_absent','MathsTotal','MathsPercentage_old','MathsPercentage','Maths_cheating_drop'\n",
    "            ,'EVS_paperset','EVS_jumble_set','EVS_present_absent','EVSTotal','EVSPercentage_old','EVSPercentage','EVS_cheating_drop'\n",
    "            ,'Science_paperset','Science_jumble_set','Science_present_absent','ScienceTotal','SciencePercentage_old','SciencePercentage','Science_cheating_drop'\n",
    "            ,'SS_paperset','SS_jumble_set','SS_present_absent','SSTotal','SSPercentage_old','SSPercentage','SS_cheating_drop'\n",
    "           )"
   ]
  },
  {
   "cell_type": "code",
   "execution_count": 304,
   "id": "a1861839",
   "metadata": {},
   "outputs": [],
   "source": [
    "var_list = list(dfp)"
   ]
  },
  {
   "cell_type": "code",
   "execution_count": 305,
   "id": "c58f656f",
   "metadata": {},
   "outputs": [],
   "source": [
    "#EQ = EVS, MQ = Maths, LQ = Language (Telugu), SQ = Science, OQ = Social Science\n",
    "prefixes = ('Score_EQ','Score_MQ','Score_LQ','Score_SQ','Score_OQ')\n",
    "dropped = [x for x in var_list if x.startswith(prefixes)]"
   ]
  },
  {
   "cell_type": "code",
   "execution_count": 306,
   "id": "6a2b3f46",
   "metadata": {},
   "outputs": [],
   "source": [
    "dfp.drop(dropped, axis = 1 , inplace = True)"
   ]
  },
  {
   "cell_type": "code",
   "execution_count": 307,
   "id": "e6361d0f",
   "metadata": {},
   "outputs": [],
   "source": [
    "retain = [ele for ele in var_list if ele not in unwanted]"
   ]
  },
  {
   "cell_type": "code",
   "execution_count": 308,
   "id": "5e9a6c90",
   "metadata": {},
   "outputs": [],
   "source": [
    "#Define dimensions based on grade - present absent flag will change based on the subjects relevant to that grade\n",
    "#G2 - Maths, Language; G3,4,5 - EVS, Maths, Language; G6,7,8 - Maths, Language, SS, Science\n",
    "dimensions = ['student_id','disecode','student_name','class','section','roll_no'\n",
    "                                  ,'unique_id','gender','social_category','medium_id'\n",
    "                                  ,'Language_present_absent'\n",
    "                                  ,'Maths_present_absent'\n",
    "                                ]"
   ]
  },
  {
   "cell_type": "code",
   "execution_count": 309,
   "id": "fc7784c2",
   "metadata": {
    "scrolled": true
   },
   "outputs": [],
   "source": [
    "dfp_unpivot = pd.melt(dfp,id_vars = dimensions\n",
    "                        ,value_vars = retain)"
   ]
  },
  {
   "cell_type": "code",
   "execution_count": 310,
   "id": "2a6234bb",
   "metadata": {},
   "outputs": [
    {
     "data": {
      "text/plain": [
       "(8923590, 14)"
      ]
     },
     "execution_count": 310,
     "metadata": {},
     "output_type": "execute_result"
    }
   ],
   "source": [
    "#check\n",
    "dfp_unpivot.shape"
   ]
  },
  {
   "cell_type": "code",
   "execution_count": 311,
   "id": "29048bcd",
   "metadata": {},
   "outputs": [],
   "source": [
    "dfp_unpivot[['Subject','Question']] = dfp_unpivot['variable'].str.split('Q',1,expand=True)"
   ]
  },
  {
   "cell_type": "code",
   "execution_count": 312,
   "id": "717a9be2",
   "metadata": {},
   "outputs": [],
   "source": [
    "#Language mapped as Telugu for general files; English and Hindi will be separate scored files altogether\n",
    "dfp_unpivot.loc[dfp_unpivot[\"Subject\"]==\"L\",\"Subject\"]=\"Telugu\"\n",
    "dfp_unpivot.loc[dfp_unpivot[\"Subject\"]==\"M\",\"Subject\"]=\"Maths\"\n",
    "dfp_unpivot.loc[dfp_unpivot[\"Subject\"]==\"E\",\"Subject\"]=\"EVS\"\n",
    "dfp_unpivot.loc[dfp_unpivot[\"Subject\"]==\"O\",\"Subject\"]=\"SS\"\n",
    "dfp_unpivot.loc[dfp_unpivot[\"Subject\"]==\"S\",\"Subject\"]=\"Science\""
   ]
  },
  {
   "cell_type": "code",
   "execution_count": 313,
   "id": "462007de",
   "metadata": {},
   "outputs": [],
   "source": [
    "dfp_unpivot = dfp_unpivot.drop(['section','roll_no','student_id','variable'],axis=1)"
   ]
  },
  {
   "cell_type": "code",
   "execution_count": 314,
   "id": "ed585c40",
   "metadata": {},
   "outputs": [],
   "source": [
    "dfp_unpivot.fillna('',inplace = True)"
   ]
  },
  {
   "cell_type": "code",
   "execution_count": 315,
   "id": "0e763c01",
   "metadata": {},
   "outputs": [],
   "source": [
    "#Define dimensions based on grade - present absent flag will change based on the subjects relevant to that grade\n",
    "#G2 - Maths, Language; G3,4,5 - EVS, Maths, Language; G6,7,8 - Maths, Language, SS, Science\n",
    "indexELM = dfp_unpivot[(((dfp_unpivot['Language_present_absent']=='A')|(dfp_unpivot['Language_present_absent']==''))&(dfp_unpivot['Subject']=='Telugu'))|\n",
    "                       (((dfp_unpivot['Maths_present_absent']=='A')|(dfp_unpivot['Maths_present_absent']==''))&(dfp_unpivot['Subject']=='Maths'))].index\n",
    "\n",
    "dfp_unpivot.drop(indexELM, inplace=True)"
   ]
  },
  {
   "cell_type": "code",
   "execution_count": 316,
   "id": "4bfd9bf3",
   "metadata": {},
   "outputs": [
    {
     "data": {
      "text/plain": [
       "(8704845, 12)"
      ]
     },
     "execution_count": 316,
     "metadata": {},
     "output_type": "execute_result"
    }
   ],
   "source": [
    "#check\n",
    "dfp_unpivot.shape"
   ]
  },
  {
   "cell_type": "code",
   "execution_count": 317,
   "id": "26639704",
   "metadata": {},
   "outputs": [],
   "source": [
    "#Define dimensions based on grade - present absent flag will change based on the subjects relevant to that grade\n",
    "#G2 - Maths, Language; G3,4,5 - EVS, Maths, Language; G6,7,8 - Maths, Language, SS, Science\n",
    "dfp_unpivot = dfp_unpivot.drop(['Language_present_absent','Maths_present_absent'],axis=1)"
   ]
  },
  {
   "cell_type": "code",
   "execution_count": 318,
   "id": "239e23be",
   "metadata": {},
   "outputs": [],
   "source": [
    "dfp_unpivot['Question'] = dfp_unpivot['Question'].astype(np.int64)"
   ]
  },
  {
   "cell_type": "code",
   "execution_count": 319,
   "id": "63af6b03",
   "metadata": {},
   "outputs": [],
   "source": [
    "dfp_unpivot = dfp_unpivot.rename(columns = {'unique_id':'Child_Id','disecode':'Udise','student_name':'Child_Name','class':'Grade','gender':'Gender','social_category':'Social_Category','medium_id':'Medium_Id','value':'Raw_Score','Subject':'Subject','Question':'Question_no'})"
   ]
  },
  {
   "cell_type": "code",
   "execution_count": 320,
   "id": "84a3ac76",
   "metadata": {},
   "outputs": [],
   "source": [
    "dfp_unpivot.to_pickle('./CBAScoredFiles/g2_scores.pkl')"
   ]
  },
  {
   "cell_type": "markdown",
   "id": "d2eda596",
   "metadata": {},
   "source": [
    "<h1 style=\"color:blue;\">\n",
    "    Total Scores\n",
    "</h1>"
   ]
  },
  {
   "cell_type": "code",
   "execution_count": 321,
   "id": "a23e30d2",
   "metadata": {},
   "outputs": [],
   "source": [
    "dfp = pd.read_csv('./CBAScoredFiles/g2.csv')"
   ]
  },
  {
   "cell_type": "code",
   "execution_count": 322,
   "id": "a3fb6124",
   "metadata": {},
   "outputs": [
    {
     "data": {
      "text/plain": [
       "(297453, 84)"
      ]
     },
     "execution_count": 322,
     "metadata": {},
     "output_type": "execute_result"
    }
   ],
   "source": [
    "#check\n",
    "dfp.shape"
   ]
  },
  {
   "cell_type": "code",
   "execution_count": 330,
   "id": "452e947e",
   "metadata": {},
   "outputs": [],
   "source": [
    "unwanted = ('student_id','disecode','student_name','class','section','roll_no','unique_id','gender','social_category','medium_id'\n",
    "            ,'Language_paperset','Language_jumble_set','Language_present_absent','LanguageTotal','LanguagePercentage_old','LanguagePercentage','Language_cheating_drop'\n",
    "            ,'Maths_paperset','Maths_jumble_set','Maths_present_absent','MathsTotal','MathsPercentage_old','MathsPercentage','Maths_cheating_drop'\n",
    "            ,'EVS_paperset','EVS_jumble_set','EVS_present_absent','EVSTotal','EVSPercentage_old','EVSPercentage','EVS_cheating_drop'\n",
    "            ,'Science_paperset','Science_jumble_set','Science_present_absent','ScienceTotal','SciencePercentage_old','SciencePercentage','Science_cheating_drop'\n",
    "            ,'SS_paperset','SS_jumble_set','SS_present_absent','SSTotal','SSPercentage_old','SSPercentage','SS_cheating_drop'\n",
    "           )"
   ]
  },
  {
   "cell_type": "code",
   "execution_count": 331,
   "id": "399f7977",
   "metadata": {},
   "outputs": [],
   "source": [
    "var_list = list(dfp)"
   ]
  },
  {
   "cell_type": "code",
   "execution_count": 332,
   "id": "e21cf9fb",
   "metadata": {},
   "outputs": [],
   "source": [
    "#EQ = EVS, MQ = Maths, LQ = Language (Telugu), SQ = Science, OQ = Social Science\n",
    "prefixes = ('EQ','MQ','LQ','SQ','OQ')\n",
    "dropped = [x for x in var_list if x.startswith(prefixes)]"
   ]
  },
  {
   "cell_type": "code",
   "execution_count": 333,
   "id": "3a99ec3b",
   "metadata": {},
   "outputs": [],
   "source": [
    "dfp.drop(dropped, axis = 1 , inplace = True)"
   ]
  },
  {
   "cell_type": "code",
   "execution_count": 334,
   "id": "4c25d0e9",
   "metadata": {},
   "outputs": [],
   "source": [
    "retain = [ele for ele in var_list if ele not in unwanted]"
   ]
  },
  {
   "cell_type": "code",
   "execution_count": 335,
   "id": "8df1c967",
   "metadata": {},
   "outputs": [],
   "source": [
    "#Define dimensions based on grade - present absent flag will change based on the subjects relevant to that grade\n",
    "#G2 - Maths, Language; G3,4,5 - EVS, Maths, Language; G6,7,8 - Maths, Language, SS, Science\n",
    "dimensions = ['student_id','disecode','student_name','class','section','roll_no'\n",
    "                                  ,'unique_id','gender','social_category','medium_id'\n",
    "                                  ,'Language_present_absent'\n",
    "                                  ,'Maths_present_absent'\n",
    "                                ]"
   ]
  },
  {
   "cell_type": "code",
   "execution_count": 336,
   "id": "c0fd4b3a",
   "metadata": {},
   "outputs": [],
   "source": [
    "dfp_unpivot = pd.melt(dfp,id_vars = dimensions\n",
    "                        ,value_vars = retain)"
   ]
  },
  {
   "cell_type": "code",
   "execution_count": 338,
   "id": "9c97595d",
   "metadata": {},
   "outputs": [],
   "source": [
    "dfp_unpivot[['S','Q']] = dfp_unpivot['variable'].str.split('_',1,expand=True)"
   ]
  },
  {
   "cell_type": "code",
   "execution_count": 340,
   "id": "c47bacf5",
   "metadata": {},
   "outputs": [],
   "source": [
    "dfp_unpivot[['Subject','Question']] = dfp_unpivot['Q'].str.split('Q',1,expand=True)"
   ]
  },
  {
   "cell_type": "code",
   "execution_count": 341,
   "id": "b331c030",
   "metadata": {},
   "outputs": [],
   "source": [
    "#Language mapped as Telugu for general files; English and Hindi will be separate scored files altogether\n",
    "dfp_unpivot.loc[dfp_unpivot[\"Subject\"]==\"L\",\"Subject\"]=\"Telugu\"\n",
    "dfp_unpivot.loc[dfp_unpivot[\"Subject\"]==\"M\",\"Subject\"]=\"Maths\"\n",
    "dfp_unpivot.loc[dfp_unpivot[\"Subject\"]==\"E\",\"Subject\"]=\"EVS\"\n",
    "dfp_unpivot.loc[dfp_unpivot[\"Subject\"]==\"O\",\"Subject\"]=\"SS\"\n",
    "dfp_unpivot.loc[dfp_unpivot[\"Subject\"]==\"S\",\"Subject\"]=\"Science\""
   ]
  },
  {
   "cell_type": "code",
   "execution_count": 342,
   "id": "4003daa5",
   "metadata": {},
   "outputs": [],
   "source": [
    "dfp_unpivot = dfp_unpivot.drop(['section','roll_no','student_id','variable','S','Q'],axis=1)"
   ]
  },
  {
   "cell_type": "code",
   "execution_count": 343,
   "id": "3006c607",
   "metadata": {},
   "outputs": [],
   "source": [
    "dfp_unpivot.fillna('',inplace = True)"
   ]
  },
  {
   "cell_type": "code",
   "execution_count": 344,
   "id": "18a1a181",
   "metadata": {},
   "outputs": [],
   "source": [
    "#Define dimensions based on grade - present absent flag will change based on the subjects relevant to that grade\n",
    "#G2 - Maths, Language; G3,4,5 - EVS, Maths, Language; G6,7,8 - Maths, Language, SS, Science\n",
    "indexELM = dfp_unpivot[(((dfp_unpivot['Language_present_absent']=='A')|(dfp_unpivot['Language_present_absent']==''))&(dfp_unpivot['Subject']=='Telugu'))|\n",
    "                       (((dfp_unpivot['Maths_present_absent']=='A')|(dfp_unpivot['Maths_present_absent']==''))&(dfp_unpivot['Subject']=='Maths'))].index\n",
    "\n",
    "dfp_unpivot.drop(indexELM, inplace=True)"
   ]
  },
  {
   "cell_type": "code",
   "execution_count": 345,
   "id": "b85fc71e",
   "metadata": {},
   "outputs": [
    {
     "data": {
      "text/plain": [
       "(8704845, 12)"
      ]
     },
     "execution_count": 345,
     "metadata": {},
     "output_type": "execute_result"
    }
   ],
   "source": [
    "#check\n",
    "dfp_unpivot.shape"
   ]
  },
  {
   "cell_type": "code",
   "execution_count": 346,
   "id": "3d00cf82",
   "metadata": {},
   "outputs": [],
   "source": [
    "#Define dimensions based on grade - present absent flag will change based on the subjects relevant to that grade\n",
    "#G2 - Maths, Language; G3,4,5 - EVS, Maths, Language; G6,7,8 - Maths, Language, SS, Science\n",
    "dfp_unpivot = dfp_unpivot.drop(['Language_present_absent','Maths_present_absent'],axis=1)"
   ]
  },
  {
   "cell_type": "code",
   "execution_count": 347,
   "id": "8e52f6fd",
   "metadata": {},
   "outputs": [],
   "source": [
    "dfp_unpivot['Question'] = dfp_unpivot['Question'].astype(np.int64)"
   ]
  },
  {
   "cell_type": "code",
   "execution_count": 348,
   "id": "583bbeeb",
   "metadata": {},
   "outputs": [],
   "source": [
    "dfp_unpivot = dfp_unpivot.rename(columns = {'unique_id':'Child_Id','disecode':'Udise'\\\n",
    "                                            ,'student_name':'Child_Name','class':'Grade'\\\n",
    "                                            ,'gender':'Gender','social_category':'Social_Category'\\\n",
    "                                            ,'medium_id':'Medium_Id','value':'Total_Score'\\\n",
    "                                            ,'Subject':'Subject','Question':'Question_no'})"
   ]
  },
  {
   "cell_type": "code",
   "execution_count": 349,
   "id": "404e3c59",
   "metadata": {},
   "outputs": [],
   "source": [
    "dfp_unpivot.to_pickle('CBAScoredFiles/g2_raw_scores.pkl')"
   ]
  },
  {
   "cell_type": "code",
   "execution_count": 350,
   "id": "bea85e84",
   "metadata": {},
   "outputs": [],
   "source": [
    "dfp_unpivot = pd.DataFrame()"
   ]
  },
  {
   "cell_type": "markdown",
   "id": "86277b0d",
   "metadata": {},
   "source": [
    "<h1 style=\"color:blue;\">\n",
    "    Merge files\n",
    "</h1>"
   ]
  },
  {
   "cell_type": "code",
   "execution_count": 351,
   "id": "2bed60bc",
   "metadata": {},
   "outputs": [],
   "source": [
    "Scores = pd.read_pickle('./CBAScoredFiles/g2_scores.pkl')"
   ]
  },
  {
   "cell_type": "code",
   "execution_count": 352,
   "id": "f7ba7760",
   "metadata": {},
   "outputs": [],
   "source": [
    "Raw = pd.read_pickle('./CBAScoredFiles/g2_raw_scores.pkl')"
   ]
  },
  {
   "cell_type": "code",
   "execution_count": 380,
   "id": "2b5b4a89",
   "metadata": {},
   "outputs": [],
   "source": [
    "df = pd.merge(Scores, Raw, on=['Child_Id','Udise','Child_Name','Grade','Gender','Social_Category'\\\n",
    "                               ,'Medium_Id','Subject','Question_no'], suffixes=(\"\", \"\"))\n"
   ]
  },
  {
   "cell_type": "markdown",
   "id": "28b1ddc6",
   "metadata": {},
   "source": [
    "<h1 style=\"color:blue;\">\n",
    "    School mapping\n",
    "</h1>"
   ]
  },
  {
   "cell_type": "code",
   "execution_count": 381,
   "id": "8958afcc",
   "metadata": {},
   "outputs": [],
   "source": [
    "school_mapping = pd.read_excel('./MappingFiles/AP_SchoolMaster_DistrictMandal_Mapping.xlsx')"
   ]
  },
  {
   "cell_type": "code",
   "execution_count": 382,
   "id": "001cc65b",
   "metadata": {},
   "outputs": [],
   "source": [
    "df = pd.merge(df,school_mapping,how='left',left_on='Udise',right_on='SCHOOLCODE')"
   ]
  },
  {
   "cell_type": "code",
   "execution_count": 383,
   "id": "cab969e5",
   "metadata": {},
   "outputs": [],
   "source": [
    "df = df.assign(State='Andhra Pradesh',Topic='',Subtopic='',Skill='',MUA='')"
   ]
  },
  {
   "cell_type": "code",
   "execution_count": 384,
   "id": "96c442a1",
   "metadata": {},
   "outputs": [],
   "source": [
    "df = df.rename(columns={'SCHOOLNAME':'School','schooltype':'School_Type','Udise':'Udise'\\\n",
    "                                       ,'Social_Category':'Social_Category','District ':'District'})"
   ]
  },
  {
   "cell_type": "code",
   "execution_count": 385,
   "id": "1d1b1eed",
   "metadata": {},
   "outputs": [],
   "source": [
    "df = df.drop(['SCHOOLCODE','Medium_Id'],axis=1)"
   ]
  },
  {
   "cell_type": "code",
   "execution_count": 386,
   "id": "933f43e3",
   "metadata": {
    "scrolled": true
   },
   "outputs": [],
   "source": [
    "df = df[[\n",
    "'State',\n",
    "'District',\n",
    "'Mandal',\n",
    "'School',\n",
    "'Udise',\n",
    "'School_Type',\n",
    "'Grade',\n",
    "'Child_Name',\n",
    "'Child_Id',\n",
    "'Gender',\n",
    "'Social_Category',\n",
    "'Subject',\n",
    "'Question_no',\n",
    "'Total_Score',\n",
    "'Raw_Score',\n",
    "'Topic',\n",
    "'Subtopic',\n",
    "'Skill',\n",
    "'MUA']]"
   ]
  },
  {
   "cell_type": "code",
   "execution_count": 387,
   "id": "a51c2119",
   "metadata": {},
   "outputs": [],
   "source": [
    "df.to_pickle('./CBALongPickleFiles/G2.pkl')"
   ]
  },
  {
   "cell_type": "code",
   "execution_count": 387,
   "id": "427ff998",
   "metadata": {},
   "outputs": [],
   "source": [
    "# df.to_csv('./CBALongFiles/CBA_G2_LongFile.csv')"
   ]
  },
  {
   "cell_type": "code",
   "execution_count": null,
   "id": "2ddf5a3f",
   "metadata": {},
   "outputs": [],
   "source": []
  }
 ],
 "metadata": {
  "kernelspec": {
   "display_name": "Python 3 (ipykernel)",
   "language": "python",
   "name": "python3"
  },
  "language_info": {
   "codemirror_mode": {
    "name": "ipython",
    "version": 3
   },
   "file_extension": ".py",
   "mimetype": "text/x-python",
   "name": "python",
   "nbconvert_exporter": "python",
   "pygments_lexer": "ipython3",
   "version": "3.9.12"
  }
 },
 "nbformat": 4,
 "nbformat_minor": 5
}
